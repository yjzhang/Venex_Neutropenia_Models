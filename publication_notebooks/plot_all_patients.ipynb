{
 "cells": [
  {
   "cell_type": "markdown",
   "id": "bc1a85bb-c0a7-4d28-bd58-29acacd35e85",
   "metadata": {},
   "source": [
    "# Plotting model fit results for all patients\n",
    "\n",
    "Use m2c results"
   ]
  },
  {
   "cell_type": "code",
   "execution_count": null,
   "id": "6e8bff1f-4062-4d10-935b-824ea7683c14",
   "metadata": {},
   "outputs": [],
   "source": [
    "import sys\n",
    "sys.path.append('../')\n",
    "\n",
    "import numpy as np\n",
    "import pandas as pd\n",
    "import matplotlib.pyplot as plt\n",
    "\n",
    "from new_patient_model import build_pm_model_from_dataframes, extract_data_from_tables_new,\\\n",
    "        run_model, plot_data, plot_runs, calculate_errors, split_train_test,\\\n",
    "        plot_runs_area\n",
    "\n",
    "from find_map import fit_model_map, pybobyqa_wrapper\n",
    "\n",
    "from simplified_models import model_desc_m2c, build_pm_model_m2c, initialization_fn_m2c_2,\\\n",
    "          param_names_m2c, param_bounds_m2b, param_bounds_m2c, generate_dosing_component_m2\n"
   ]
  },
  {
   "cell_type": "code",
   "execution_count": null,
   "id": "6772f022-625d-495e-b76e-b8c06e4b6f1b",
   "metadata": {},
   "outputs": [],
   "source": [
    "# loading patient data\n",
    "patient_ids = np.loadtxt('../id_samples_3_cycles.txt', dtype=int)\n",
    "blood_counts = pd.read_excel('../patient_data_venex/Ven_blood_counts_16042023.xlsx', sheet_name='Blood_counts')\n",
    "bm_blasts = pd.read_excel('../patient_data_venex/Ven_blood_counts_16042023.xlsx', sheet_name='Bone_marrow_blasts')\n",
    "cycle_days = pd.read_excel('../patient_data_venex/Ven_blood_counts_16042023.xlsx', sheet_name='Cycle_days')\n",
    "\n",
    "# loading patient information\n",
    "patient_data = pd.read_csv('../patient_data_venex/ven_responses_052023.txt', sep='\\t')\n",
    "neut_blast_correlations = pd.read_csv('../neut_blast_treatment_correlations.csv', index_col=0)"
   ]
  },
  {
   "cell_type": "code",
   "execution_count": null,
   "id": "d41e920e-385f-4a24-9ffd-751d3ef6f43a",
   "metadata": {},
   "outputs": [],
   "source": [
    "m2c_param_data = pd.read_csv('../systematic_comparison_results_simplified_models/m2c_mp_param_data.csv', index_col=0)\n",
    "m2c_rmse_data = pd.read_csv('../systematic_comparison_results_simplified_models/m2c_mp_rmse_data.csv', index_col=0)\n"
   ]
  },
  {
   "cell_type": "markdown",
   "id": "6560cc85-bce7-4bf8-9e72-09cea1c620f0",
   "metadata": {},
   "source": [
    "## Plot patients"
   ]
  },
  {
   "cell_type": "code",
   "execution_count": null,
   "id": "593fd1bd-f06c-4c76-9c5e-59efdad312cf",
   "metadata": {},
   "outputs": [],
   "source": [
    "model_names = ['m2c']\n",
    "model_params = [m2c_param_data]\n",
    "model_rmses = [m2c_rmse_data]\n",
    "\n",
    "#model_names = ['m4b_wbc_only', 'm2a', 'm2b', 'm2c', 'm2d', 'm2b_wbc_only']\n",
    "#model_params = [m4b_wbc_only_param_data,\n",
    "#                m2a_param_data, m2b_param_data, m2c_param_data, m2d_param_data, m2b_wbc_only_param_data,\n",
    "#                ]\n",
    "#model_rmses = [m4b_wbc_only_rmse_data,\n",
    "#               m2a_rmse_data, m2b_rmse_data, m2c_rmse_data, m2d_rmse_data, m2b_wbc_only_rmse_data,\n",
    "#               ]"
   ]
  },
  {
   "cell_type": "code",
   "execution_count": null,
   "id": "28933d3d-0084-4531-b9a7-247ee411e716",
   "metadata": {
    "scrolled": true
   },
   "outputs": [],
   "source": [
    "# TODO: calculate frac unexplained variance using the 1 - r^2 formula\n",
    "from systematic_model_comparisons_multiprocessing import MODELS\n",
    "from new_patient_model import calculate_errors, build_pm_model_from_dataframes\n",
    "from tellurium_model_fitting import rmse, get_model_results_times\n",
    "\n",
    "data_neut_values = {}\n",
    "model_neut_values = {}\n",
    "\n",
    "for model_name, param_table, rmse_table in zip(model_names, model_params, model_rmses):\n",
    "    print()\n",
    "    print(model_name)\n",
    "    print()\n",
    "    model_neut_values[model_name] = []\n",
    "    data_neut_values[model_name] = []\n",
    "    model_functions = MODELS[model_name]\n",
    "    model_desc = model_functions['model_desc']\n",
    "    build_pm_model = model_functions['build_pm_model']\n",
    "    initialization_fn = model_functions['initialization_fn']\n",
    "    param_names = model_functions['param_names']\n",
    "    param_bounds = model_functions['param_bounds']\n",
    "    dosing_component = None\n",
    "    if 'dosing_component' in model_functions:\n",
    "        dosing_component = model_functions['dosing_component']\n",
    "    use_blasts = True\n",
    "    if 'wbc_only' in model_functions:\n",
    "        use_blasts = not model_functions['wbc_only']\n",
    "    neut_correlations = []\n",
    "    blast_correlations = []\n",
    "    # MAPE - mean absolute percentage error\n",
    "    mape_neuts = []\n",
    "    mape_blasts = []\n",
    "    for patient_id, rmse_val in rmse_table.leuk_train.items():\n",
    "        try:\n",
    "            param_vals = param_table.loc[patient_id].to_list()\n",
    "        except:\n",
    "            print(patient_id, 'params not found')\n",
    "            neut_correlations.append(np.inf)\n",
    "            blast_correlations.append(np.inf)\n",
    "            continue\n",
    "        cycle_info, leuk_table, blast_table = extract_data_from_tables_new(blood_counts,\n",
    "                                                                             bm_blasts, cycle_days, patient_id, use_neut=True)\n",
    "        te_model, pm_model = build_pm_model_from_dataframes(cycle_info, leuk_table, blast_table,\n",
    "            use_neut=True, use_b0=True,\n",
    "            model_desc=model_desc,\n",
    "            build_model_function=build_pm_model,\n",
    "            initialization=initialization_fn,\n",
    "            params_to_fit=param_names,\n",
    "            dosing_component_function=dosing_component,\n",
    "            uniform_prior=True,\n",
    "            use_initial_guess=True,\n",
    "            use_blasts=use_blasts\n",
    "            )\n",
    "        print('Patient ' + str(patient_id))\n",
    "        plot_data(None, cycle_info, leuk_table, blast_table, patient_id, save_fig=False, use_neut=True)\n",
    "        if np.isinf(rmse_val):\n",
    "            print('rmse is inf')\n",
    "            neut_correlations.append(np.inf)\n",
    "            blast_correlations.append(np.inf)\n",
    "            mape_neuts.append(np.inf)\n",
    "            continue\n",
    "        try:\n",
    "            neut_corr, blast_corr, results = calculate_errors(te_model, param_vals, cycle_info, leuk_table, blast_table,\n",
    "                                                   params_to_fit=param_names, wbc_only=not use_blasts, use_neut=True,\n",
    "                                                   initialization=initialization_fn, error_fn='corrcoef')\n",
    "        except:\n",
    "            neut_corr = np.inf\n",
    "            blast_corr = np.inf\n",
    "            results = None\n",
    "        neut_correlations.append(neut_corr)\n",
    "        blast_correlations.append(blast_corr)\n",
    "        if results is not None:\n",
    "            plot_data(results, cycle_info, leuk_table, blast_table, patient_id, save_fig=False, use_neut=True)\n",
    "            results_points = get_model_results_times(results['Xwbc'], results['time'], leuk_table.lab_date.to_numpy())\n",
    "            data_neut_values[model_name] += leuk_table.b_neut.to_list()\n",
    "            model_neut_values[model_name] += results_points\n",
    "            mape_neuts.append(rmse(results['Xwbc'], results['time'], leuk_table.b_neut.to_numpy(), leuk_table.lab_date.to_numpy(), 'mape'))\n",
    "        else:\n",
    "            mape_neuts.append(np.inf)\n",
    "        print('neut_corr:', neut_corr, 'blast_corr:', blast_corr)"
   ]
  },
  {
   "cell_type": "code",
   "execution_count": null,
   "id": "5a675796-7b83-4eb7-957f-af28e50749e4",
   "metadata": {},
   "outputs": [],
   "source": []
  }
 ],
 "metadata": {
  "kernelspec": {
   "display_name": "Python 3 (ipykernel)",
   "language": "python",
   "name": "python3"
  },
  "language_info": {
   "codemirror_mode": {
    "name": "ipython",
    "version": 3
   },
   "file_extension": ".py",
   "mimetype": "text/x-python",
   "name": "python",
   "nbconvert_exporter": "python",
   "pygments_lexer": "ipython3",
   "version": "3.10.6"
  }
 },
 "nbformat": 4,
 "nbformat_minor": 5
}
