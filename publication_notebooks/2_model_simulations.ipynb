{
 "cells": [
  {
   "cell_type": "markdown",
   "id": "811ea6e6-4857-4845-93b0-e124940f7d07",
   "metadata": {},
   "source": [
    "# Model simulations\n",
    "\n",
    "- Simulating model M2c on a given patient"
   ]
  },
  {
   "cell_type": "code",
   "execution_count": null,
   "id": "c8a6a875-763c-4c0a-bc98-4b3754b6f71c",
   "metadata": {},
   "outputs": [],
   "source": [
    "import sys\n",
    "sys.path.append('../')\n",
    "\n",
    "import pandas as pd\n",
    "import matplotlib.pyplot as plt\n",
    "\n",
    "from new_patient_model import build_pm_model_from_dataframes, extract_data_from_tables_new,\\\n",
    "        run_model, plot_data, plot_runs, calculate_errors, split_train_test,\\\n",
    "        plot_runs_area\n",
    "\n",
    "from find_map import fit_model_map, pybobyqa_wrapper\n",
    "\n",
    "from simplified_models import model_desc_m2c, build_pm_model_m2c, initialization_fn_m2c_2,\\\n",
    "          param_names_m2c, param_bounds_m2b, param_bounds_m2c, generate_dosing_component_m2\n"
   ]
  },
  {
   "cell_type": "markdown",
   "id": "d77dbde7-f34b-455b-a529-fe9e35b9865c",
   "metadata": {},
   "source": [
    "## Load data"
   ]
  },
  {
   "cell_type": "code",
   "execution_count": null,
   "id": "59185adf-e8db-4dde-8d58-e263b6795454",
   "metadata": {},
   "outputs": [],
   "source": [
    "blood_counts = pd.read_excel('../patient_data_venex/Ven_blood_counts_16042023.xlsx', sheet_name='Blood_counts')\n",
    "bm_blasts = pd.read_excel('../patient_data_venex/Ven_blood_counts_16042023.xlsx', sheet_name='Bone_marrow_blasts')\n",
    "cycle_days = pd.read_excel('../patient_data_venex/Ven_blood_counts_16042023.xlsx', sheet_name='Cycle_days')"
   ]
  },
  {
   "cell_type": "code",
   "execution_count": null,
   "id": "cc6256be-c6ef-4d28-a0e4-04a60b139d8b",
   "metadata": {},
   "outputs": [],
   "source": [
    "patient_id = 3360\n",
    "cycle_info_3360, leuk_table_3360, blast_table_3360 = extract_data_from_tables_new(blood_counts,\n",
    "                                                                             bm_blasts, cycle_days, patient_id, use_neut=True)"
   ]
  },
  {
   "cell_type": "markdown",
   "id": "c3cee362-3abe-4c2b-9043-b7c9781a0873",
   "metadata": {},
   "source": [
    "## Fit model m2c on patient 3360"
   ]
  },
  {
   "cell_type": "code",
   "execution_count": null,
   "id": "87d94b08-1e8f-434d-ac90-e7e02284d195",
   "metadata": {},
   "outputs": [],
   "source": [
    "te_model, pm_model = build_pm_model_from_dataframes(cycle_info_3360, leuk_table_3360, blast_table_3360,\n",
    "            use_neut=True, use_b0=True,\n",
    "            model_desc=model_desc_m2c,\n",
    "            build_model_function=build_pm_model_m2c,\n",
    "            initialization=initialization_fn_m2c_2,\n",
    "            dosing_component_function=generate_dosing_component_m2,\n",
    "            params_to_fit=param_names_m2c,\n",
    "            uniform_prior=True,\n",
    "            use_initial_guess=True,\n",
    "            )"
   ]
  },
  {
   "cell_type": "code",
   "execution_count": null,
   "id": "f217c689-6d14-491e-9758-6992561d2388",
   "metadata": {
    "scrolled": true
   },
   "outputs": [],
   "source": [
    "map_params = fit_model_map(pm_model, params_to_fit=param_names_m2c, maxeval=50000,\n",
    "                                   method=pybobyqa_wrapper,\n",
    "                                   bounds=param_bounds_m2c + [(0, 10), (0, 10)],\n",
    "                                   options={'maxfun':20000})"
   ]
  },
  {
   "cell_type": "code",
   "execution_count": null,
   "id": "2138e096-55eb-4ae3-b27a-aa17429c90b2",
   "metadata": {},
   "outputs": [],
   "source": [
    "print(map_params)"
   ]
  },
  {
   "cell_type": "code",
   "execution_count": null,
   "id": "321701e9-3b03-4eee-b938-21ef8cc951b6",
   "metadata": {},
   "outputs": [],
   "source": [
    "map_params = [0.2025834446002369, 0.6294352248386698, 1.7240634577648106, 4.257273026910936, 4.277725290619193, 3.5513164052429076, 0.9614561280609839, 0.7999656969989799, 0.006791400719365696, 0.13696432536443762, 0.2913871087952224]"
   ]
  },
  {
   "cell_type": "code",
   "execution_count": null,
   "id": "fcfbdfd3-6c79-40b9-abcf-64834e8e09cf",
   "metadata": {},
   "outputs": [],
   "source": [
    "map_params = [0.26987975197654174, 0.4519978202898991, 1.9448714092834245, 1.439501460545996, 4.125809961267499, 0.5859902307345868, 1.0900642328504613, 0.800163763007402, 0.036374517313301116, 0.13613399879052993, 0.4533844044740751]"
   ]
  },
  {
   "cell_type": "code",
   "execution_count": null,
   "id": "614b9a8d-0535-499a-af08-0346fcbbad12",
   "metadata": {},
   "outputs": [],
   "source": [
    "max_time = max(cycle_info_3360.days_ven_stop.max(), leuk_table_3360.days_lab.max(), blast_table_3360.days_from_bm.max()) + 20\n",
    "results = run_model(te_model, map_params, n_samples=max_time*20, max_time=max_time, params_to_fit=param_names_m2c,\n",
    "                    initialization=initialization_fn_m2c_2)\n",
    "plot_data(results, cycle_info_3360, leuk_table_3360, blast_table_3360, patient_id, save_fig=True, use_neut=True)"
   ]
  },
  {
   "cell_type": "code",
   "execution_count": null,
   "id": "174622d2-5954-4be3-93b0-6b33d2d13eb7",
   "metadata": {},
   "outputs": [],
   "source": [
    "# calculate errors for this patient\n",
    "neut_corr, blast_corr, results = calculate_errors(te_model, map_params, cycle_info_3360, leuk_table_3360, blast_table_3360,\n",
    "                                                   params_to_fit=param_names_m2c, wbc_only=False, use_neut=True,\n",
    "                                                   initialization=initialization_fn_m2c_2, error_fn='corrcoef')"
   ]
  },
  {
   "cell_type": "code",
   "execution_count": null,
   "id": "100a44ed-d32c-4fca-a1e8-1a0c1d341392",
   "metadata": {},
   "outputs": [],
   "source": [
    "print(neut_corr, blast_corr)"
   ]
  },
  {
   "cell_type": "code",
   "execution_count": null,
   "id": "05ebc83f-3ecd-4e0d-b7d5-e8eb4c165bf5",
   "metadata": {},
   "outputs": [],
   "source": [
    "fvu = 1 - neut_corr**2\n",
    "print(fvu)"
   ]
  },
  {
   "cell_type": "code",
   "execution_count": null,
   "id": "9ecc4178-e4b3-4a30-9a2c-e3f26d6df4ad",
   "metadata": {
    "scrolled": true
   },
   "outputs": [],
   "source": [
    "# Save results\n",
    "results_table = pd.DataFrame(results)\n",
    "results_table.columns = ['time', 'Xneut', 'Xblasts_obs']\n",
    "results_table.to_csv('3360_m2c_optimized_results.tsv', sep='\\t', index=None)"
   ]
  },
  {
   "cell_type": "code",
   "execution_count": null,
   "id": "d8a0f723-386e-4ec4-8e71-dff6eb402a05",
   "metadata": {},
   "outputs": [],
   "source": []
  }
 ],
 "metadata": {
  "kernelspec": {
   "display_name": "Python 3 (ipykernel)",
   "language": "python",
   "name": "python3"
  },
  "language_info": {
   "codemirror_mode": {
    "name": "ipython",
    "version": 3
   },
   "file_extension": ".py",
   "mimetype": "text/x-python",
   "name": "python",
   "nbconvert_exporter": "python",
   "pygments_lexer": "ipython3",
   "version": "3.10.6"
  }
 },
 "nbformat": 4,
 "nbformat_minor": 5
}
