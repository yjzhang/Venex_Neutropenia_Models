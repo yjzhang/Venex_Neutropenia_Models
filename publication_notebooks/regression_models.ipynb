{
 "cells": [
  {
   "cell_type": "markdown",
   "id": "96c3b279-baed-4aaf-8a47-2a9c33ecf0ec",
   "metadata": {},
   "source": [
    "# Regression predictions\n",
    "\n",
    "TODO: use some sort of regression model to predict future changes in neutrophil count. Maybe the delta neutrophil count? The neutrophil count immediately after treatment?\n",
    "\n",
    "TODO: should we use a hierarchical Bayesian model?\n",
    "\n",
    "TODO: Maybe we could start by using a very simple naive regression model for patients... regressing solely on current neutrophil count, treatment duration, and time?"
   ]
  },
  {
   "cell_type": "code",
   "execution_count": 1,
   "id": "2080b2d6-c1d1-4849-a906-e436f1151d89",
   "metadata": {},
   "outputs": [],
   "source": [
    "import sys\n",
    "sys.path.append('../')\n",
    "\n",
    "import pandas as pd\n",
    "import numpy as np\n",
    "import matplotlib.pyplot as plt\n",
    "import scipy.stats\n",
    "\n",
    "from new_patient_model import extract_data_from_tables_new"
   ]
  },
  {
   "cell_type": "markdown",
   "id": "d192df7f-5f54-4d62-86d1-a437ac160622",
   "metadata": {},
   "source": [
    "## Load data"
   ]
  },
  {
   "cell_type": "code",
   "execution_count": 2,
   "id": "904f773b-dcd2-4456-950a-4e99b4cf7479",
   "metadata": {},
   "outputs": [],
   "source": [
    "blood_counts = pd.read_excel('../patient_data_venex/Ven_blood_counts_16042023.xlsx', sheet_name='Blood_counts')\n",
    "bm_blasts = pd.read_excel('../patient_data_venex/Ven_blood_counts_16042023.xlsx', sheet_name='Bone_marrow_blasts')\n",
    "cycle_days = pd.read_excel('../patient_data_venex/Ven_blood_counts_16042023.xlsx', sheet_name='Cycle_days')\n",
    "\n",
    "patient_data = pd.read_csv('../patient_data_venex/ven_responses_052023.txt', sep='\\t')"
   ]
  },
  {
   "cell_type": "code",
   "execution_count": 3,
   "id": "7e90b664-be25-400d-828d-ca27725df041",
   "metadata": {},
   "outputs": [],
   "source": [
    "patient_ids = blood_counts['Pseudonym'].unique()"
   ]
  },
  {
   "cell_type": "markdown",
   "id": "66ac8cac-08cc-4775-9864-2f0c090ab0d9",
   "metadata": {},
   "source": [
    "## Generate deltas\n",
    "\n",
    "Predict the change from one time point to the next.\n",
    "\n",
    "Parameters: prev_neut, prev_blast (interpolated), time_treatment, time_no_treatment, ven_dose\n",
    "\n",
    "(only use venetoclax treatment)"
   ]
  },
  {
   "cell_type": "code",
   "execution_count": 4,
   "id": "be36b2fd-0126-4abb-878a-a42d258e3226",
   "metadata": {},
   "outputs": [],
   "source": [
    "all_patient_deltas = []\n",
    "patient_deltas = {}"
   ]
  },
  {
   "cell_type": "code",
   "execution_count": 5,
   "id": "f5d4a72b-c42b-4fab-b912-61833daa7962",
   "metadata": {},
   "outputs": [],
   "source": [
    "for patient_id in patient_ids:\n",
    "    cycle_info, leuk_table, blast_table = extract_data_from_tables_new(blood_counts,\n",
    "                                                        bm_blasts, cycle_days, patient_id, use_neut=True)\n",
    "    if len(leuk_table) <= 2 or len(blast_table) <= 2:\n",
    "        continue\n",
    "    # list of: (prev_neut, days_in_treatment, days_not_in_treatment, dose, prev_interp_blast, current_neut)\n",
    "    # TODO: should days_not_in_treatment include the total non-treatment days in the interval, or include the \n",
    "    patient_x = []\n",
    "\n",
    "    # interpolating blasts\n",
    "    bm_blast_interpolator = scipy.interpolate.PchipInterpolator(blast_table['days_from_bm'], blast_table['bm_blasts'])\n",
    "    lab_results_matched = leuk_table[leuk_table.days_lab <= blast_table.days_from_bm.max()].copy()\n",
    "    bm_blasts_interpolated = bm_blast_interpolator(lab_results_matched['days_lab'])\n",
    "    lab_results_matched['bm_blasts_interpolated'] = bm_blasts_interpolated\n",
    "    \n",
    "    # calculating time since end of treatment\n",
    "    last_row = None\n",
    "    for i, row in lab_results_matched.iterrows():\n",
    "        past_cycles = cycle_info[(cycle_info['days_ven_start'] < row['days_lab'])].sort_values('days_ven_stop')\n",
    "        if last_row is not None:\n",
    "            last_neut_time = last_row.days_lab\n",
    "            # is there a treatment that ends before the current time and after the last time?\n",
    "            past_cycles = past_cycles[past_cycles['days_ven_stop'] >= last_neut_time]\n",
    "            days_in_treatment = 0\n",
    "            days_not_in_treatment = row.days_lab - last_neut_time\n",
    "            dose = 0\n",
    "            if len(past_cycles) > 0:\n",
    "                past_cycles = past_cycles.reset_index()\n",
    "                last_cycle = past_cycles.iloc[-1]\n",
    "                last_end_date = last_cycle.days_ven_stop\n",
    "                last_start_date = last_cycle.days_ven_start\n",
    "                # basically this is how much the treatment interval and measurement interval overlap.\n",
    "                # if the treatment cycle starts during the interval\n",
    "                if last_start_date >= last_neut_time:\n",
    "                    if last_end_date > row.days_lab:\n",
    "                        days_in_treatment = row.days_lab - last_start_date\n",
    "                        dose = last_cycle.venetoclax_dose_mg/400\n",
    "                    else:\n",
    "                        days_in_treatment = last_end_date - last_start_date\n",
    "                # if the treatment cycle starts before the interval\n",
    "                else:\n",
    "                    if last_end_date > row.days_lab:\n",
    "                        days_in_treatment = row.days_lab - last_neut_time\n",
    "                        dose = last_cycle.venetoclax_dose_mg/400\n",
    "                    else:\n",
    "                        days_in_treatment = last_end_date - last_neut_time\n",
    "                days_not_in_treatment = days_not_in_treatment - days_in_treatment\n",
    "            else:\n",
    "                pass\n",
    "            patient_x.append((last_row.b_neut,\n",
    "                              days_in_treatment, days_not_in_treatment,\n",
    "                              dose, last_row.bm_blasts_interpolated,\n",
    "                              row.b_neut))\n",
    "        last_row = row\n",
    "    patient_deltas[patient_id] = patient_x\n",
    "    all_patient_deltas += patient_x"
   ]
  },
  {
   "cell_type": "code",
   "execution_count": 6,
   "id": "d706e37b-4184-4b93-bd90-afdb295dc5b7",
   "metadata": {},
   "outputs": [
    {
     "data": {
      "text/plain": [
       "[(0.03, 0, 1.0, 0, 80.0, 0.02),\n",
       " (0.02, 27, 0.0, 0, 76.93760110182988, 0.01),\n",
       " (0.01, 0.0, 15.0, 0, 5.347888795559381, 0.71),\n",
       " (0.71, 20, 8.0, 0, 2.5, 0.12),\n",
       " (0.12, 0, 14.0, 0, 2.5, 2.34),\n",
       " (2.34, 20, 8.0, 0, 2.5, 0.27),\n",
       " (0.27, 0, 11.0, 0, 2.5, 1.14),\n",
       " (1.14, 13, 15.0, 0, 2.5, 0.14),\n",
       " (0.14, 0, 14.0, 0, 2.5, 1.26),\n",
       " (1.26, 13, 15.0, 0, 2.5, 0.06),\n",
       " (0.06, 0, 11.0, 0, 2.5, 0.75),\n",
       " (0.75, 13, 15.0, 0, 2.5, 0.1),\n",
       " (0.1, 0, 14.0, 0, 2.5, 0.52),\n",
       " (0.52, 20, 8.0, 0, 2.5, 0.1),\n",
       " (0.1, 0, 21.0, 0, 2.5, 0.25),\n",
       " (0.25, 20, 8.0, 0, 4.324966238761668, 0.05),\n",
       " (0.05, 0, 24.0, 0, 11.331413593079814, 0.06)]"
      ]
     },
     "execution_count": 6,
     "metadata": {},
     "output_type": "execute_result"
    }
   ],
   "source": [
    "patient_deltas[3360]"
   ]
  },
  {
   "cell_type": "markdown",
   "id": "584cfc8a-1c1c-4f33-a414-2b2329d49039",
   "metadata": {},
   "source": [
    "## Regression for every patient, no train/test split"
   ]
  },
  {
   "cell_type": "code",
   "execution_count": 7,
   "id": "d4309fdf-0dec-4983-a5d5-5c0daf021e23",
   "metadata": {},
   "outputs": [],
   "source": [
    "import statsmodels.api as sm\n"
   ]
  },
  {
   "cell_type": "code",
   "execution_count": 8,
   "id": "85c31325-2940-4c27-b516-ed972233284f",
   "metadata": {},
   "outputs": [],
   "source": [
    "all_patient_results = {}\n",
    "all_r2 = {}\n",
    "all_patient_results_table = {}"
   ]
  },
  {
   "cell_type": "code",
   "execution_count": 9,
   "id": "e7e25ad7-150d-4404-ac16-0f58cce4143e",
   "metadata": {},
   "outputs": [],
   "source": [
    "for patient_id in patient_ids:\n",
    "    try:\n",
    "        data = pd.DataFrame(patient_deltas[patient_id])\n",
    "        if len(data) < 6:\n",
    "            continue\n",
    "        data.columns = ['prev_neut', 'days_in_treatment', 'days_not_in_treatment', 'dose', 'prev_interp_blast', 'current_neut']\n",
    "        X = data.iloc[:,:-1]\n",
    "        y = data.iloc[:, -1:]\n",
    "        X = sm.add_constant(X)\n",
    "        model = sm.OLS(y, X)\n",
    "        results = model.fit()\n",
    "        all_patient_results[patient_id] = results\n",
    "        all_r2[patient_id] = results.rsquared\n",
    "        rmse = np.sqrt(results.mse_total)\n",
    "        # for merging data into stuff...\n",
    "        results_table = {'blasts_train': np.inf, 'leuk_train': rmse,\n",
    "                         'neut_corr': np.sqrt(results.rsquared), 'blast_corr': 0,\n",
    "                         'neut_mape': 0,\n",
    "                         'neutropenia_balanced_accuracy': 0, 'neutropenia_f1': 0,\n",
    "                         'neutropenia_accuracy': 0, \n",
    "                         'neut_corr_2': results.rsquared, 'blast_corr_2': 0,\n",
    "                         'neut_fvu_r2': 1 - results.rsquared,\n",
    "                         'blast_fvu_r2': 1, 'frac_unexplained_variance_neut': 1 - results.rsquared,\n",
    "                         'frac_unexplained_variance_blast': 1,\n",
    "                         'model': 'reg6'}\n",
    "        all_patient_results_table[patient_id] = results_table\n",
    "    except:\n",
    "        continue"
   ]
  },
  {
   "cell_type": "code",
   "execution_count": 10,
   "id": "27593ca6-1289-485d-a624-f778f94e29b0",
   "metadata": {},
   "outputs": [],
   "source": [
    "all_patient_results_table = pd.DataFrame(all_patient_results_table).T"
   ]
  },
  {
   "cell_type": "code",
   "execution_count": 11,
   "id": "668d5cfb-8021-4518-b98e-5a229d8f82d5",
   "metadata": {},
   "outputs": [],
   "source": [
    "fvu = np.array([1 - x for x in all_r2.values()])"
   ]
  },
  {
   "cell_type": "code",
   "execution_count": 12,
   "id": "640945ef-f533-4ff4-91c8-8fbb64bcec58",
   "metadata": {},
   "outputs": [
    {
     "data": {
      "text/plain": [
       "0.5482726332282462"
      ]
     },
     "execution_count": 12,
     "metadata": {},
     "output_type": "execute_result"
    }
   ],
   "source": [
    "fvu.mean()"
   ]
  },
  {
   "cell_type": "code",
   "execution_count": 13,
   "id": "14d55226-2203-48b6-a078-6a50510e3349",
   "metadata": {},
   "outputs": [
    {
     "data": {
      "text/plain": [
       "0.5749482537536883"
      ]
     },
     "execution_count": 13,
     "metadata": {},
     "output_type": "execute_result"
    }
   ],
   "source": [
    "np.median(fvu)"
   ]
  },
  {
   "cell_type": "code",
   "execution_count": 14,
   "id": "1f5d8173-f5db-4b3e-83bc-a9c0124ce46c",
   "metadata": {},
   "outputs": [
    {
     "data": {
      "text/plain": [
       "{'whiskers': [<matplotlib.lines.Line2D at 0x7f6ab36944f0>,\n",
       "  <matplotlib.lines.Line2D at 0x7f6ab3694790>],\n",
       " 'caps': [<matplotlib.lines.Line2D at 0x7f6ab3694a30>,\n",
       "  <matplotlib.lines.Line2D at 0x7f6ab3694cd0>],\n",
       " 'boxes': [<matplotlib.lines.Line2D at 0x7f6ab3694250>],\n",
       " 'medians': [<matplotlib.lines.Line2D at 0x7f6ab3694f70>],\n",
       " 'fliers': [<matplotlib.lines.Line2D at 0x7f6ab3695210>],\n",
       " 'means': []}"
      ]
     },
     "execution_count": 14,
     "metadata": {},
     "output_type": "execute_result"
    },
    {
     "data": {
      "image/png": "[encoded data removed]",
      "text/plain": [
       "<Figure size 640x480 with 1 Axes>"
      ]
     },
     "metadata": {},
     "output_type": "display_data"
    }
   ],
   "source": [
    "plt.boxplot(fvu)"
   ]
  },
  {
   "cell_type": "markdown",
   "id": "fcd4af29-9d66-4f77-806b-e7d3a2b3a7fa",
   "metadata": {},
   "source": [
    "## Compare with ODE models"
   ]
  },
  {
   "cell_type": "code",
   "execution_count": 15,
   "id": "0b0f34cc-cd40-4ca4-bcf7-5226b4a734f6",
   "metadata": {},
   "outputs": [],
   "source": [
    "rmse_data_combined = pd.read_csv('rmse_data_combined_table_2025_05_01.csv', index_col=0)"
   ]
  },
  {
   "cell_type": "markdown",
   "id": "a70e6660-f139-4d87-86c8-94f8ec9b2740",
   "metadata": {},
   "source": [
    "### Merge table with rmse_data_combined"
   ]
  },
  {
   "cell_type": "code",
   "execution_count": 16,
   "id": "10652478-316d-4e65-85fd-a8a1447f5a7f",
   "metadata": {},
   "outputs": [],
   "source": [
    "rmse_data_combined = pd.concat([rmse_data_combined, all_patient_results_table])"
   ]
  },
  {
   "cell_type": "markdown",
   "id": "40e89136-dd76-4ec4-ba87-7097e4e417dc",
   "metadata": {},
   "source": [
    "### Plotting boxplots for FVU"
   ]
  },
  {
   "cell_type": "code",
   "execution_count": 17,
   "id": "e8babb68-617a-43ce-98de-928f08fb4c52",
   "metadata": {},
   "outputs": [],
   "source": [
    "model_subset = ['m2c', 'reg6']\n",
    "rmse_data_subset = rmse_data_combined[rmse_data_combined.model.isin(model_subset)]"
   ]
  },
  {
   "cell_type": "code",
   "execution_count": 18,
   "id": "a3225e96-3a70-49a7-9974-d4184d31f9bc",
   "metadata": {},
   "outputs": [
    {
     "data": {
      "text/plain": [
       "Text(0.5, 0.98, '')"
      ]
     },
     "execution_count": 18,
     "metadata": {},
     "output_type": "execute_result"
    },
    {
     "data": {
      "image/png": "[encoded data removed]",
      "text/plain": [
       "<Figure size 200x500 with 1 Axes>"
      ]
     },
     "metadata": {},
     "output_type": "display_data"
    }
   ],
   "source": [
    "fig, ax = plt.subplots(figsize=(2, 5))\n",
    "ax = rmse_data_subset.boxplot('neut_fvu_r2', by='model', ax=ax)\n",
    "ax.set_ylabel('FVU')\n",
    "ax.set_title('M2c vs regression FVU')\n",
    "#ax.set_ylim(0, 2)\n",
    "fig = ax.get_figure()\n",
    "fig.suptitle('')"
   ]
  },
  {
   "cell_type": "markdown",
   "id": "cbafcf5c-4a71-47a8-836c-6ad304ed4f3c",
   "metadata": {},
   "source": [
    "### Plotting boxplots for RMSE"
   ]
  },
  {
   "cell_type": "code",
   "execution_count": 19,
   "id": "067855c4-9b92-4e4a-9590-45eac5c62018",
   "metadata": {},
   "outputs": [
    {
     "data": {
      "text/plain": [
       "Text(0.5, 0.98, '')"
      ]
     },
     "execution_count": 19,
     "metadata": {},
     "output_type": "execute_result"
    },
    {
     "data": {
      "image/png": "[encoded data removed]",
      "text/plain": [
       "<Figure size 200x500 with 1 Axes>"
      ]
     },
     "metadata": {},
     "output_type": "display_data"
    }
   ],
   "source": [
    "fig, ax = plt.subplots(figsize=(2, 5))\n",
    "ax = rmse_data_subset.boxplot('leuk_train', by='model', ax=ax)\n",
    "ax.set_ylabel('RMSE')\n",
    "ax.set_title('M2c vs regression RMSE')\n",
    "#ax.set_ylim(0, 2)\n",
    "fig = ax.get_figure()\n",
    "fig.suptitle('')"
   ]
  },
  {
   "cell_type": "code",
   "execution_count": 20,
   "id": "39f09ba3-cb8b-4e07-85e3-2b7df3f7f668",
   "metadata": {},
   "outputs": [
    {
     "data": {
      "text/plain": [
       "Text(0.5, 0.98, '')"
      ]
     },
     "execution_count": 20,
     "metadata": {},
     "output_type": "execute_result"
    },
    {
     "data": {
      "image/png": "[encoded data removed]",
      "text/plain": [
       "<Figure size 200x500 with 1 Axes>"
      ]
     },
     "metadata": {},
     "output_type": "display_data"
    }
   ],
   "source": [
    "fig, ax = plt.subplots(figsize=(2, 5))\n",
    "ax = rmse_data_subset.boxplot('leuk_train', by='model', ax=ax)\n",
    "ax.set_ylabel('RMSE')\n",
    "ax.set_title('M2c vs regression RMSE')\n",
    "ax.set_ylim(0, 2)\n",
    "fig = ax.get_figure()\n",
    "fig.suptitle('')"
   ]
  },
  {
   "cell_type": "markdown",
   "id": "52ffee18-35ba-4415-873c-1132fcf65130",
   "metadata": {},
   "source": [
    "### Wilcoxon test P-values for FVU and RMSE"
   ]
  },
  {
   "cell_type": "code",
   "execution_count": 21,
   "id": "7e6f0bc6-ac29-4c85-bf3e-c59dcf0efa48",
   "metadata": {},
   "outputs": [],
   "source": [
    "m2c_data = rmse_data_subset.query('model==\"m2c\"')\n",
    "reg6_data = rmse_data_subset.query('model==\"reg6\"')\n",
    "overlapping_indices = m2c_data.index.intersection(reg6_data.index)"
   ]
  },
  {
   "cell_type": "code",
   "execution_count": 22,
   "id": "a4853d53-ec7a-4464-bb45-866830492af4",
   "metadata": {},
   "outputs": [],
   "source": [
    "stat, pval = scipy.stats.wilcoxon(m2c_data.loc[overlapping_indices].neut_fvu_r2,\n",
    "                                  reg6_data.loc[overlapping_indices].neut_fvu_r2, nan_policy='omit')"
   ]
  },
  {
   "cell_type": "code",
   "execution_count": 23,
   "id": "1b53652b-d159-4ca6-b81e-fbfda897d372",
   "metadata": {},
   "outputs": [
    {
     "data": {
      "text/plain": [
       "(739.0, 0.012466444790568954)"
      ]
     },
     "execution_count": 23,
     "metadata": {},
     "output_type": "execute_result"
    }
   ],
   "source": [
    "stat, pval"
   ]
  },
  {
   "cell_type": "code",
   "execution_count": 24,
   "id": "b6686cb7-1a9a-46fb-81ea-e40b2f9a218f",
   "metadata": {},
   "outputs": [
    {
     "data": {
      "text/plain": [
       "WilcoxonResult(statistic=315.0, pvalue=2.643525012706306e-07)"
      ]
     },
     "execution_count": 24,
     "metadata": {},
     "output_type": "execute_result"
    }
   ],
   "source": [
    "scipy.stats.wilcoxon(m2c_data.loc[overlapping_indices].leuk_train,\n",
    "                     reg6_data.loc[overlapping_indices].leuk_train, nan_policy='omit')"
   ]
  },
  {
   "cell_type": "markdown",
   "id": "4734f0ec-2b37-4976-9454-877939f4b627",
   "metadata": {},
   "source": [
    "## Train-test split per patient\n",
    "\n",
    "We will train the regression model on data from the first 5 cycles, and test on the subsequent cycles."
   ]
  },
  {
   "cell_type": "code",
   "execution_count": 25,
   "id": "f73bca42-8651-462b-b948-b80551d70ad5",
   "metadata": {},
   "outputs": [],
   "source": [
    "m2c_train_test_rmse_data = pd.read_csv('../systematic_comparison_results_simplified_models/m2c_train_test_rmse_all_data.csv', index_col=0)"
   ]
  },
  {
   "cell_type": "code",
   "execution_count": 26,
   "id": "1c3de8d8-63f1-4065-b029-51cfaf0e1f3f",
   "metadata": {},
   "outputs": [],
   "source": [
    "new_index = m2c_train_test_rmse_data.index.map(lambda x: x.split('_'))\n",
    "m2c_test_subset = m2c_train_test_rmse_data[m2c_train_test_rmse_data.index.map(lambda x: x[-1]=='5')]"
   ]
  },
  {
   "cell_type": "code",
   "execution_count": 27,
   "id": "e26c316a-3ca8-433e-a12b-da478f5e2224",
   "metadata": {},
   "outputs": [],
   "source": [
    "m2c_test_subset.index = m2c_test_subset.index.map(lambda x: int(x.split('_')[0]))"
   ]
  },
  {
   "cell_type": "code",
   "execution_count": 28,
   "id": "5f19c185-9728-4ca2-b8d0-49147f6c20eb",
   "metadata": {},
   "outputs": [],
   "source": [
    "patient_ids = m2c_test_subset.index"
   ]
  },
  {
   "cell_type": "code",
   "execution_count": 29,
   "id": "5b2d26f6-2e62-425b-ad08-21bba156939e",
   "metadata": {},
   "outputs": [],
   "source": [
    "from new_patient_model import split_cycles"
   ]
  },
  {
   "cell_type": "code",
   "execution_count": 30,
   "id": "3433a45e-7834-4637-ab2d-9f9b1d3fcad5",
   "metadata": {},
   "outputs": [
    {
     "name": "stdout",
     "output_type": "stream",
     "text": [
      "Warning: possibly not enough data for patient -  7 cycles\n",
      "Warning: possibly not enough data for patient -  7 cycles\n",
      "Warning: possibly not enough data for patient -  7 cycles\n",
      "Warning: possibly not enough data for patient -  7 cycles\n"
     ]
    }
   ],
   "source": [
    "# load data\n",
    "all_patients_train_data = {}\n",
    "all_patients_test_data = {}\n",
    "all_patients_additional_data = {}\n",
    "for patient_id in patient_ids:\n",
    "    cycle_info, leuk_table, blast_table = extract_data_from_tables_new(blood_counts,\n",
    "                                                        bm_blasts, cycle_days, patient_id, use_neut=True)\n",
    "\n",
    "    if len(leuk_table) <= 2 or len(blast_table) <= 2:\n",
    "        continue\n",
    "    # list of: (prev_neut, days_in_treatment, days_not_in_treatment, dose, prev_interp_blast, current_neut)\n",
    "    # TODO: should days_not_in_treatment include the total non-treatment days in the interval, or include the \n",
    "    patient_train = []\n",
    "    patient_test = []\n",
    "    patient_additional = []\n",
    "\n",
    "    # interpolating blasts\n",
    "    bm_blast_interpolator = scipy.interpolate.PchipInterpolator(blast_table['days_from_bm'], blast_table['bm_blasts'])\n",
    "    lab_results_matched = leuk_table[leuk_table.days_lab <= blast_table.days_from_bm.max()].copy()\n",
    "    bm_blasts_interpolated = bm_blast_interpolator(lab_results_matched['days_lab'])\n",
    "    lab_results_matched['bm_blasts_interpolated'] = bm_blasts_interpolated\n",
    "\n",
    "    leuk_train, leuk_test, blast_train, blast_test, leuk_rem, blast_rem = split_cycles(lab_results_matched,\n",
    "                                                                                       blast_table,\n",
    "                                                                                       cycle_info,\n",
    "                                                             n_cycles_train=5, n_cycles_test=2)\n",
    "    if len(leuk_test) == 0:\n",
    "        print(f'Patient {patient_id}: lack of test data')\n",
    "        print(len(leuk_table), len(lab_results_matched))\n",
    "        continue\n",
    "    # calculating time since end of treatment\n",
    "    last_row = None\n",
    "    i = 0\n",
    "    table_index = 0\n",
    "    # figure out if we're in the train, test, or additional tables\n",
    "    current_table = leuk_train.copy().reset_index()\n",
    "    status = 'train'\n",
    "    while i < lab_results_matched.shape[0]:\n",
    "        row = current_table.loc[table_index]\n",
    "        past_cycles = cycle_info[(cycle_info['days_ven_start'] < row['days_lab'])].sort_values('days_ven_stop')\n",
    "        if last_row is not None:\n",
    "            last_neut_time = last_row.days_lab\n",
    "            # is there a treatment that ends before the current time and after the last time?\n",
    "            past_cycles = past_cycles[past_cycles['days_ven_stop'] >= last_neut_time]\n",
    "            days_in_treatment = 0\n",
    "            days_not_in_treatment = row.days_lab - last_neut_time\n",
    "            dose = 0\n",
    "            if len(past_cycles) > 0:\n",
    "                past_cycles = past_cycles.reset_index()\n",
    "                last_cycle = past_cycles.iloc[-1]\n",
    "                last_end_date = last_cycle.days_ven_stop\n",
    "                last_start_date = last_cycle.days_ven_start\n",
    "                # basically this is how much the treatment interval and measurement interval overlap.\n",
    "                # if the treatment cycle starts during the interval\n",
    "                if last_start_date >= last_neut_time:\n",
    "                    if last_end_date > row.days_lab:\n",
    "                        days_in_treatment = row.days_lab - last_start_date\n",
    "                        dose = last_cycle.venetoclax_dose_mg/400\n",
    "                    else:\n",
    "                        days_in_treatment = last_end_date - last_start_date\n",
    "                # if the treatment cycle starts before the interval\n",
    "                else:\n",
    "                    if last_end_date > row.days_lab:\n",
    "                        days_in_treatment = row.days_lab - last_neut_time\n",
    "                        dose = last_cycle.venetoclax_dose_mg/400\n",
    "                    else:\n",
    "                        days_in_treatment = last_end_date - last_neut_time\n",
    "                days_not_in_treatment = days_not_in_treatment - days_in_treatment\n",
    "            else:\n",
    "                pass\n",
    "            new_x = (last_row.b_neut,\n",
    "                              days_in_treatment, days_not_in_treatment,\n",
    "                              dose, last_row.bm_blasts_interpolated,\n",
    "                              row.b_neut)\n",
    "            if status == 'train':\n",
    "                patient_train.append(new_x)\n",
    "            elif status == 'test':\n",
    "                patient_test.append(new_x)\n",
    "            elif status == 'additional':\n",
    "                patient_additional.append(new_x)\n",
    "        i += 1\n",
    "        table_index += 1\n",
    "        if i >= len(leuk_train) and status == 'train':\n",
    "            status = 'test'\n",
    "            current_table = leuk_test.reset_index()\n",
    "            table_index = 0\n",
    "        elif i >= len(leuk_train) + len(leuk_test) and status == 'test':\n",
    "            status = 'additional'\n",
    "            current_table = leuk_rem.reset_index()\n",
    "            table_index = 0\n",
    "        last_row = row\n",
    "    all_patients_train_data[patient_id] = patient_train\n",
    "    all_patients_test_data[patient_id] = patient_test\n",
    "    all_patients_additional_data[patient_id] = patient_additional"
   ]
  },
  {
   "cell_type": "markdown",
   "id": "2116b63b-6b82-4ede-b75a-0e7d53952aa7",
   "metadata": {},
   "source": [
    "## Test regression for train-test split"
   ]
  },
  {
   "cell_type": "code",
   "execution_count": 31,
   "id": "ecdf4eca-a59e-4100-a6be-cacc049e4fb4",
   "metadata": {},
   "outputs": [],
   "source": [
    "from sklearn.metrics import mean_squared_error"
   ]
  },
  {
   "cell_type": "code",
   "execution_count": 32,
   "id": "c79d286e-7b29-466e-b258-694d1d5a6112",
   "metadata": {},
   "outputs": [],
   "source": [
    "data_train = pd.DataFrame(all_patients_train_data[patient_id])"
   ]
  },
  {
   "cell_type": "code",
   "execution_count": 33,
   "id": "7084455c-5051-411d-8cf6-dc4c662aa49c",
   "metadata": {},
   "outputs": [],
   "source": [
    "data_train = pd.DataFrame(all_patients_train_data[patient_id])\n",
    "data_train.columns = ['prev_neut', 'days_in_treatment', 'days_not_in_treatment', 'dose', 'prev_interp_blast', 'current_neut']\n",
    "X = data_train.iloc[:,:-1]\n",
    "y = data_train.iloc[:, -1:]\n",
    "X = sm.add_constant(X)\n",
    "model = sm.OLS(y, X)\n",
    "results = model.fit()\n",
    "\n",
    "data_test = pd.DataFrame(all_patients_test_data[patient_id])\n",
    "data_test.columns = ['prev_neut', 'days_in_treatment', 'days_not_in_treatment', 'dose', 'prev_interp_blast', 'current_neut']\n",
    "X_test = data_test.iloc[:,:-1]\n",
    "y_test = data_test.iloc[:, -1:].to_numpy().flatten()\n",
    "X_test = sm.add_constant(X_test, has_constant='add')\n",
    "y_predict_test = model.predict(results.params, exog=X_test)\n",
    "r, pv = scipy.stats.pearsonr(y_test, y_predict_test)\n",
    "rmse = np.sqrt(mean_squared_error(y_test, y_predict_test))\n",
    "\n",
    "data_add = pd.DataFrame(all_patients_additional_data[patient_id])\n",
    "data_add.columns = ['prev_neut', 'days_in_treatment', 'days_not_in_treatment', 'dose', 'prev_interp_blast', 'current_neut']\n",
    "X_test = data_add.iloc[:,:-1]\n",
    "y_test = data_add.iloc[:, -1:].to_numpy().flatten()\n",
    "X_test = sm.add_constant(X_test, has_constant='add')\n",
    "y_predict_test = model.predict(results.params, exog=X_test)\n",
    "r, pv = scipy.stats.pearsonr(y_test, y_predict_test)\n",
    "rmse = np.sqrt(mean_squared_error(y_test, y_predict_test))"
   ]
  },
  {
   "cell_type": "code",
   "execution_count": null,
   "id": "bd18befc-f2ce-4e24-a14e-45923990ed30",
   "metadata": {},
   "outputs": [],
   "source": []
  },
  {
   "cell_type": "code",
   "execution_count": 34,
   "id": "0fe16106-0d2b-4917-bcb7-4be9c623aff8",
   "metadata": {},
   "outputs": [],
   "source": [
    "all_patient_train_results = {}\n",
    "all_train_r2 = {}\n",
    "all_patient_train_results_table = {}\n",
    "\n",
    "all_test_r2 = {}\n",
    "all_patient_test_results_table = {}\n",
    "\n",
    "all_additional_r2 = {}\n",
    "all_patient_additional_results_table = {}"
   ]
  },
  {
   "cell_type": "code",
   "execution_count": 35,
   "id": "885faa33-0fb8-4409-b4b7-aad0e71db04b",
   "metadata": {},
   "outputs": [
    {
     "name": "stdout",
     "output_type": "stream",
     "text": [
      "3841 Error Length mismatch: Expected axis has 0 elements, new values have 6 elements\n",
      "8205 Error x and y must have length at least 2.\n",
      "1978 Error x and y must have length at least 2.\n"
     ]
    }
   ],
   "source": [
    "for patient_id in patient_ids:\n",
    "    try:\n",
    "        data_train = pd.DataFrame(all_patients_train_data[patient_id])\n",
    "        data_train.columns = ['prev_neut', 'days_in_treatment', 'days_not_in_treatment', 'dose', 'prev_interp_blast', 'current_neut']\n",
    "        X = data_train.iloc[:,:-1]\n",
    "        y = data_train.iloc[:, -1:]\n",
    "        X = sm.add_constant(X)\n",
    "        model = sm.OLS(y, X)\n",
    "        results = model.fit()\n",
    "        all_patient_train_results[patient_id] = results\n",
    "        all_train_r2[patient_id] = results.rsquared\n",
    "        rmse = np.sqrt(results.mse_total)\n",
    "        # for merging data into stuff...\n",
    "        train_results_table = {'blasts_train': np.inf, 'leuk_train': rmse,\n",
    "                         'neut_corr': np.sqrt(results.rsquared), 'blast_corr': 0,\n",
    "                         'neut_corr_2': results.rsquared, 'blast_corr_2': 0,\n",
    "                         'neut_fvu_r2': 1 - results.rsquared,\n",
    "                         'blast_fvu_r2': 1, 'frac_unexplained_variance_neut': 1 - results.rsquared,\n",
    "                         'frac_unexplained_variance_blast': 1,\n",
    "                         'model': 'reg6'}\n",
    "        all_patient_train_results_table[patient_id] = train_results_table\n",
    "\n",
    "        # TODO: run test/additional\n",
    "        data_test = pd.DataFrame(all_patients_test_data[patient_id])\n",
    "        data_test.columns = ['prev_neut', 'days_in_treatment', 'days_not_in_treatment', 'dose', 'prev_interp_blast', 'current_neut']\n",
    "        X_test = data_test.iloc[:,:-1]\n",
    "        y_test = data_test.iloc[:, -1:].to_numpy().flatten()\n",
    "        X_test = sm.add_constant(X_test, has_constant='add')\n",
    "        y_predict_test = model.predict(results.params, exog=X_test)\n",
    "        r, pv = scipy.stats.pearsonr(y_test, y_predict_test)\n",
    "        rmse = np.sqrt(mean_squared_error(y_test, y_predict_test))\n",
    "        test_results_table = {'blasts_train': np.inf, 'leuk_train': rmse,\n",
    "                         'neut_corr': r, 'blast_corr': 0,\n",
    "                         'neut_corr_2': r**2, 'blast_corr_2': 0,\n",
    "                         'neut_fvu_r2': 1 - r**2,\n",
    "                         'blast_fvu_r2': 1, 'frac_unexplained_variance_neut': 1 - r**2,\n",
    "                         'frac_unexplained_variance_blast': 1,\n",
    "                         'model': 'reg6'}\n",
    "        all_patient_test_results_table[patient_id] = test_results_table\n",
    "        \n",
    "        data_add = pd.DataFrame(all_patients_additional_data[patient_id])\n",
    "        data_add.columns = ['prev_neut', 'days_in_treatment', 'days_not_in_treatment', 'dose', 'prev_interp_blast', 'current_neut']\n",
    "        X_test = data_add.iloc[:,:-1]\n",
    "        y_test = data_add.iloc[:, -1:].to_numpy().flatten()\n",
    "        X_test = sm.add_constant(X_test, has_constant='add')\n",
    "        y_predict_test = model.predict(results.params, exog=X_test)\n",
    "        r, pv = scipy.stats.pearsonr(y_test, y_predict_test)\n",
    "        rmse = np.sqrt(mean_squared_error(y_test, y_predict_test))\n",
    "        additional_results_table = {'blasts_train': np.inf, 'leuk_train': rmse,\n",
    "                         'neut_corr': r, 'blast_corr': 0,\n",
    "                         'neut_corr_2': r**2, 'blast_corr_2': 0,\n",
    "                         'neut_fvu_r2': 1 - r**2,\n",
    "                         'blast_fvu_r2': 1, 'frac_unexplained_variance_neut': 1 - r**2,\n",
    "                         'frac_unexplained_variance_blast': 1,\n",
    "                         'model': 'reg6'}\n",
    "        all_patient_additional_results_table[patient_id] = additional_results_table\n",
    "    except Exception as e:\n",
    "        print(patient_id, 'Error', e)"
   ]
  },
  {
   "cell_type": "code",
   "execution_count": 36,
   "id": "05290320-0451-4aa7-a5a1-94b76c2360e8",
   "metadata": {},
   "outputs": [],
   "source": [
    "all_patient_train_results_table = pd.DataFrame(all_patient_train_results_table).T\n",
    "all_patient_test_results_table = pd.DataFrame(all_patient_test_results_table).T\n",
    "all_patient_additional_results_table = pd.DataFrame(all_patient_additional_results_table).T"
   ]
  },
  {
   "cell_type": "markdown",
   "id": "5da84851-6b95-48e9-92bc-32742cfb31f0",
   "metadata": {},
   "source": []
  },
  {
   "cell_type": "markdown",
   "id": "49d91151-70c8-49c8-9981-cd017709f37e",
   "metadata": {},
   "source": [
    "## Comparing train/test with M2c"
   ]
  },
  {
   "cell_type": "code",
   "execution_count": 37,
   "id": "9a47b438-4be4-40a5-ae51-7329931e278c",
   "metadata": {},
   "outputs": [],
   "source": [
    "patient_cycle_train_table = pd.read_csv('patient_cycle_train_table.csv', index_col=0)\n",
    "patient_cycle_test_table = pd.read_csv('patient_cycle_test_table.csv', index_col=0)\n",
    "patient_cycle_additional_table = pd.read_csv('patient_cycle_additional_table.csv', index_col=0)"
   ]
  },
  {
   "cell_type": "code",
   "execution_count": 38,
   "id": "97d42d1a-6661-42b1-8705-a2d6c5dfa9e8",
   "metadata": {},
   "outputs": [],
   "source": [
    "patient_train_table_combined = pd.DataFrame([patient_cycle_train_table.loc[:, '5'],\n",
    "                                             all_patient_train_results_table.loc[:, 'leuk_train']]).T\n",
    "patient_train_table_combined.columns = ['m2c', 'reg6']\n",
    "patient_test_table_combined = pd.DataFrame([patient_cycle_test_table.loc[:, '5'],\n",
    "                                             all_patient_test_results_table.loc[:, 'leuk_train']]).T\n",
    "patient_test_table_combined.columns = ['m2c', 'reg6']\n",
    "\n",
    "patient_additional_table_combined = pd.DataFrame([patient_cycle_additional_table.loc[:, '5'],\n",
    "                                             all_patient_additional_results_table.loc[:, 'leuk_train']]).T\n",
    "patient_additional_table_combined.columns = ['m2c', 'reg6']\n"
   ]
  },
  {
   "cell_type": "code",
   "execution_count": 39,
   "id": "d1beea06-4218-4c8f-a3b0-98b8a205118a",
   "metadata": {},
   "outputs": [],
   "source": [
    "# combine the tables\n",
    "train_data_long = patient_train_table_combined.melt(ignore_index=False)\n",
    "train_data_long.columns = ['model', 'rmse']\n",
    "train_data_long['comparison'] = 'train'\n",
    "\n",
    "test_data_long = patient_test_table_combined.melt(ignore_index=False)\n",
    "test_data_long.columns = ['model', 'rmse']\n",
    "test_data_long['comparison'] = 'short-term test'\n",
    "\n",
    "additional_data_long = patient_additional_table_combined.melt(ignore_index=False)\n",
    "additional_data_long.columns = ['model', 'rmse']\n",
    "additional_data_long['comparison'] = 'long-term test'\n",
    "\n",
    "concatenated_data_long = pd.concat([train_data_long, test_data_long, additional_data_long]).reset_index()"
   ]
  },
  {
   "cell_type": "code",
   "execution_count": 40,
   "id": "22005e10-022a-4b23-bacd-4a60306b7622",
   "metadata": {},
   "outputs": [],
   "source": [
    "import seaborn as sns"
   ]
  },
  {
   "cell_type": "code",
   "execution_count": 43,
   "id": "c2afa89f-0159-4bbb-9859-62eeedcdb7e9",
   "metadata": {},
   "outputs": [
    {
     "data": {
      "image/png": "[encoded data removed]",
      "text/plain": [
       "<Figure size 450x500 with 1 Axes>"
      ]
     },
     "metadata": {},
     "output_type": "display_data"
    }
   ],
   "source": [
    "fig, ax = plt.subplots(figsize=(4.5, 5))\n",
    "ax = sns.boxplot(data=concatenated_data_long, x='comparison', y='rmse', hue='model', ax=ax)\n",
    "ax.grid()\n",
    "#ax.set_title('RMSEs for different numbers of training cycles')\n",
    "ax.set_ylabel('RMSE')\n",
    "ax.set_xlabel('Treatment cycles for training')\n",
    "plt.tight_layout()\n",
    "plt.show()"
   ]
  },
  {
   "cell_type": "code",
   "execution_count": 45,
   "id": "25633a34-d191-4da4-bd9c-a767ac002f01",
   "metadata": {},
   "outputs": [
    {
     "data": {
      "text/plain": [
       "WilcoxonResult(statistic=131.0, pvalue=0.011802620720118284)"
      ]
     },
     "execution_count": 45,
     "metadata": {},
     "output_type": "execute_result"
    }
   ],
   "source": [
    "scipy.stats.wilcoxon(patient_test_table_combined.m2c,\n",
    "                     patient_test_table_combined.reg6, nan_policy='omit')"
   ]
  },
  {
   "cell_type": "code",
   "execution_count": 46,
   "id": "a8eb48b1-dbf0-45c1-86d2-6b445c94d63f",
   "metadata": {},
   "outputs": [
    {
     "data": {
      "text/plain": [
       "WilcoxonResult(statistic=211.0, pvalue=0.6701805889606476)"
      ]
     },
     "execution_count": 46,
     "metadata": {},
     "output_type": "execute_result"
    }
   ],
   "source": [
    "scipy.stats.wilcoxon(patient_additional_table_combined.m2c,\n",
    "                     patient_additional_table_combined.reg6, nan_policy='omit')"
   ]
  },
  {
   "cell_type": "code",
   "execution_count": 47,
   "id": "11f6cd47-4210-4446-bb50-f7c8bd5942db",
   "metadata": {},
   "outputs": [
    {
     "data": {
      "text/plain": [
       "WilcoxonResult(statistic=1.0, pvalue=4.656612873077393e-10)"
      ]
     },
     "execution_count": 47,
     "metadata": {},
     "output_type": "execute_result"
    }
   ],
   "source": [
    "scipy.stats.wilcoxon(patient_train_table_combined.m2c,\n",
    "                     patient_train_table_combined.reg6, nan_policy='omit')"
   ]
  },
  {
   "cell_type": "markdown",
   "id": "6c4c453d-af2a-4a73-9c96-c9a54482f053",
   "metadata": {},
   "source": [
    "The regression model uses the neutrophil and blast counts at the previous time point as an independent variable, which includes the time points after the model fitting ended, which are not used at all in m2c. "
   ]
  },
  {
   "cell_type": "code",
   "execution_count": null,
   "id": "f25adf79-ce81-4cdb-9e94-8b01facba6bc",
   "metadata": {},
   "outputs": [],
   "source": []
  },
  {
   "cell_type": "code",
   "execution_count": null,
   "id": "a2567ce2-a602-4254-9757-43fe7df0e5af",
   "metadata": {},
   "outputs": [],
   "source": []
  }
 ],
 "metadata": {
  "kernelspec": {
   "display_name": "Python 3 (ipykernel)",
   "language": "python",
   "name": "python3"
  },
  "language_info": {
   "codemirror_mode": {
    "name": "ipython",
    "version": 3
   },
   "file_extension": ".py",
   "mimetype": "text/x-python",
   "name": "python",
   "nbconvert_exporter": "python",
   "pygments_lexer": "ipython3",
   "version": "3.10.6"
  }
 },
 "nbformat": 4,
 "nbformat_minor": 5
}
