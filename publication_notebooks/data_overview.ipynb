{
 "cells": [
  {
   "cell_type": "markdown",
   "id": "5c2e5608-7586-4880-81c1-78d87b3d8205",
   "metadata": {},
   "source": [
    "## Data Overview\n",
    "\n",
    "Compare summary stats for the overall VenEx data, the subset of data used in modeling, and the subset of data used for train/test split."
   ]
  },
  {
   "cell_type": "code",
   "execution_count": 68,
   "id": "ddeed8f5-c778-4ee7-a092-b797fb97d2dc",
   "metadata": {},
   "outputs": [],
   "source": [
    "import sys\n",
    "sys.path.append('../')\n",
    "\n",
    "import numpy as np\n",
    "import pandas as pd\n",
    "import matplotlib.pyplot as plt"
   ]
  },
  {
   "cell_type": "code",
   "execution_count": 69,
   "id": "0d6d9821-f842-4481-ac6c-b0eb473a4640",
   "metadata": {},
   "outputs": [],
   "source": [
    "from new_patient_model import extract_data_from_tables_new"
   ]
  },
  {
   "cell_type": "markdown",
   "id": "a3c15083-b79e-4b55-85eb-5d637c31faab",
   "metadata": {},
   "source": [
    "## Load data"
   ]
  },
  {
   "cell_type": "code",
   "execution_count": 70,
   "id": "be24219e-a6ad-4cb6-a50a-0df1a3c90cb6",
   "metadata": {},
   "outputs": [],
   "source": [
    "patient_data = pd.read_csv('../patient_data_venex/ven_responses_052023.txt', sep='\\t')\n",
    "patient_data.index = patient_data.Study_subject_Id"
   ]
  },
  {
   "cell_type": "code",
   "execution_count": 71,
   "id": "bff70f64-601a-4793-941c-735c79908189",
   "metadata": {},
   "outputs": [],
   "source": [
    "blood_counts = pd.read_excel('../patient_data_venex/Ven_blood_counts_16042023.xlsx', sheet_name='Blood_counts')\n",
    "bm_blasts = pd.read_excel('../patient_data_venex/Ven_blood_counts_16042023.xlsx', sheet_name='Bone_marrow_blasts')\n",
    "cycle_days = pd.read_excel('../patient_data_venex/Ven_blood_counts_16042023.xlsx', sheet_name='Cycle_days')"
   ]
  },
  {
   "cell_type": "code",
   "execution_count": 72,
   "id": "eb480cd3-2d3a-4458-b693-ea9b939b8ba0",
   "metadata": {},
   "outputs": [],
   "source": [
    "# load data on model assumptions/hypotheses\n",
    "neut_blast_correlations = pd.read_csv('neut_blast_treatment_correlations_2025_05_09.csv', index_col=0)"
   ]
  },
  {
   "cell_type": "code",
   "execution_count": 73,
   "id": "ccb872eb-11e1-46c2-a4d3-6ebd76b43ba4",
   "metadata": {},
   "outputs": [],
   "source": [
    "rmse_data_combined = pd.read_csv('rmse_data_combined_table_2025_05_01.csv', index_col=0)"
   ]
  },
  {
   "cell_type": "code",
   "execution_count": 74,
   "id": "08fae1a0-cf25-41be-9d4d-f2d36856dd4a",
   "metadata": {},
   "outputs": [],
   "source": [
    "patient_cycle_train_table = pd.read_csv('patient_cycle_train_table.csv', index_col=0)\n",
    "patient_cycle_test_table = pd.read_csv('patient_cycle_test_table.csv', index_col=0)\n",
    "patient_cycle_additional_table = pd.read_csv('patient_cycle_additional_table.csv', index_col=0)"
   ]
  },
  {
   "cell_type": "code",
   "execution_count": 75,
   "id": "6ce32d4a-38da-46bf-9528-bc234ed0a7f9",
   "metadata": {},
   "outputs": [
    {
     "data": {
      "text/plain": [
       "Index(['Study_subject_Id', 'incl_dg_for_tables', 'no_ven_therapy', 'prev_allo',\n",
       "       'prev_hypomet_all', 'Gender', 'age_group_scr', 'ecog_scr', 'hb_scr',\n",
       "       'leuk_scr', 'neut_all_scr', 'trom_scr', 'ld_scr', 'b_blasts_scr',\n",
       "       'blasts_bm_scr', 'fab', 'del_5', 'del_5q', 'del_7', 'del_7q', 'del_17p',\n",
       "       'complex', 'monosomal', 'HR_karyotype', 'karyotype_normal', 'NPM1',\n",
       "       'FLT3_tkd', 'FLT3_itd', 'FLT3_rat', 'CEBPA', 'DNMT3A', 'IDH1', 'IDH2',\n",
       "       'TET2', 'RUNX1', 'SRSF2', 'TP53', 'ASXL1', 'BCOR', 'CDKN2A', 'CREBBP',\n",
       "       'CUX1', 'EP300', 'ETV6', 'EZH2', 'GATA2', 'KDM6A', 'NF1', 'RAD21',\n",
       "       'SETD2', 'STAG2', 'XRSR2', 'BRAF', 'CALR', 'CBL', 'CSF3R', 'GATA1',\n",
       "       'JAK2', 'KIT', 'KRAS', 'NRAS', 'MPL', 'PDGFRA', 'PHF6', 'PTPN11',\n",
       "       'SETBP1', 'SF3B1', 'SMC1A', 'SMC3', 'U2AF1', 'WT1', 'c1_response',\n",
       "       'c2_response', 'c3_response', 'best_response', 'mrd_neg', 'mrd_method',\n",
       "       'relapse_occurred', 'eot_reason', 'eot_response', 'status',\n",
       "       'OS_time_ven2_days', 'PFS_time_days'],\n",
       "      dtype='object')"
      ]
     },
     "execution_count": 75,
     "metadata": {},
     "output_type": "execute_result"
    }
   ],
   "source": [
    "patient_data.columns"
   ]
  },
  {
   "cell_type": "code",
   "execution_count": 76,
   "id": "3365e3b4-b46c-404c-8d85-88b2da41f713",
   "metadata": {},
   "outputs": [
    {
     "data": {
      "text/plain": [
       "no_ven_therapy\n",
       "No     92\n",
       "Yes    12\n",
       "Name: Study_subject_Id, dtype: int64"
      ]
     },
     "execution_count": 76,
     "metadata": {},
     "output_type": "execute_result"
    }
   ],
   "source": [
    "patient_data.groupby('no_ven_therapy').agg('count')['Study_subject_Id']"
   ]
  },
  {
   "cell_type": "code",
   "execution_count": 77,
   "id": "a55e9998-f9ae-493c-9aa6-e9918477cb64",
   "metadata": {},
   "outputs": [
    {
     "data": {
      "text/plain": [
       "mrd_neg\n",
       "#NULL!           32\n",
       "No               31\n",
       "Not available    11\n",
       "Yes              30\n",
       "Name: Study_subject_Id, dtype: int64"
      ]
     },
     "execution_count": 77,
     "metadata": {},
     "output_type": "execute_result"
    }
   ],
   "source": [
    "patient_data.groupby('mrd_neg').agg('count')['Study_subject_Id']"
   ]
  },
  {
   "cell_type": "markdown",
   "id": "8d34f278-d067-4ba5-9ac7-b55e3b0fafb3",
   "metadata": {},
   "source": [
    "## Calculate the number of observations for each patient"
   ]
  },
  {
   "cell_type": "code",
   "execution_count": 78,
   "id": "1685ad61-8299-427f-b85b-487912c2d2b6",
   "metadata": {},
   "outputs": [],
   "source": [
    "all_patient_observation_counts = {}\n",
    "for patient_id in patient_data.index:\n",
    "    cycle_info, leuk_table, blast_table = extract_data_from_tables_new(blood_counts,\n",
    "                                                        bm_blasts, cycle_days, patient_id, use_neut=True)\n",
    "    obs_counts = {}\n",
    "    obs_counts['neut'] = len(leuk_table)\n",
    "    obs_counts['blast'] = len(blast_table)\n",
    "    obs_counts['cycle'] = len(cycle_info)\n",
    "    obs_counts['neut_min'] = leuk_table.b_neut.min()\n",
    "    obs_counts['neut_max'] = leuk_table.b_neut.max()\n",
    "    obs_counts['neut_med'] = leuk_table.b_neut.median()\n",
    "    obs_counts['neut_below_05'] = leuk_table.b_neut.min() < 0.5\n",
    "    obs_counts['blast_min'] = blast_table.bm_blasts.min()\n",
    "    obs_counts['blast_max'] = blast_table.bm_blasts.max()\n",
    "    obs_counts['blast_med'] = blast_table.bm_blasts.median()\n",
    "    obs_counts['blast_below_5'] = blast_table.bm_blasts.min() < 5\n",
    "    all_patient_observation_counts[patient_id] = obs_counts"
   ]
  },
  {
   "cell_type": "code",
   "execution_count": 79,
   "id": "818f8cf1-a39c-477b-9449-74bb9a0137bd",
   "metadata": {},
   "outputs": [],
   "source": [
    "all_patient_observation_counts = pd.DataFrame(all_patient_observation_counts).T"
   ]
  },
  {
   "cell_type": "markdown",
   "id": "6296e39d-a1a3-42e4-9008-fa4ea60b630f",
   "metadata": {},
   "source": [
    "## All patient data\n",
    "\n",
    "Data for all patients"
   ]
  },
  {
   "cell_type": "code",
   "execution_count": 80,
   "id": "f20b2424-82a3-4b41-b346-13c6ebed2e7f",
   "metadata": {},
   "outputs": [
    {
     "data": {
      "text/html": [
       "<div>\n",
       "<style scoped>\n",
       "    .dataframe tbody tr th:only-of-type {\n",
       "        vertical-align: middle;\n",
       "    }\n",
       "\n",
       "    .dataframe tbody tr th {\n",
       "        vertical-align: top;\n",
       "    }\n",
       "\n",
       "    .dataframe thead th {\n",
       "        text-align: right;\n",
       "    }\n",
       "</style>\n",
       "<table border=\"1\" class=\"dataframe\">\n",
       "  <thead>\n",
       "    <tr style=\"text-align: right;\">\n",
       "      <th></th>\n",
       "      <th>Gender</th>\n",
       "      <th>age_group_scr</th>\n",
       "      <th>status</th>\n",
       "      <th>relapse_occurred</th>\n",
       "    </tr>\n",
       "  </thead>\n",
       "  <tbody>\n",
       "    <tr>\n",
       "      <th>count</th>\n",
       "      <td>104</td>\n",
       "      <td>104</td>\n",
       "      <td>104</td>\n",
       "      <td>104</td>\n",
       "    </tr>\n",
       "    <tr>\n",
       "      <th>unique</th>\n",
       "      <td>2</td>\n",
       "      <td>2</td>\n",
       "      <td>2</td>\n",
       "      <td>2</td>\n",
       "    </tr>\n",
       "    <tr>\n",
       "      <th>top</th>\n",
       "      <td>Male</td>\n",
       "      <td>75 years or younger</td>\n",
       "      <td>Exitus</td>\n",
       "      <td>No</td>\n",
       "    </tr>\n",
       "    <tr>\n",
       "      <th>freq</th>\n",
       "      <td>61</td>\n",
       "      <td>71</td>\n",
       "      <td>72</td>\n",
       "      <td>62</td>\n",
       "    </tr>\n",
       "  </tbody>\n",
       "</table>\n",
       "</div>"
      ],
      "text/plain": [
       "       Gender        age_group_scr  status relapse_occurred\n",
       "count     104                  104     104              104\n",
       "unique      2                    2       2                2\n",
       "top      Male  75 years or younger  Exitus               No\n",
       "freq       61                   71      72               62"
      ]
     },
     "execution_count": 80,
     "metadata": {},
     "output_type": "execute_result"
    }
   ],
   "source": [
    "patient_data[['Gender', 'age_group_scr', 'status', 'relapse_occurred']].describe()"
   ]
  },
  {
   "cell_type": "code",
   "execution_count": 81,
   "id": "f3abc1e3-44e6-4d2a-9853-8b362728be0a",
   "metadata": {},
   "outputs": [
    {
     "data": {
      "text/html": [
       "<div>\n",
       "<style scoped>\n",
       "    .dataframe tbody tr th:only-of-type {\n",
       "        vertical-align: middle;\n",
       "    }\n",
       "\n",
       "    .dataframe tbody tr th {\n",
       "        vertical-align: top;\n",
       "    }\n",
       "\n",
       "    .dataframe thead th {\n",
       "        text-align: right;\n",
       "    }\n",
       "</style>\n",
       "<table border=\"1\" class=\"dataframe\">\n",
       "  <thead>\n",
       "    <tr style=\"text-align: right;\">\n",
       "      <th></th>\n",
       "      <th>OS_time_ven2_days</th>\n",
       "      <th>PFS_time_days</th>\n",
       "    </tr>\n",
       "  </thead>\n",
       "  <tbody>\n",
       "    <tr>\n",
       "      <th>count</th>\n",
       "      <td>104.000000</td>\n",
       "      <td>104.000000</td>\n",
       "    </tr>\n",
       "    <tr>\n",
       "      <th>mean</th>\n",
       "      <td>388.048077</td>\n",
       "      <td>259.278846</td>\n",
       "    </tr>\n",
       "    <tr>\n",
       "      <th>std</th>\n",
       "      <td>278.663084</td>\n",
       "      <td>273.556776</td>\n",
       "    </tr>\n",
       "    <tr>\n",
       "      <th>min</th>\n",
       "      <td>6.000000</td>\n",
       "      <td>1.000000</td>\n",
       "    </tr>\n",
       "    <tr>\n",
       "      <th>25%</th>\n",
       "      <td>133.000000</td>\n",
       "      <td>1.000000</td>\n",
       "    </tr>\n",
       "    <tr>\n",
       "      <th>50%</th>\n",
       "      <td>371.500000</td>\n",
       "      <td>180.000000</td>\n",
       "    </tr>\n",
       "    <tr>\n",
       "      <th>75%</th>\n",
       "      <td>577.500000</td>\n",
       "      <td>406.000000</td>\n",
       "    </tr>\n",
       "    <tr>\n",
       "      <th>max</th>\n",
       "      <td>1120.000000</td>\n",
       "      <td>1120.000000</td>\n",
       "    </tr>\n",
       "  </tbody>\n",
       "</table>\n",
       "</div>"
      ],
      "text/plain": [
       "       OS_time_ven2_days  PFS_time_days\n",
       "count         104.000000     104.000000\n",
       "mean          388.048077     259.278846\n",
       "std           278.663084     273.556776\n",
       "min             6.000000       1.000000\n",
       "25%           133.000000       1.000000\n",
       "50%           371.500000     180.000000\n",
       "75%           577.500000     406.000000\n",
       "max          1120.000000    1120.000000"
      ]
     },
     "execution_count": 81,
     "metadata": {},
     "output_type": "execute_result"
    }
   ],
   "source": [
    "patient_data[['OS_time_ven2_days', 'PFS_time_days']].describe()"
   ]
  },
  {
   "cell_type": "code",
   "execution_count": 82,
   "id": "e901b891-b370-4bff-82d4-07bf68496ea0",
   "metadata": {},
   "outputs": [
    {
     "data": {
      "text/plain": [
       "best_response\n",
       "CR             43\n",
       "CRh             2\n",
       "CRi            14\n",
       "MLFS           13\n",
       "PR/SD/PD/RD    18\n",
       "Name: Study_subject_Id, dtype: int64"
      ]
     },
     "execution_count": 82,
     "metadata": {},
     "output_type": "execute_result"
    }
   ],
   "source": [
    "patient_data.groupby('best_response').agg('count')['Study_subject_Id']"
   ]
  },
  {
   "cell_type": "code",
   "execution_count": 83,
   "id": "ed43da3e-da0a-4a5d-bf4f-70f394413fde",
   "metadata": {},
   "outputs": [
    {
     "data": {
      "text/plain": [
       "incl_dg_for_tables\n",
       "De novo / ND AML    48\n",
       "R/R AML             39\n",
       "sAML                17\n",
       "Name: Study_subject_Id, dtype: int64"
      ]
     },
     "execution_count": 83,
     "metadata": {},
     "output_type": "execute_result"
    }
   ],
   "source": [
    "patient_data.groupby('incl_dg_for_tables').agg('count')['Study_subject_Id']"
   ]
  },
  {
   "cell_type": "code",
   "execution_count": 84,
   "id": "a89ec801-d288-4d3a-b88e-3cc1a4297fe7",
   "metadata": {},
   "outputs": [
    {
     "data": {
      "text/html": [
       "<div>\n",
       "<style scoped>\n",
       "    .dataframe tbody tr th:only-of-type {\n",
       "        vertical-align: middle;\n",
       "    }\n",
       "\n",
       "    .dataframe tbody tr th {\n",
       "        vertical-align: top;\n",
       "    }\n",
       "\n",
       "    .dataframe thead th {\n",
       "        text-align: right;\n",
       "    }\n",
       "</style>\n",
       "<table border=\"1\" class=\"dataframe\">\n",
       "  <thead>\n",
       "    <tr style=\"text-align: right;\">\n",
       "      <th></th>\n",
       "      <th>neut</th>\n",
       "      <th>blast</th>\n",
       "      <th>cycle</th>\n",
       "    </tr>\n",
       "  </thead>\n",
       "  <tbody>\n",
       "    <tr>\n",
       "      <th>count</th>\n",
       "      <td>104.000000</td>\n",
       "      <td>104.000000</td>\n",
       "      <td>104.000000</td>\n",
       "    </tr>\n",
       "    <tr>\n",
       "      <th>mean</th>\n",
       "      <td>17.605769</td>\n",
       "      <td>5.451923</td>\n",
       "      <td>8.653846</td>\n",
       "    </tr>\n",
       "    <tr>\n",
       "      <th>std</th>\n",
       "      <td>15.616408</td>\n",
       "      <td>3.398686</td>\n",
       "      <td>9.434258</td>\n",
       "    </tr>\n",
       "    <tr>\n",
       "      <th>min</th>\n",
       "      <td>1.000000</td>\n",
       "      <td>1.000000</td>\n",
       "      <td>0.000000</td>\n",
       "    </tr>\n",
       "    <tr>\n",
       "      <th>25%</th>\n",
       "      <td>6.000000</td>\n",
       "      <td>3.000000</td>\n",
       "      <td>2.000000</td>\n",
       "    </tr>\n",
       "    <tr>\n",
       "      <th>50%</th>\n",
       "      <td>12.500000</td>\n",
       "      <td>5.000000</td>\n",
       "      <td>5.000000</td>\n",
       "    </tr>\n",
       "    <tr>\n",
       "      <th>75%</th>\n",
       "      <td>23.000000</td>\n",
       "      <td>8.000000</td>\n",
       "      <td>13.250000</td>\n",
       "    </tr>\n",
       "    <tr>\n",
       "      <th>max</th>\n",
       "      <td>59.000000</td>\n",
       "      <td>14.000000</td>\n",
       "      <td>37.000000</td>\n",
       "    </tr>\n",
       "  </tbody>\n",
       "</table>\n",
       "</div>"
      ],
      "text/plain": [
       "             neut       blast       cycle\n",
       "count  104.000000  104.000000  104.000000\n",
       "mean    17.605769    5.451923    8.653846\n",
       "std     15.616408    3.398686    9.434258\n",
       "min      1.000000    1.000000    0.000000\n",
       "25%      6.000000    3.000000    2.000000\n",
       "50%     12.500000    5.000000    5.000000\n",
       "75%     23.000000    8.000000   13.250000\n",
       "max     59.000000   14.000000   37.000000"
      ]
     },
     "execution_count": 84,
     "metadata": {},
     "output_type": "execute_result"
    }
   ],
   "source": [
    "all_patient_observation_counts[['neut', 'blast', 'cycle']].astype(float).describe()"
   ]
  },
  {
   "cell_type": "code",
   "execution_count": 85,
   "id": "18d53fb4-e1c9-4165-91f1-8de04b3915c8",
   "metadata": {},
   "outputs": [
    {
     "data": {
      "text/html": [
       "<div>\n",
       "<style scoped>\n",
       "    .dataframe tbody tr th:only-of-type {\n",
       "        vertical-align: middle;\n",
       "    }\n",
       "\n",
       "    .dataframe tbody tr th {\n",
       "        vertical-align: top;\n",
       "    }\n",
       "\n",
       "    .dataframe thead th {\n",
       "        text-align: right;\n",
       "    }\n",
       "</style>\n",
       "<table border=\"1\" class=\"dataframe\">\n",
       "  <thead>\n",
       "    <tr style=\"text-align: right;\">\n",
       "      <th></th>\n",
       "      <th>neut_min</th>\n",
       "      <th>neut_max</th>\n",
       "      <th>neut_med</th>\n",
       "      <th>blast_min</th>\n",
       "      <th>blast_max</th>\n",
       "      <th>blast_med</th>\n",
       "    </tr>\n",
       "  </thead>\n",
       "  <tbody>\n",
       "    <tr>\n",
       "      <th>count</th>\n",
       "      <td>104.000000</td>\n",
       "      <td>104.000000</td>\n",
       "      <td>104.000000</td>\n",
       "      <td>104.000000</td>\n",
       "      <td>104.000000</td>\n",
       "      <td>104.000000</td>\n",
       "    </tr>\n",
       "    <tr>\n",
       "      <th>mean</th>\n",
       "      <td>0.348712</td>\n",
       "      <td>3.324952</td>\n",
       "      <td>0.989380</td>\n",
       "      <td>11.745192</td>\n",
       "      <td>48.519231</td>\n",
       "      <td>18.579327</td>\n",
       "    </tr>\n",
       "    <tr>\n",
       "      <th>std</th>\n",
       "      <td>1.159769</td>\n",
       "      <td>3.018747</td>\n",
       "      <td>1.263982</td>\n",
       "      <td>19.833775</td>\n",
       "      <td>25.424448</td>\n",
       "      <td>22.828781</td>\n",
       "    </tr>\n",
       "    <tr>\n",
       "      <th>min</th>\n",
       "      <td>0.000000</td>\n",
       "      <td>0.010000</td>\n",
       "      <td>0.000000</td>\n",
       "      <td>2.500000</td>\n",
       "      <td>2.500000</td>\n",
       "      <td>2.500000</td>\n",
       "    </tr>\n",
       "    <tr>\n",
       "      <th>25%</th>\n",
       "      <td>0.000000</td>\n",
       "      <td>1.220500</td>\n",
       "      <td>0.317500</td>\n",
       "      <td>2.500000</td>\n",
       "      <td>29.750000</td>\n",
       "      <td>2.500000</td>\n",
       "    </tr>\n",
       "    <tr>\n",
       "      <th>50%</th>\n",
       "      <td>0.058000</td>\n",
       "      <td>2.478500</td>\n",
       "      <td>0.722500</td>\n",
       "      <td>2.500000</td>\n",
       "      <td>47.500000</td>\n",
       "      <td>7.000000</td>\n",
       "    </tr>\n",
       "    <tr>\n",
       "      <th>75%</th>\n",
       "      <td>0.200000</td>\n",
       "      <td>4.640000</td>\n",
       "      <td>1.100000</td>\n",
       "      <td>10.000000</td>\n",
       "      <td>72.000000</td>\n",
       "      <td>26.062500</td>\n",
       "    </tr>\n",
       "    <tr>\n",
       "      <th>max</th>\n",
       "      <td>10.680000</td>\n",
       "      <td>16.000000</td>\n",
       "      <td>10.680000</td>\n",
       "      <td>88.000000</td>\n",
       "      <td>94.000000</td>\n",
       "      <td>88.000000</td>\n",
       "    </tr>\n",
       "  </tbody>\n",
       "</table>\n",
       "</div>"
      ],
      "text/plain": [
       "         neut_min    neut_max    neut_med   blast_min   blast_max   blast_med\n",
       "count  104.000000  104.000000  104.000000  104.000000  104.000000  104.000000\n",
       "mean     0.348712    3.324952    0.989380   11.745192   48.519231   18.579327\n",
       "std      1.159769    3.018747    1.263982   19.833775   25.424448   22.828781\n",
       "min      0.000000    0.010000    0.000000    2.500000    2.500000    2.500000\n",
       "25%      0.000000    1.220500    0.317500    2.500000   29.750000    2.500000\n",
       "50%      0.058000    2.478500    0.722500    2.500000   47.500000    7.000000\n",
       "75%      0.200000    4.640000    1.100000   10.000000   72.000000   26.062500\n",
       "max     10.680000   16.000000   10.680000   88.000000   94.000000   88.000000"
      ]
     },
     "execution_count": 85,
     "metadata": {},
     "output_type": "execute_result"
    }
   ],
   "source": [
    "all_patient_observation_counts[['neut_min', 'neut_max', 'neut_med', 'blast_min', 'blast_max', 'blast_med']].astype(float).describe()"
   ]
  },
  {
   "cell_type": "code",
   "execution_count": 86,
   "id": "bffaf656-9867-4123-ba30-4616c9bcf7c2",
   "metadata": {},
   "outputs": [
    {
     "data": {
      "text/html": [
       "<div>\n",
       "<style scoped>\n",
       "    .dataframe tbody tr th:only-of-type {\n",
       "        vertical-align: middle;\n",
       "    }\n",
       "\n",
       "    .dataframe tbody tr th {\n",
       "        vertical-align: top;\n",
       "    }\n",
       "\n",
       "    .dataframe thead th {\n",
       "        text-align: right;\n",
       "    }\n",
       "</style>\n",
       "<table border=\"1\" class=\"dataframe\">\n",
       "  <thead>\n",
       "    <tr style=\"text-align: right;\">\n",
       "      <th></th>\n",
       "      <th>neut_below_05</th>\n",
       "      <th>blast_below_5</th>\n",
       "    </tr>\n",
       "  </thead>\n",
       "  <tbody>\n",
       "    <tr>\n",
       "      <th>count</th>\n",
       "      <td>104</td>\n",
       "      <td>104</td>\n",
       "    </tr>\n",
       "    <tr>\n",
       "      <th>unique</th>\n",
       "      <td>2</td>\n",
       "      <td>2</td>\n",
       "    </tr>\n",
       "    <tr>\n",
       "      <th>top</th>\n",
       "      <td>True</td>\n",
       "      <td>True</td>\n",
       "    </tr>\n",
       "    <tr>\n",
       "      <th>freq</th>\n",
       "      <td>89</td>\n",
       "      <td>75</td>\n",
       "    </tr>\n",
       "  </tbody>\n",
       "</table>\n",
       "</div>"
      ],
      "text/plain": [
       "       neut_below_05 blast_below_5\n",
       "count            104           104\n",
       "unique             2             2\n",
       "top             True          True\n",
       "freq              89            75"
      ]
     },
     "execution_count": 86,
     "metadata": {},
     "output_type": "execute_result"
    }
   ],
   "source": [
    "all_patient_observation_counts[['neut_below_05', 'blast_below_5']].describe()"
   ]
  },
  {
   "cell_type": "markdown",
   "id": "3946bfb1-f062-4a9a-9763-808f7b84a890",
   "metadata": {},
   "source": [
    "## All ven/aza data\n",
    "\n",
    "Data for all patients with some ven/aza treatment."
   ]
  },
  {
   "cell_type": "code",
   "execution_count": 87,
   "id": "875e738a-649c-4081-9552-f74fdf6fa840",
   "metadata": {},
   "outputs": [],
   "source": [
    "ven_patients = patient_data[patient_data.no_ven_therapy=='No'].index"
   ]
  },
  {
   "cell_type": "code",
   "execution_count": 88,
   "id": "564d4b91-a54f-41ed-9c55-88684853ed6c",
   "metadata": {},
   "outputs": [
    {
     "name": "stdout",
     "output_type": "stream",
     "text": [
      "92\n"
     ]
    }
   ],
   "source": [
    "print(len(ven_patients))"
   ]
  },
  {
   "cell_type": "code",
   "execution_count": 89,
   "id": "9a54e67a-717a-4eb2-826b-b82aa2435aaa",
   "metadata": {},
   "outputs": [],
   "source": [
    "ven_patient_data = patient_data.loc[ven_patients]"
   ]
  },
  {
   "cell_type": "code",
   "execution_count": 90,
   "id": "4f6f9d5b-9f79-4ea3-b68d-898702195848",
   "metadata": {},
   "outputs": [
    {
     "data": {
      "text/html": [
       "<div>\n",
       "<style scoped>\n",
       "    .dataframe tbody tr th:only-of-type {\n",
       "        vertical-align: middle;\n",
       "    }\n",
       "\n",
       "    .dataframe tbody tr th {\n",
       "        vertical-align: top;\n",
       "    }\n",
       "\n",
       "    .dataframe thead th {\n",
       "        text-align: right;\n",
       "    }\n",
       "</style>\n",
       "<table border=\"1\" class=\"dataframe\">\n",
       "  <thead>\n",
       "    <tr style=\"text-align: right;\">\n",
       "      <th></th>\n",
       "      <th>Gender</th>\n",
       "      <th>age_group_scr</th>\n",
       "      <th>status</th>\n",
       "      <th>relapse_occurred</th>\n",
       "    </tr>\n",
       "  </thead>\n",
       "  <tbody>\n",
       "    <tr>\n",
       "      <th>count</th>\n",
       "      <td>92</td>\n",
       "      <td>92</td>\n",
       "      <td>92</td>\n",
       "      <td>92</td>\n",
       "    </tr>\n",
       "    <tr>\n",
       "      <th>unique</th>\n",
       "      <td>2</td>\n",
       "      <td>2</td>\n",
       "      <td>2</td>\n",
       "      <td>2</td>\n",
       "    </tr>\n",
       "    <tr>\n",
       "      <th>top</th>\n",
       "      <td>Male</td>\n",
       "      <td>75 years or younger</td>\n",
       "      <td>Exitus</td>\n",
       "      <td>No</td>\n",
       "    </tr>\n",
       "    <tr>\n",
       "      <th>freq</th>\n",
       "      <td>53</td>\n",
       "      <td>61</td>\n",
       "      <td>61</td>\n",
       "      <td>50</td>\n",
       "    </tr>\n",
       "  </tbody>\n",
       "</table>\n",
       "</div>"
      ],
      "text/plain": [
       "       Gender        age_group_scr  status relapse_occurred\n",
       "count      92                   92      92               92\n",
       "unique      2                    2       2                2\n",
       "top      Male  75 years or younger  Exitus               No\n",
       "freq       53                   61      61               50"
      ]
     },
     "execution_count": 90,
     "metadata": {},
     "output_type": "execute_result"
    }
   ],
   "source": [
    "ven_patient_data[['Gender', 'age_group_scr', 'status', 'relapse_occurred']].describe()"
   ]
  },
  {
   "cell_type": "code",
   "execution_count": 91,
   "id": "fc018875-53ef-4b83-9f07-f5db508f5e7c",
   "metadata": {},
   "outputs": [
    {
     "data": {
      "text/html": [
       "<div>\n",
       "<style scoped>\n",
       "    .dataframe tbody tr th:only-of-type {\n",
       "        vertical-align: middle;\n",
       "    }\n",
       "\n",
       "    .dataframe tbody tr th {\n",
       "        vertical-align: top;\n",
       "    }\n",
       "\n",
       "    .dataframe thead th {\n",
       "        text-align: right;\n",
       "    }\n",
       "</style>\n",
       "<table border=\"1\" class=\"dataframe\">\n",
       "  <thead>\n",
       "    <tr style=\"text-align: right;\">\n",
       "      <th></th>\n",
       "      <th>OS_time_ven2_days</th>\n",
       "      <th>PFS_time_days</th>\n",
       "    </tr>\n",
       "  </thead>\n",
       "  <tbody>\n",
       "    <tr>\n",
       "      <th>count</th>\n",
       "      <td>92.000000</td>\n",
       "      <td>92.000000</td>\n",
       "    </tr>\n",
       "    <tr>\n",
       "      <th>mean</th>\n",
       "      <td>415.565217</td>\n",
       "      <td>292.967391</td>\n",
       "    </tr>\n",
       "    <tr>\n",
       "      <th>std</th>\n",
       "      <td>274.854739</td>\n",
       "      <td>273.417985</td>\n",
       "    </tr>\n",
       "    <tr>\n",
       "      <th>min</th>\n",
       "      <td>6.000000</td>\n",
       "      <td>1.000000</td>\n",
       "    </tr>\n",
       "    <tr>\n",
       "      <th>25%</th>\n",
       "      <td>181.750000</td>\n",
       "      <td>85.000000</td>\n",
       "    </tr>\n",
       "    <tr>\n",
       "      <th>50%</th>\n",
       "      <td>395.000000</td>\n",
       "      <td>232.500000</td>\n",
       "    </tr>\n",
       "    <tr>\n",
       "      <th>75%</th>\n",
       "      <td>603.750000</td>\n",
       "      <td>432.750000</td>\n",
       "    </tr>\n",
       "    <tr>\n",
       "      <th>max</th>\n",
       "      <td>1120.000000</td>\n",
       "      <td>1120.000000</td>\n",
       "    </tr>\n",
       "  </tbody>\n",
       "</table>\n",
       "</div>"
      ],
      "text/plain": [
       "       OS_time_ven2_days  PFS_time_days\n",
       "count          92.000000      92.000000\n",
       "mean          415.565217     292.967391\n",
       "std           274.854739     273.417985\n",
       "min             6.000000       1.000000\n",
       "25%           181.750000      85.000000\n",
       "50%           395.000000     232.500000\n",
       "75%           603.750000     432.750000\n",
       "max          1120.000000    1120.000000"
      ]
     },
     "execution_count": 91,
     "metadata": {},
     "output_type": "execute_result"
    }
   ],
   "source": [
    "ven_patient_data[['OS_time_ven2_days', 'PFS_time_days']].describe()"
   ]
  },
  {
   "cell_type": "code",
   "execution_count": 92,
   "id": "cde977f6-c017-4b7f-8f96-15f2a50eed00",
   "metadata": {},
   "outputs": [
    {
     "data": {
      "text/plain": [
       "best_response\n",
       "CR             43\n",
       "CRh             2\n",
       "CRi            14\n",
       "MLFS           13\n",
       "PR/SD/PD/RD    18\n",
       "Name: Study_subject_Id, dtype: int64"
      ]
     },
     "execution_count": 92,
     "metadata": {},
     "output_type": "execute_result"
    }
   ],
   "source": [
    "ven_patient_data.groupby('best_response').agg('count')['Study_subject_Id']"
   ]
  },
  {
   "cell_type": "code",
   "execution_count": 93,
   "id": "6af5cca6-72f0-4646-92d1-0d4b5a9327a8",
   "metadata": {},
   "outputs": [
    {
     "data": {
      "text/plain": [
       "incl_dg_for_tables\n",
       "De novo / ND AML    48\n",
       "R/R AML             32\n",
       "sAML                12\n",
       "Name: Study_subject_Id, dtype: int64"
      ]
     },
     "execution_count": 93,
     "metadata": {},
     "output_type": "execute_result"
    }
   ],
   "source": [
    "ven_patient_data.groupby('incl_dg_for_tables').agg('count')['Study_subject_Id']"
   ]
  },
  {
   "cell_type": "code",
   "execution_count": 94,
   "id": "a4794f78-8309-48ce-8b5f-4a9499038fb1",
   "metadata": {},
   "outputs": [
    {
     "data": {
      "text/html": [
       "<div>\n",
       "<style scoped>\n",
       "    .dataframe tbody tr th:only-of-type {\n",
       "        vertical-align: middle;\n",
       "    }\n",
       "\n",
       "    .dataframe tbody tr th {\n",
       "        vertical-align: top;\n",
       "    }\n",
       "\n",
       "    .dataframe thead th {\n",
       "        text-align: right;\n",
       "    }\n",
       "</style>\n",
       "<table border=\"1\" class=\"dataframe\">\n",
       "  <thead>\n",
       "    <tr style=\"text-align: right;\">\n",
       "      <th></th>\n",
       "      <th>neut</th>\n",
       "      <th>blast</th>\n",
       "      <th>cycle</th>\n",
       "    </tr>\n",
       "  </thead>\n",
       "  <tbody>\n",
       "    <tr>\n",
       "      <th>count</th>\n",
       "      <td>92.000000</td>\n",
       "      <td>92.000000</td>\n",
       "      <td>92.000000</td>\n",
       "    </tr>\n",
       "    <tr>\n",
       "      <th>mean</th>\n",
       "      <td>19.695652</td>\n",
       "      <td>6.021739</td>\n",
       "      <td>9.782609</td>\n",
       "    </tr>\n",
       "    <tr>\n",
       "      <th>std</th>\n",
       "      <td>15.416374</td>\n",
       "      <td>3.196764</td>\n",
       "      <td>9.464597</td>\n",
       "    </tr>\n",
       "    <tr>\n",
       "      <th>min</th>\n",
       "      <td>3.000000</td>\n",
       "      <td>1.000000</td>\n",
       "      <td>1.000000</td>\n",
       "    </tr>\n",
       "    <tr>\n",
       "      <th>25%</th>\n",
       "      <td>8.000000</td>\n",
       "      <td>4.000000</td>\n",
       "      <td>3.000000</td>\n",
       "    </tr>\n",
       "    <tr>\n",
       "      <th>50%</th>\n",
       "      <td>14.500000</td>\n",
       "      <td>5.000000</td>\n",
       "      <td>5.500000</td>\n",
       "    </tr>\n",
       "    <tr>\n",
       "      <th>75%</th>\n",
       "      <td>29.750000</td>\n",
       "      <td>8.000000</td>\n",
       "      <td>15.250000</td>\n",
       "    </tr>\n",
       "    <tr>\n",
       "      <th>max</th>\n",
       "      <td>59.000000</td>\n",
       "      <td>14.000000</td>\n",
       "      <td>37.000000</td>\n",
       "    </tr>\n",
       "  </tbody>\n",
       "</table>\n",
       "</div>"
      ],
      "text/plain": [
       "            neut      blast      cycle\n",
       "count  92.000000  92.000000  92.000000\n",
       "mean   19.695652   6.021739   9.782609\n",
       "std    15.416374   3.196764   9.464597\n",
       "min     3.000000   1.000000   1.000000\n",
       "25%     8.000000   4.000000   3.000000\n",
       "50%    14.500000   5.000000   5.500000\n",
       "75%    29.750000   8.000000  15.250000\n",
       "max    59.000000  14.000000  37.000000"
      ]
     },
     "execution_count": 94,
     "metadata": {},
     "output_type": "execute_result"
    }
   ],
   "source": [
    "all_patient_observation_counts[['neut', 'blast', 'cycle']].astype(float).loc[ven_patients].describe()"
   ]
  },
  {
   "cell_type": "code",
   "execution_count": 95,
   "id": "a3ca442a-e103-4217-a6a5-9fe328c3318c",
   "metadata": {},
   "outputs": [
    {
     "data": {
      "text/html": [
       "<div>\n",
       "<style scoped>\n",
       "    .dataframe tbody tr th:only-of-type {\n",
       "        vertical-align: middle;\n",
       "    }\n",
       "\n",
       "    .dataframe tbody tr th {\n",
       "        vertical-align: top;\n",
       "    }\n",
       "\n",
       "    .dataframe thead th {\n",
       "        text-align: right;\n",
       "    }\n",
       "</style>\n",
       "<table border=\"1\" class=\"dataframe\">\n",
       "  <thead>\n",
       "    <tr style=\"text-align: right;\">\n",
       "      <th></th>\n",
       "      <th>neut_min</th>\n",
       "      <th>neut_max</th>\n",
       "      <th>neut_med</th>\n",
       "      <th>blast_min</th>\n",
       "      <th>blast_max</th>\n",
       "      <th>blast_med</th>\n",
       "    </tr>\n",
       "  </thead>\n",
       "  <tbody>\n",
       "    <tr>\n",
       "      <th>count</th>\n",
       "      <td>92.000000</td>\n",
       "      <td>92.000000</td>\n",
       "      <td>92.000000</td>\n",
       "      <td>92.000000</td>\n",
       "      <td>92.000000</td>\n",
       "      <td>92.000000</td>\n",
       "    </tr>\n",
       "    <tr>\n",
       "      <th>mean</th>\n",
       "      <td>0.143457</td>\n",
       "      <td>3.412489</td>\n",
       "      <td>0.855978</td>\n",
       "      <td>9.000000</td>\n",
       "      <td>50.434783</td>\n",
       "      <td>16.657609</td>\n",
       "    </tr>\n",
       "    <tr>\n",
       "      <th>std</th>\n",
       "      <td>0.364799</td>\n",
       "      <td>2.990093</td>\n",
       "      <td>0.804658</td>\n",
       "      <td>17.018251</td>\n",
       "      <td>24.832208</td>\n",
       "      <td>21.718311</td>\n",
       "    </tr>\n",
       "    <tr>\n",
       "      <th>min</th>\n",
       "      <td>0.000000</td>\n",
       "      <td>0.010000</td>\n",
       "      <td>0.000000</td>\n",
       "      <td>2.500000</td>\n",
       "      <td>2.500000</td>\n",
       "      <td>2.500000</td>\n",
       "    </tr>\n",
       "    <tr>\n",
       "      <th>25%</th>\n",
       "      <td>0.000000</td>\n",
       "      <td>1.270000</td>\n",
       "      <td>0.310000</td>\n",
       "      <td>2.500000</td>\n",
       "      <td>30.000000</td>\n",
       "      <td>2.500000</td>\n",
       "    </tr>\n",
       "    <tr>\n",
       "      <th>50%</th>\n",
       "      <td>0.040000</td>\n",
       "      <td>2.570000</td>\n",
       "      <td>0.677500</td>\n",
       "      <td>2.500000</td>\n",
       "      <td>50.000000</td>\n",
       "      <td>2.500000</td>\n",
       "    </tr>\n",
       "    <tr>\n",
       "      <th>75%</th>\n",
       "      <td>0.165000</td>\n",
       "      <td>4.720000</td>\n",
       "      <td>1.073750</td>\n",
       "      <td>2.500000</td>\n",
       "      <td>72.500000</td>\n",
       "      <td>21.375000</td>\n",
       "    </tr>\n",
       "    <tr>\n",
       "      <th>max</th>\n",
       "      <td>3.200000</td>\n",
       "      <td>16.000000</td>\n",
       "      <td>4.800000</td>\n",
       "      <td>86.000000</td>\n",
       "      <td>94.000000</td>\n",
       "      <td>86.000000</td>\n",
       "    </tr>\n",
       "  </tbody>\n",
       "</table>\n",
       "</div>"
      ],
      "text/plain": [
       "        neut_min   neut_max   neut_med  blast_min  blast_max  blast_med\n",
       "count  92.000000  92.000000  92.000000  92.000000  92.000000  92.000000\n",
       "mean    0.143457   3.412489   0.855978   9.000000  50.434783  16.657609\n",
       "std     0.364799   2.990093   0.804658  17.018251  24.832208  21.718311\n",
       "min     0.000000   0.010000   0.000000   2.500000   2.500000   2.500000\n",
       "25%     0.000000   1.270000   0.310000   2.500000  30.000000   2.500000\n",
       "50%     0.040000   2.570000   0.677500   2.500000  50.000000   2.500000\n",
       "75%     0.165000   4.720000   1.073750   2.500000  72.500000  21.375000\n",
       "max     3.200000  16.000000   4.800000  86.000000  94.000000  86.000000"
      ]
     },
     "execution_count": 95,
     "metadata": {},
     "output_type": "execute_result"
    }
   ],
   "source": [
    "all_patient_observation_counts[['neut_min', 'neut_max', 'neut_med', 'blast_min', 'blast_max', 'blast_med']].astype(float).loc[ven_patients].describe()"
   ]
  },
  {
   "cell_type": "code",
   "execution_count": 96,
   "id": "247ce365-f71e-4a71-af19-f05606235d6f",
   "metadata": {},
   "outputs": [
    {
     "data": {
      "text/html": [
       "<div>\n",
       "<style scoped>\n",
       "    .dataframe tbody tr th:only-of-type {\n",
       "        vertical-align: middle;\n",
       "    }\n",
       "\n",
       "    .dataframe tbody tr th {\n",
       "        vertical-align: top;\n",
       "    }\n",
       "\n",
       "    .dataframe thead th {\n",
       "        text-align: right;\n",
       "    }\n",
       "</style>\n",
       "<table border=\"1\" class=\"dataframe\">\n",
       "  <thead>\n",
       "    <tr style=\"text-align: right;\">\n",
       "      <th></th>\n",
       "      <th>neut_below_05</th>\n",
       "      <th>blast_below_5</th>\n",
       "    </tr>\n",
       "  </thead>\n",
       "  <tbody>\n",
       "    <tr>\n",
       "      <th>count</th>\n",
       "      <td>92</td>\n",
       "      <td>92</td>\n",
       "    </tr>\n",
       "    <tr>\n",
       "      <th>unique</th>\n",
       "      <td>2</td>\n",
       "      <td>2</td>\n",
       "    </tr>\n",
       "    <tr>\n",
       "      <th>top</th>\n",
       "      <td>True</td>\n",
       "      <td>True</td>\n",
       "    </tr>\n",
       "    <tr>\n",
       "      <th>freq</th>\n",
       "      <td>86</td>\n",
       "      <td>74</td>\n",
       "    </tr>\n",
       "  </tbody>\n",
       "</table>\n",
       "</div>"
      ],
      "text/plain": [
       "       neut_below_05 blast_below_5\n",
       "count             92            92\n",
       "unique             2             2\n",
       "top             True          True\n",
       "freq              86            74"
      ]
     },
     "execution_count": 96,
     "metadata": {},
     "output_type": "execute_result"
    }
   ],
   "source": [
    "all_patient_observation_counts[['neut_below_05', 'blast_below_5']].loc[ven_patients].describe()"
   ]
  },
  {
   "cell_type": "markdown",
   "id": "6eb879ba-4702-4c0c-b903-1a9481f50fce",
   "metadata": {},
   "source": [
    "## Modeling data\n",
    "\n",
    "This includes all patients with enough data for ODE modeling (5 points)"
   ]
  },
  {
   "cell_type": "code",
   "execution_count": 97,
   "id": "961627c8-a6ae-464b-8a63-e2d1388a2129",
   "metadata": {},
   "outputs": [],
   "source": [
    "modeling_patients = rmse_data_combined.index.unique()"
   ]
  },
  {
   "cell_type": "code",
   "execution_count": 98,
   "id": "020fe231-7cf0-45db-b7cf-0dfbdfa0b148",
   "metadata": {},
   "outputs": [
    {
     "name": "stdout",
     "output_type": "stream",
     "text": [
      "71\n"
     ]
    }
   ],
   "source": [
    "print(len(modeling_patients))"
   ]
  },
  {
   "cell_type": "code",
   "execution_count": 99,
   "id": "b3091930-a827-4ab2-bb8c-be373184c5ff",
   "metadata": {},
   "outputs": [],
   "source": [
    "modeling_patient_data = patient_data.loc[modeling_patients]"
   ]
  },
  {
   "cell_type": "code",
   "execution_count": 100,
   "id": "8b523311-e89a-41a8-997e-2e4143452400",
   "metadata": {},
   "outputs": [
    {
     "data": {
      "text/html": [
       "<div>\n",
       "<style scoped>\n",
       "    .dataframe tbody tr th:only-of-type {\n",
       "        vertical-align: middle;\n",
       "    }\n",
       "\n",
       "    .dataframe tbody tr th {\n",
       "        vertical-align: top;\n",
       "    }\n",
       "\n",
       "    .dataframe thead th {\n",
       "        text-align: right;\n",
       "    }\n",
       "</style>\n",
       "<table border=\"1\" class=\"dataframe\">\n",
       "  <thead>\n",
       "    <tr style=\"text-align: right;\">\n",
       "      <th></th>\n",
       "      <th>Gender</th>\n",
       "      <th>age_group_scr</th>\n",
       "      <th>status</th>\n",
       "      <th>relapse_occurred</th>\n",
       "    </tr>\n",
       "  </thead>\n",
       "  <tbody>\n",
       "    <tr>\n",
       "      <th>count</th>\n",
       "      <td>71</td>\n",
       "      <td>71</td>\n",
       "      <td>71</td>\n",
       "      <td>71</td>\n",
       "    </tr>\n",
       "    <tr>\n",
       "      <th>unique</th>\n",
       "      <td>2</td>\n",
       "      <td>2</td>\n",
       "      <td>2</td>\n",
       "      <td>2</td>\n",
       "    </tr>\n",
       "    <tr>\n",
       "      <th>top</th>\n",
       "      <td>Male</td>\n",
       "      <td>75 years or younger</td>\n",
       "      <td>Exitus</td>\n",
       "      <td>No</td>\n",
       "    </tr>\n",
       "    <tr>\n",
       "      <th>freq</th>\n",
       "      <td>40</td>\n",
       "      <td>47</td>\n",
       "      <td>41</td>\n",
       "      <td>36</td>\n",
       "    </tr>\n",
       "  </tbody>\n",
       "</table>\n",
       "</div>"
      ],
      "text/plain": [
       "       Gender        age_group_scr  status relapse_occurred\n",
       "count      71                   71      71               71\n",
       "unique      2                    2       2                2\n",
       "top      Male  75 years or younger  Exitus               No\n",
       "freq       40                   47      41               36"
      ]
     },
     "execution_count": 100,
     "metadata": {},
     "output_type": "execute_result"
    }
   ],
   "source": [
    "modeling_patient_data[['Gender', 'age_group_scr', 'status', 'relapse_occurred']].describe()"
   ]
  },
  {
   "cell_type": "code",
   "execution_count": 101,
   "id": "6d43fd0d-4d89-48f9-bf06-e74b6896b918",
   "metadata": {},
   "outputs": [
    {
     "data": {
      "text/html": [
       "<div>\n",
       "<style scoped>\n",
       "    .dataframe tbody tr th:only-of-type {\n",
       "        vertical-align: middle;\n",
       "    }\n",
       "\n",
       "    .dataframe tbody tr th {\n",
       "        vertical-align: top;\n",
       "    }\n",
       "\n",
       "    .dataframe thead th {\n",
       "        text-align: right;\n",
       "    }\n",
       "</style>\n",
       "<table border=\"1\" class=\"dataframe\">\n",
       "  <thead>\n",
       "    <tr style=\"text-align: right;\">\n",
       "      <th></th>\n",
       "      <th>OS_time_ven2_days</th>\n",
       "      <th>PFS_time_days</th>\n",
       "    </tr>\n",
       "  </thead>\n",
       "  <tbody>\n",
       "    <tr>\n",
       "      <th>count</th>\n",
       "      <td>71.000000</td>\n",
       "      <td>71.000000</td>\n",
       "    </tr>\n",
       "    <tr>\n",
       "      <th>mean</th>\n",
       "      <td>493.309859</td>\n",
       "      <td>370.239437</td>\n",
       "    </tr>\n",
       "    <tr>\n",
       "      <th>std</th>\n",
       "      <td>245.786992</td>\n",
       "      <td>264.784142</td>\n",
       "    </tr>\n",
       "    <tr>\n",
       "      <th>min</th>\n",
       "      <td>105.000000</td>\n",
       "      <td>1.000000</td>\n",
       "    </tr>\n",
       "    <tr>\n",
       "      <th>25%</th>\n",
       "      <td>290.500000</td>\n",
       "      <td>158.000000</td>\n",
       "    </tr>\n",
       "    <tr>\n",
       "      <th>50%</th>\n",
       "      <td>466.000000</td>\n",
       "      <td>329.000000</td>\n",
       "    </tr>\n",
       "    <tr>\n",
       "      <th>75%</th>\n",
       "      <td>653.500000</td>\n",
       "      <td>539.000000</td>\n",
       "    </tr>\n",
       "    <tr>\n",
       "      <th>max</th>\n",
       "      <td>1120.000000</td>\n",
       "      <td>1120.000000</td>\n",
       "    </tr>\n",
       "  </tbody>\n",
       "</table>\n",
       "</div>"
      ],
      "text/plain": [
       "       OS_time_ven2_days  PFS_time_days\n",
       "count          71.000000      71.000000\n",
       "mean          493.309859     370.239437\n",
       "std           245.786992     264.784142\n",
       "min           105.000000       1.000000\n",
       "25%           290.500000     158.000000\n",
       "50%           466.000000     329.000000\n",
       "75%           653.500000     539.000000\n",
       "max          1120.000000    1120.000000"
      ]
     },
     "execution_count": 101,
     "metadata": {},
     "output_type": "execute_result"
    }
   ],
   "source": [
    "modeling_patient_data[['OS_time_ven2_days', 'PFS_time_days']].describe()"
   ]
  },
  {
   "cell_type": "code",
   "execution_count": 102,
   "id": "93736cf0-43b0-450f-9751-89f030193b81",
   "metadata": {},
   "outputs": [
    {
     "data": {
      "text/plain": [
       "best_response\n",
       "CR             41\n",
       "CRh             1\n",
       "CRi            14\n",
       "MLFS            9\n",
       "PR/SD/PD/RD     6\n",
       "Name: Study_subject_Id, dtype: int64"
      ]
     },
     "execution_count": 102,
     "metadata": {},
     "output_type": "execute_result"
    }
   ],
   "source": [
    "modeling_patient_data.groupby('best_response').agg('count')['Study_subject_Id']"
   ]
  },
  {
   "cell_type": "code",
   "execution_count": 103,
   "id": "6e6075f0-a587-4d45-8cc1-324dce01cedc",
   "metadata": {},
   "outputs": [
    {
     "data": {
      "text/plain": [
       "incl_dg_for_tables\n",
       "De novo / ND AML    40\n",
       "R/R AML             22\n",
       "sAML                 9\n",
       "Name: Study_subject_Id, dtype: int64"
      ]
     },
     "execution_count": 103,
     "metadata": {},
     "output_type": "execute_result"
    }
   ],
   "source": [
    "modeling_patient_data.groupby('incl_dg_for_tables').agg('count')['Study_subject_Id']"
   ]
  },
  {
   "cell_type": "code",
   "execution_count": 104,
   "id": "a909f2c1-b22b-4726-bc44-87127218c4c2",
   "metadata": {},
   "outputs": [
    {
     "data": {
      "text/html": [
       "<div>\n",
       "<style scoped>\n",
       "    .dataframe tbody tr th:only-of-type {\n",
       "        vertical-align: middle;\n",
       "    }\n",
       "\n",
       "    .dataframe tbody tr th {\n",
       "        vertical-align: top;\n",
       "    }\n",
       "\n",
       "    .dataframe thead th {\n",
       "        text-align: right;\n",
       "    }\n",
       "</style>\n",
       "<table border=\"1\" class=\"dataframe\">\n",
       "  <thead>\n",
       "    <tr style=\"text-align: right;\">\n",
       "      <th></th>\n",
       "      <th>neut</th>\n",
       "      <th>blast</th>\n",
       "      <th>cycle</th>\n",
       "    </tr>\n",
       "  </thead>\n",
       "  <tbody>\n",
       "    <tr>\n",
       "      <th>count</th>\n",
       "      <td>71.000000</td>\n",
       "      <td>71.000000</td>\n",
       "      <td>71.000000</td>\n",
       "    </tr>\n",
       "    <tr>\n",
       "      <th>mean</th>\n",
       "      <td>23.746479</td>\n",
       "      <td>6.957746</td>\n",
       "      <td>12.183099</td>\n",
       "    </tr>\n",
       "    <tr>\n",
       "      <th>std</th>\n",
       "      <td>15.286519</td>\n",
       "      <td>2.915165</td>\n",
       "      <td>9.527869</td>\n",
       "    </tr>\n",
       "    <tr>\n",
       "      <th>min</th>\n",
       "      <td>3.000000</td>\n",
       "      <td>2.000000</td>\n",
       "      <td>2.000000</td>\n",
       "    </tr>\n",
       "    <tr>\n",
       "      <th>25%</th>\n",
       "      <td>11.000000</td>\n",
       "      <td>5.000000</td>\n",
       "      <td>4.500000</td>\n",
       "    </tr>\n",
       "    <tr>\n",
       "      <th>50%</th>\n",
       "      <td>19.000000</td>\n",
       "      <td>6.000000</td>\n",
       "      <td>9.000000</td>\n",
       "    </tr>\n",
       "    <tr>\n",
       "      <th>75%</th>\n",
       "      <td>36.000000</td>\n",
       "      <td>8.000000</td>\n",
       "      <td>19.000000</td>\n",
       "    </tr>\n",
       "    <tr>\n",
       "      <th>max</th>\n",
       "      <td>59.000000</td>\n",
       "      <td>14.000000</td>\n",
       "      <td>37.000000</td>\n",
       "    </tr>\n",
       "  </tbody>\n",
       "</table>\n",
       "</div>"
      ],
      "text/plain": [
       "            neut      blast      cycle\n",
       "count  71.000000  71.000000  71.000000\n",
       "mean   23.746479   6.957746  12.183099\n",
       "std    15.286519   2.915165   9.527869\n",
       "min     3.000000   2.000000   2.000000\n",
       "25%    11.000000   5.000000   4.500000\n",
       "50%    19.000000   6.000000   9.000000\n",
       "75%    36.000000   8.000000  19.000000\n",
       "max    59.000000  14.000000  37.000000"
      ]
     },
     "execution_count": 104,
     "metadata": {},
     "output_type": "execute_result"
    }
   ],
   "source": [
    "all_patient_observation_counts[['neut', 'blast', 'cycle']].loc[modeling_patients].astype(float).describe()"
   ]
  },
  {
   "cell_type": "code",
   "execution_count": 105,
   "id": "566ea840-804c-4612-8359-6c2096878a7f",
   "metadata": {},
   "outputs": [
    {
     "data": {
      "text/html": [
       "<div>\n",
       "<style scoped>\n",
       "    .dataframe tbody tr th:only-of-type {\n",
       "        vertical-align: middle;\n",
       "    }\n",
       "\n",
       "    .dataframe tbody tr th {\n",
       "        vertical-align: top;\n",
       "    }\n",
       "\n",
       "    .dataframe thead th {\n",
       "        text-align: right;\n",
       "    }\n",
       "</style>\n",
       "<table border=\"1\" class=\"dataframe\">\n",
       "  <thead>\n",
       "    <tr style=\"text-align: right;\">\n",
       "      <th></th>\n",
       "      <th>neut_min</th>\n",
       "      <th>neut_max</th>\n",
       "      <th>neut_med</th>\n",
       "      <th>blast_min</th>\n",
       "      <th>blast_max</th>\n",
       "      <th>blast_med</th>\n",
       "    </tr>\n",
       "  </thead>\n",
       "  <tbody>\n",
       "    <tr>\n",
       "      <th>count</th>\n",
       "      <td>92.000000</td>\n",
       "      <td>92.000000</td>\n",
       "      <td>92.000000</td>\n",
       "      <td>92.000000</td>\n",
       "      <td>92.000000</td>\n",
       "      <td>92.000000</td>\n",
       "    </tr>\n",
       "    <tr>\n",
       "      <th>mean</th>\n",
       "      <td>0.143457</td>\n",
       "      <td>3.412489</td>\n",
       "      <td>0.855978</td>\n",
       "      <td>9.000000</td>\n",
       "      <td>50.434783</td>\n",
       "      <td>16.657609</td>\n",
       "    </tr>\n",
       "    <tr>\n",
       "      <th>std</th>\n",
       "      <td>0.364799</td>\n",
       "      <td>2.990093</td>\n",
       "      <td>0.804658</td>\n",
       "      <td>17.018251</td>\n",
       "      <td>24.832208</td>\n",
       "      <td>21.718311</td>\n",
       "    </tr>\n",
       "    <tr>\n",
       "      <th>min</th>\n",
       "      <td>0.000000</td>\n",
       "      <td>0.010000</td>\n",
       "      <td>0.000000</td>\n",
       "      <td>2.500000</td>\n",
       "      <td>2.500000</td>\n",
       "      <td>2.500000</td>\n",
       "    </tr>\n",
       "    <tr>\n",
       "      <th>25%</th>\n",
       "      <td>0.000000</td>\n",
       "      <td>1.270000</td>\n",
       "      <td>0.310000</td>\n",
       "      <td>2.500000</td>\n",
       "      <td>30.000000</td>\n",
       "      <td>2.500000</td>\n",
       "    </tr>\n",
       "    <tr>\n",
       "      <th>50%</th>\n",
       "      <td>0.040000</td>\n",
       "      <td>2.570000</td>\n",
       "      <td>0.677500</td>\n",
       "      <td>2.500000</td>\n",
       "      <td>50.000000</td>\n",
       "      <td>2.500000</td>\n",
       "    </tr>\n",
       "    <tr>\n",
       "      <th>75%</th>\n",
       "      <td>0.165000</td>\n",
       "      <td>4.720000</td>\n",
       "      <td>1.073750</td>\n",
       "      <td>2.500000</td>\n",
       "      <td>72.500000</td>\n",
       "      <td>21.375000</td>\n",
       "    </tr>\n",
       "    <tr>\n",
       "      <th>max</th>\n",
       "      <td>3.200000</td>\n",
       "      <td>16.000000</td>\n",
       "      <td>4.800000</td>\n",
       "      <td>86.000000</td>\n",
       "      <td>94.000000</td>\n",
       "      <td>86.000000</td>\n",
       "    </tr>\n",
       "  </tbody>\n",
       "</table>\n",
       "</div>"
      ],
      "text/plain": [
       "        neut_min   neut_max   neut_med  blast_min  blast_max  blast_med\n",
       "count  92.000000  92.000000  92.000000  92.000000  92.000000  92.000000\n",
       "mean    0.143457   3.412489   0.855978   9.000000  50.434783  16.657609\n",
       "std     0.364799   2.990093   0.804658  17.018251  24.832208  21.718311\n",
       "min     0.000000   0.010000   0.000000   2.500000   2.500000   2.500000\n",
       "25%     0.000000   1.270000   0.310000   2.500000  30.000000   2.500000\n",
       "50%     0.040000   2.570000   0.677500   2.500000  50.000000   2.500000\n",
       "75%     0.165000   4.720000   1.073750   2.500000  72.500000  21.375000\n",
       "max     3.200000  16.000000   4.800000  86.000000  94.000000  86.000000"
      ]
     },
     "execution_count": 105,
     "metadata": {},
     "output_type": "execute_result"
    }
   ],
   "source": [
    "all_patient_observation_counts[['neut_min', 'neut_max', 'neut_med', 'blast_min', 'blast_max', 'blast_med']].astype(float).loc[ven_patients].describe()"
   ]
  },
  {
   "cell_type": "code",
   "execution_count": 106,
   "id": "c26367e1-2cc4-4ad5-a673-cd06fc58d97f",
   "metadata": {},
   "outputs": [
    {
     "data": {
      "text/html": [
       "<div>\n",
       "<style scoped>\n",
       "    .dataframe tbody tr th:only-of-type {\n",
       "        vertical-align: middle;\n",
       "    }\n",
       "\n",
       "    .dataframe tbody tr th {\n",
       "        vertical-align: top;\n",
       "    }\n",
       "\n",
       "    .dataframe thead th {\n",
       "        text-align: right;\n",
       "    }\n",
       "</style>\n",
       "<table border=\"1\" class=\"dataframe\">\n",
       "  <thead>\n",
       "    <tr style=\"text-align: right;\">\n",
       "      <th></th>\n",
       "      <th>neut_below_05</th>\n",
       "      <th>blast_below_5</th>\n",
       "    </tr>\n",
       "  </thead>\n",
       "  <tbody>\n",
       "    <tr>\n",
       "      <th>count</th>\n",
       "      <td>92</td>\n",
       "      <td>92</td>\n",
       "    </tr>\n",
       "    <tr>\n",
       "      <th>unique</th>\n",
       "      <td>2</td>\n",
       "      <td>2</td>\n",
       "    </tr>\n",
       "    <tr>\n",
       "      <th>top</th>\n",
       "      <td>True</td>\n",
       "      <td>True</td>\n",
       "    </tr>\n",
       "    <tr>\n",
       "      <th>freq</th>\n",
       "      <td>86</td>\n",
       "      <td>74</td>\n",
       "    </tr>\n",
       "  </tbody>\n",
       "</table>\n",
       "</div>"
      ],
      "text/plain": [
       "       neut_below_05 blast_below_5\n",
       "count             92            92\n",
       "unique             2             2\n",
       "top             True          True\n",
       "freq              86            74"
      ]
     },
     "execution_count": 106,
     "metadata": {},
     "output_type": "execute_result"
    }
   ],
   "source": [
    "all_patient_observation_counts[['neut_below_05', 'blast_below_5']].loc[ven_patients].describe()"
   ]
  },
  {
   "cell_type": "markdown",
   "id": "a4de66fa-be40-4991-8a98-2bc073bded98",
   "metadata": {},
   "source": [
    "### Model assumptions/hypotheses"
   ]
  },
  {
   "cell_type": "code",
   "execution_count": 107,
   "id": "8dd26a54-2b2f-4d42-8e98-2e67b9b83033",
   "metadata": {},
   "outputs": [],
   "source": [
    "modeling_patient_data = modeling_patient_data.join(neut_blast_correlations)"
   ]
  },
  {
   "cell_type": "code",
   "execution_count": 108,
   "id": "bbaee71a-71e0-40a5-b876-79f918d0ebdc",
   "metadata": {},
   "outputs": [
    {
     "data": {
      "image/png": "[encoded data removed]",
      "text/plain": [
       "<Figure size 640x480 with 1 Axes>"
      ]
     },
     "metadata": {},
     "output_type": "display_data"
    }
   ],
   "source": [
    "plt.hist(modeling_patient_data.neut_treatment_spearmanr, bins=20)\n",
    "plt.axvline(0, color='blue', linestyle='--', label='zero')\n",
    "#plt.title('Assumption 1')\n",
    "plt.xlabel('Spearman R between time-since-treatment and neutrophil counts')\n",
    "plt.ylabel('Patient Count')\n",
    "plt.tight_layout()\n",
    "plt.savefig('fig2b_h1.png', dpi=300)\n",
    "plt.show()"
   ]
  },
  {
   "cell_type": "code",
   "execution_count": 109,
   "id": "c21a8768-b1d5-4a81-b6ae-d456d645d925",
   "metadata": {},
   "outputs": [
    {
     "data": {
      "image/png": "[encoded data removed]",
      "text/plain": [
       "<Figure size 640x480 with 1 Axes>"
      ]
     },
     "metadata": {},
     "output_type": "display_data"
    }
   ],
   "source": [
    "plt.hist(modeling_patient_data.neut_blast_spearmanr, bins=20)\n",
    "plt.axvline(0, color='blue', linestyle='--', label='zero')\n",
    "#plt.title('Assumption 2')\n",
    "plt.xlabel('Spearman R between interpolated BM blasts and neutrophil counts')\n",
    "plt.ylabel('Patient Count')\n",
    "plt.tight_layout()\n",
    "plt.savefig('fig2b_h2.png', dpi=300)\n",
    "plt.show()"
   ]
  },
  {
   "cell_type": "code",
   "execution_count": 110,
   "id": "91e8d2c4-53f8-48da-bb99-cb61beb8cc44",
   "metadata": {},
   "outputs": [],
   "source": [
    "h1_subset = modeling_patient_data[~modeling_patient_data.neut_treatment_spearmanr.isna()]"
   ]
  },
  {
   "cell_type": "code",
   "execution_count": 111,
   "id": "add2ae43-d25a-44cd-8341-4b1366b400a4",
   "metadata": {},
   "outputs": [
    {
     "name": "stdout",
     "output_type": "stream",
     "text": [
      "negative correlations:  0.2647058823529412 of patients\n",
      "positive correlations:  0.7352941176470589 of patients\n"
     ]
    }
   ],
   "source": [
    "positive_corr = sum(h1_subset.neut_treatment_spearmanr > 0)\n",
    "negative_corr = sum(h1_subset.neut_treatment_spearmanr <= 0)\n",
    "print('negative correlations: ', negative_corr/len(h1_subset), 'of patients')\n",
    "print('positive correlations: ', positive_corr/len(h1_subset), 'of patients')"
   ]
  },
  {
   "cell_type": "code",
   "execution_count": 112,
   "id": "a9f68b1e-e066-4ed4-87e5-cfd6219ee9f2",
   "metadata": {},
   "outputs": [
    {
     "data": {
      "text/plain": [
       "BinomTestResult(k=50, n=68, alternative='two-sided', statistic=0.7352941176470589, pvalue=0.00013083876154198454)"
      ]
     },
     "execution_count": 112,
     "metadata": {},
     "output_type": "execute_result"
    }
   ],
   "source": [
    "import scipy.stats\n",
    "scipy.stats.binomtest(positive_corr, len(h1_subset))"
   ]
  },
  {
   "cell_type": "code",
   "execution_count": 113,
   "id": "04942f5a-909d-47d0-97a8-ffcec681e1b9",
   "metadata": {},
   "outputs": [],
   "source": [
    "h2_subset = modeling_patient_data[~modeling_patient_data.neut_blast_spearmanr.isna()]"
   ]
  },
  {
   "cell_type": "code",
   "execution_count": 114,
   "id": "49fa32bf-1c40-4344-a644-f311e38c9371",
   "metadata": {},
   "outputs": [
    {
     "name": "stdout",
     "output_type": "stream",
     "text": [
      "negative correlations:  0.7272727272727273 of patients\n",
      "positive correlations:  0.2727272727272727 of patients\n"
     ]
    }
   ],
   "source": [
    "positive_corr = sum(h2_subset.neut_blast_spearmanr >= 0)\n",
    "negative_corr = sum(h2_subset.neut_blast_spearmanr < 0)\n",
    "print('negative correlations: ', negative_corr/len(h2_subset), 'of patients')\n",
    "print('positive correlations: ', positive_corr/len(h2_subset), 'of patients')"
   ]
  },
  {
   "cell_type": "code",
   "execution_count": 115,
   "id": "f4b0742b-f184-4f3e-b252-3fda5a2feee0",
   "metadata": {},
   "outputs": [
    {
     "data": {
      "text/plain": [
       "BinomTestResult(k=48, n=66, alternative='two-sided', statistic=0.7272727272727273, pvalue=0.00028711844966164033)"
      ]
     },
     "execution_count": 115,
     "metadata": {},
     "output_type": "execute_result"
    }
   ],
   "source": [
    "scipy.stats.binomtest(negative_corr, len(h2_subset))"
   ]
  },
  {
   "cell_type": "markdown",
   "id": "9d185462-7111-44b7-9078-cd1f2275e0b4",
   "metadata": {},
   "source": [
    "## Train/test data\n",
    "\n",
    "This includes all patients with enough data for the train/test split."
   ]
  },
  {
   "cell_type": "code",
   "execution_count": 116,
   "id": "396ff4dc-e4cc-48b8-bcd4-10f5479839fc",
   "metadata": {},
   "outputs": [],
   "source": [
    "train_test_patients = patient_cycle_train_table.index.unique()"
   ]
  },
  {
   "cell_type": "code",
   "execution_count": 117,
   "id": "c96b1213-0329-4652-8e4c-7067a3c0d077",
   "metadata": {},
   "outputs": [
    {
     "name": "stdout",
     "output_type": "stream",
     "text": [
      "33\n"
     ]
    }
   ],
   "source": [
    "print(len(train_test_patients))"
   ]
  },
  {
   "cell_type": "code",
   "execution_count": 118,
   "id": "776d9a4e-caef-40c1-8bbc-3d66794d3d2c",
   "metadata": {},
   "outputs": [],
   "source": [
    "train_test_patient_data = patient_data.loc[train_test_patients]"
   ]
  },
  {
   "cell_type": "code",
   "execution_count": 119,
   "id": "a246872b-1c40-4337-81d1-e0f93792acfd",
   "metadata": {},
   "outputs": [
    {
     "data": {
      "text/html": [
       "<div>\n",
       "<style scoped>\n",
       "    .dataframe tbody tr th:only-of-type {\n",
       "        vertical-align: middle;\n",
       "    }\n",
       "\n",
       "    .dataframe tbody tr th {\n",
       "        vertical-align: top;\n",
       "    }\n",
       "\n",
       "    .dataframe thead th {\n",
       "        text-align: right;\n",
       "    }\n",
       "</style>\n",
       "<table border=\"1\" class=\"dataframe\">\n",
       "  <thead>\n",
       "    <tr style=\"text-align: right;\">\n",
       "      <th></th>\n",
       "      <th>Gender</th>\n",
       "      <th>age_group_scr</th>\n",
       "      <th>status</th>\n",
       "      <th>relapse_occurred</th>\n",
       "    </tr>\n",
       "  </thead>\n",
       "  <tbody>\n",
       "    <tr>\n",
       "      <th>count</th>\n",
       "      <td>33</td>\n",
       "      <td>33</td>\n",
       "      <td>33</td>\n",
       "      <td>33</td>\n",
       "    </tr>\n",
       "    <tr>\n",
       "      <th>unique</th>\n",
       "      <td>2</td>\n",
       "      <td>2</td>\n",
       "      <td>2</td>\n",
       "      <td>2</td>\n",
       "    </tr>\n",
       "    <tr>\n",
       "      <th>top</th>\n",
       "      <td>Male</td>\n",
       "      <td>75 years or younger</td>\n",
       "      <td>Alive</td>\n",
       "      <td>No</td>\n",
       "    </tr>\n",
       "    <tr>\n",
       "      <th>freq</th>\n",
       "      <td>20</td>\n",
       "      <td>22</td>\n",
       "      <td>20</td>\n",
       "      <td>19</td>\n",
       "    </tr>\n",
       "  </tbody>\n",
       "</table>\n",
       "</div>"
      ],
      "text/plain": [
       "       Gender        age_group_scr status relapse_occurred\n",
       "count      33                   33     33               33\n",
       "unique      2                    2      2                2\n",
       "top      Male  75 years or younger  Alive               No\n",
       "freq       20                   22     20               19"
      ]
     },
     "execution_count": 119,
     "metadata": {},
     "output_type": "execute_result"
    }
   ],
   "source": [
    "train_test_patient_data[['Gender', 'age_group_scr', 'status', 'relapse_occurred']].describe()"
   ]
  },
  {
   "cell_type": "code",
   "execution_count": 120,
   "id": "6a02156d-659b-4f45-889e-69ada0e25e47",
   "metadata": {},
   "outputs": [
    {
     "data": {
      "text/html": [
       "<div>\n",
       "<style scoped>\n",
       "    .dataframe tbody tr th:only-of-type {\n",
       "        vertical-align: middle;\n",
       "    }\n",
       "\n",
       "    .dataframe tbody tr th {\n",
       "        vertical-align: top;\n",
       "    }\n",
       "\n",
       "    .dataframe thead th {\n",
       "        text-align: right;\n",
       "    }\n",
       "</style>\n",
       "<table border=\"1\" class=\"dataframe\">\n",
       "  <thead>\n",
       "    <tr style=\"text-align: right;\">\n",
       "      <th></th>\n",
       "      <th>OS_time_ven2_days</th>\n",
       "      <th>PFS_time_days</th>\n",
       "    </tr>\n",
       "  </thead>\n",
       "  <tbody>\n",
       "    <tr>\n",
       "      <th>count</th>\n",
       "      <td>33.000000</td>\n",
       "      <td>33.00000</td>\n",
       "    </tr>\n",
       "    <tr>\n",
       "      <th>mean</th>\n",
       "      <td>614.636364</td>\n",
       "      <td>534.30303</td>\n",
       "    </tr>\n",
       "    <tr>\n",
       "      <th>std</th>\n",
       "      <td>223.354793</td>\n",
       "      <td>246.73651</td>\n",
       "    </tr>\n",
       "    <tr>\n",
       "      <th>min</th>\n",
       "      <td>249.000000</td>\n",
       "      <td>215.00000</td>\n",
       "    </tr>\n",
       "    <tr>\n",
       "      <th>25%</th>\n",
       "      <td>442.000000</td>\n",
       "      <td>344.00000</td>\n",
       "    </tr>\n",
       "    <tr>\n",
       "      <th>50%</th>\n",
       "      <td>585.000000</td>\n",
       "      <td>533.00000</td>\n",
       "    </tr>\n",
       "    <tr>\n",
       "      <th>75%</th>\n",
       "      <td>702.000000</td>\n",
       "      <td>673.00000</td>\n",
       "    </tr>\n",
       "    <tr>\n",
       "      <th>max</th>\n",
       "      <td>1120.000000</td>\n",
       "      <td>1120.00000</td>\n",
       "    </tr>\n",
       "  </tbody>\n",
       "</table>\n",
       "</div>"
      ],
      "text/plain": [
       "       OS_time_ven2_days  PFS_time_days\n",
       "count          33.000000       33.00000\n",
       "mean          614.636364      534.30303\n",
       "std           223.354793      246.73651\n",
       "min           249.000000      215.00000\n",
       "25%           442.000000      344.00000\n",
       "50%           585.000000      533.00000\n",
       "75%           702.000000      673.00000\n",
       "max          1120.000000     1120.00000"
      ]
     },
     "execution_count": 120,
     "metadata": {},
     "output_type": "execute_result"
    }
   ],
   "source": [
    "train_test_patient_data[['OS_time_ven2_days', 'PFS_time_days']].describe()"
   ]
  },
  {
   "cell_type": "code",
   "execution_count": 121,
   "id": "b6fbd042-b44e-45da-826c-fec97d9c218d",
   "metadata": {},
   "outputs": [
    {
     "data": {
      "text/plain": [
       "best_response\n",
       "CR      24\n",
       "CRi      8\n",
       "MLFS     1\n",
       "Name: Study_subject_Id, dtype: int64"
      ]
     },
     "execution_count": 121,
     "metadata": {},
     "output_type": "execute_result"
    }
   ],
   "source": [
    "train_test_patient_data.groupby('best_response').agg('count')['Study_subject_Id']"
   ]
  },
  {
   "cell_type": "code",
   "execution_count": 122,
   "id": "91d6470c-81aa-444b-bf1d-abd8008ed70f",
   "metadata": {},
   "outputs": [
    {
     "data": {
      "text/plain": [
       "incl_dg_for_tables\n",
       "De novo / ND AML    25\n",
       "R/R AML              6\n",
       "sAML                 2\n",
       "Name: Study_subject_Id, dtype: int64"
      ]
     },
     "execution_count": 122,
     "metadata": {},
     "output_type": "execute_result"
    }
   ],
   "source": [
    "train_test_patient_data.groupby('incl_dg_for_tables').agg('count')['Study_subject_Id']"
   ]
  },
  {
   "cell_type": "code",
   "execution_count": 123,
   "id": "fde0bd74-d541-469e-8657-25ff18b6281f",
   "metadata": {},
   "outputs": [
    {
     "data": {
      "text/html": [
       "<div>\n",
       "<style scoped>\n",
       "    .dataframe tbody tr th:only-of-type {\n",
       "        vertical-align: middle;\n",
       "    }\n",
       "\n",
       "    .dataframe tbody tr th {\n",
       "        vertical-align: top;\n",
       "    }\n",
       "\n",
       "    .dataframe thead th {\n",
       "        text-align: right;\n",
       "    }\n",
       "</style>\n",
       "<table border=\"1\" class=\"dataframe\">\n",
       "  <thead>\n",
       "    <tr style=\"text-align: right;\">\n",
       "      <th></th>\n",
       "      <th>neut</th>\n",
       "      <th>blast</th>\n",
       "      <th>cycle</th>\n",
       "    </tr>\n",
       "  </thead>\n",
       "  <tbody>\n",
       "    <tr>\n",
       "      <th>count</th>\n",
       "      <td>33.000000</td>\n",
       "      <td>33.000000</td>\n",
       "      <td>33.000000</td>\n",
       "    </tr>\n",
       "    <tr>\n",
       "      <th>mean</th>\n",
       "      <td>33.090909</td>\n",
       "      <td>8.424242</td>\n",
       "      <td>18.181818</td>\n",
       "    </tr>\n",
       "    <tr>\n",
       "      <th>std</th>\n",
       "      <td>14.725326</td>\n",
       "      <td>2.872611</td>\n",
       "      <td>9.254913</td>\n",
       "    </tr>\n",
       "    <tr>\n",
       "      <th>min</th>\n",
       "      <td>11.000000</td>\n",
       "      <td>4.000000</td>\n",
       "      <td>7.000000</td>\n",
       "    </tr>\n",
       "    <tr>\n",
       "      <th>25%</th>\n",
       "      <td>19.000000</td>\n",
       "      <td>6.000000</td>\n",
       "      <td>10.000000</td>\n",
       "    </tr>\n",
       "    <tr>\n",
       "      <th>50%</th>\n",
       "      <td>33.000000</td>\n",
       "      <td>8.000000</td>\n",
       "      <td>16.000000</td>\n",
       "    </tr>\n",
       "    <tr>\n",
       "      <th>75%</th>\n",
       "      <td>45.000000</td>\n",
       "      <td>10.000000</td>\n",
       "      <td>25.000000</td>\n",
       "    </tr>\n",
       "    <tr>\n",
       "      <th>max</th>\n",
       "      <td>59.000000</td>\n",
       "      <td>14.000000</td>\n",
       "      <td>37.000000</td>\n",
       "    </tr>\n",
       "  </tbody>\n",
       "</table>\n",
       "</div>"
      ],
      "text/plain": [
       "            neut      blast      cycle\n",
       "count  33.000000  33.000000  33.000000\n",
       "mean   33.090909   8.424242  18.181818\n",
       "std    14.725326   2.872611   9.254913\n",
       "min    11.000000   4.000000   7.000000\n",
       "25%    19.000000   6.000000  10.000000\n",
       "50%    33.000000   8.000000  16.000000\n",
       "75%    45.000000  10.000000  25.000000\n",
       "max    59.000000  14.000000  37.000000"
      ]
     },
     "execution_count": 123,
     "metadata": {},
     "output_type": "execute_result"
    }
   ],
   "source": [
    "all_patient_observation_counts[['neut', 'blast', 'cycle']].loc[train_test_patients].astype(float).describe()"
   ]
  },
  {
   "cell_type": "code",
   "execution_count": 124,
   "id": "5b01485e-2ae3-4d75-8712-61e62015945d",
   "metadata": {},
   "outputs": [
    {
     "data": {
      "text/html": [
       "<div>\n",
       "<style scoped>\n",
       "    .dataframe tbody tr th:only-of-type {\n",
       "        vertical-align: middle;\n",
       "    }\n",
       "\n",
       "    .dataframe tbody tr th {\n",
       "        vertical-align: top;\n",
       "    }\n",
       "\n",
       "    .dataframe thead th {\n",
       "        text-align: right;\n",
       "    }\n",
       "</style>\n",
       "<table border=\"1\" class=\"dataframe\">\n",
       "  <thead>\n",
       "    <tr style=\"text-align: right;\">\n",
       "      <th></th>\n",
       "      <th>neut_min</th>\n",
       "      <th>neut_max</th>\n",
       "      <th>neut_med</th>\n",
       "      <th>blast_min</th>\n",
       "      <th>blast_max</th>\n",
       "      <th>blast_med</th>\n",
       "    </tr>\n",
       "  </thead>\n",
       "  <tbody>\n",
       "    <tr>\n",
       "      <th>count</th>\n",
       "      <td>33.000000</td>\n",
       "      <td>33.000000</td>\n",
       "      <td>33.000000</td>\n",
       "      <td>33.0</td>\n",
       "      <td>33.000000</td>\n",
       "      <td>33.000000</td>\n",
       "    </tr>\n",
       "    <tr>\n",
       "      <th>mean</th>\n",
       "      <td>0.141364</td>\n",
       "      <td>4.107909</td>\n",
       "      <td>1.038606</td>\n",
       "      <td>2.5</td>\n",
       "      <td>46.272727</td>\n",
       "      <td>3.916667</td>\n",
       "    </tr>\n",
       "    <tr>\n",
       "      <th>std</th>\n",
       "      <td>0.159104</td>\n",
       "      <td>2.535089</td>\n",
       "      <td>0.649184</td>\n",
       "      <td>0.0</td>\n",
       "      <td>25.081458</td>\n",
       "      <td>3.348663</td>\n",
       "    </tr>\n",
       "    <tr>\n",
       "      <th>min</th>\n",
       "      <td>0.000000</td>\n",
       "      <td>1.260000</td>\n",
       "      <td>0.130000</td>\n",
       "      <td>2.5</td>\n",
       "      <td>9.000000</td>\n",
       "      <td>2.500000</td>\n",
       "    </tr>\n",
       "    <tr>\n",
       "      <th>25%</th>\n",
       "      <td>0.000000</td>\n",
       "      <td>2.400000</td>\n",
       "      <td>0.645000</td>\n",
       "      <td>2.5</td>\n",
       "      <td>30.000000</td>\n",
       "      <td>2.500000</td>\n",
       "    </tr>\n",
       "    <tr>\n",
       "      <th>50%</th>\n",
       "      <td>0.092000</td>\n",
       "      <td>3.100000</td>\n",
       "      <td>0.858000</td>\n",
       "      <td>2.5</td>\n",
       "      <td>35.000000</td>\n",
       "      <td>2.500000</td>\n",
       "    </tr>\n",
       "    <tr>\n",
       "      <th>75%</th>\n",
       "      <td>0.190000</td>\n",
       "      <td>5.050000</td>\n",
       "      <td>1.300000</td>\n",
       "      <td>2.5</td>\n",
       "      <td>72.000000</td>\n",
       "      <td>2.500000</td>\n",
       "    </tr>\n",
       "    <tr>\n",
       "      <th>max</th>\n",
       "      <td>0.570000</td>\n",
       "      <td>11.060000</td>\n",
       "      <td>2.925000</td>\n",
       "      <td>2.5</td>\n",
       "      <td>85.000000</td>\n",
       "      <td>14.000000</td>\n",
       "    </tr>\n",
       "  </tbody>\n",
       "</table>\n",
       "</div>"
      ],
      "text/plain": [
       "        neut_min   neut_max   neut_med  blast_min  blast_max  blast_med\n",
       "count  33.000000  33.000000  33.000000       33.0  33.000000  33.000000\n",
       "mean    0.141364   4.107909   1.038606        2.5  46.272727   3.916667\n",
       "std     0.159104   2.535089   0.649184        0.0  25.081458   3.348663\n",
       "min     0.000000   1.260000   0.130000        2.5   9.000000   2.500000\n",
       "25%     0.000000   2.400000   0.645000        2.5  30.000000   2.500000\n",
       "50%     0.092000   3.100000   0.858000        2.5  35.000000   2.500000\n",
       "75%     0.190000   5.050000   1.300000        2.5  72.000000   2.500000\n",
       "max     0.570000  11.060000   2.925000        2.5  85.000000  14.000000"
      ]
     },
     "execution_count": 124,
     "metadata": {},
     "output_type": "execute_result"
    }
   ],
   "source": [
    "all_patient_observation_counts[['neut_min', 'neut_max', 'neut_med', 'blast_min', 'blast_max', 'blast_med']].astype(float).loc[train_test_patients].describe()"
   ]
  },
  {
   "cell_type": "code",
   "execution_count": 125,
   "id": "2c424548-9a36-4f92-bda9-5b74399aa438",
   "metadata": {},
   "outputs": [
    {
     "data": {
      "text/html": [
       "<div>\n",
       "<style scoped>\n",
       "    .dataframe tbody tr th:only-of-type {\n",
       "        vertical-align: middle;\n",
       "    }\n",
       "\n",
       "    .dataframe tbody tr th {\n",
       "        vertical-align: top;\n",
       "    }\n",
       "\n",
       "    .dataframe thead th {\n",
       "        text-align: right;\n",
       "    }\n",
       "</style>\n",
       "<table border=\"1\" class=\"dataframe\">\n",
       "  <thead>\n",
       "    <tr style=\"text-align: right;\">\n",
       "      <th></th>\n",
       "      <th>neut_below_05</th>\n",
       "      <th>blast_below_5</th>\n",
       "    </tr>\n",
       "  </thead>\n",
       "  <tbody>\n",
       "    <tr>\n",
       "      <th>count</th>\n",
       "      <td>33</td>\n",
       "      <td>33</td>\n",
       "    </tr>\n",
       "    <tr>\n",
       "      <th>unique</th>\n",
       "      <td>2</td>\n",
       "      <td>1</td>\n",
       "    </tr>\n",
       "    <tr>\n",
       "      <th>top</th>\n",
       "      <td>True</td>\n",
       "      <td>True</td>\n",
       "    </tr>\n",
       "    <tr>\n",
       "      <th>freq</th>\n",
       "      <td>31</td>\n",
       "      <td>33</td>\n",
       "    </tr>\n",
       "  </tbody>\n",
       "</table>\n",
       "</div>"
      ],
      "text/plain": [
       "       neut_below_05 blast_below_5\n",
       "count             33            33\n",
       "unique             2             1\n",
       "top             True          True\n",
       "freq              31            33"
      ]
     },
     "execution_count": 125,
     "metadata": {},
     "output_type": "execute_result"
    }
   ],
   "source": [
    "all_patient_observation_counts[['neut_below_05', 'blast_below_5']].loc[train_test_patients].describe()"
   ]
  },
  {
   "cell_type": "markdown",
   "id": "9d7b368c-fdd2-4148-ba7a-b8d31b3f6ad5",
   "metadata": {},
   "source": [
    "### Model assumptions/hypotheses"
   ]
  },
  {
   "cell_type": "code",
   "execution_count": 126,
   "id": "cd00feb3-656c-4217-bf4d-8d947be2b719",
   "metadata": {},
   "outputs": [],
   "source": [
    "train_test_patient_data = train_test_patient_data.join(neut_blast_correlations)"
   ]
  },
  {
   "cell_type": "code",
   "execution_count": 135,
   "id": "d33a03b2-df93-4365-95a7-70795879f859",
   "metadata": {},
   "outputs": [
    {
     "data": {
      "image/png": "[encoded data removed]",
      "text/plain": [
       "<Figure size 640x480 with 1 Axes>"
      ]
     },
     "metadata": {},
     "output_type": "display_data"
    }
   ],
   "source": [
    "plt.hist(train_test_patient_data.neut_treatment_spearmanr, bins=20)\n",
    "plt.axvline(0, color='blue', linestyle='--', label='zero')\n",
    "#plt.title('Assumption 1')\n",
    "plt.xlabel('Spearman R between time-since-treatment and neutrophil counts')\n",
    "plt.ylabel('Patient Count')\n",
    "plt.tight_layout()\n",
    "#plt.savefig('fig2b_h1.png', dpi=300)\n",
    "plt.show()"
   ]
  },
  {
   "cell_type": "code",
   "execution_count": 136,
   "id": "0325c2e7-ca04-495c-a894-e24bd6bba36d",
   "metadata": {},
   "outputs": [
    {
     "data": {
      "image/png": "[encoded data removed]",
      "text/plain": [
       "<Figure size 640x480 with 1 Axes>"
      ]
     },
     "metadata": {},
     "output_type": "display_data"
    }
   ],
   "source": [
    "plt.hist(train_test_patient_data.neut_blast_spearmanr, bins=20)\n",
    "plt.axvline(0, color='blue', linestyle='--', label='zero')\n",
    "#plt.title('Assumption 2')\n",
    "plt.xlabel('Spearman R between interpolated BM blasts and neutrophil counts')\n",
    "plt.ylabel('Patient Count')\n",
    "plt.tight_layout()\n",
    "#plt.savefig('fig2b_h2.png', dpi=300)\n",
    "plt.show()"
   ]
  },
  {
   "cell_type": "code",
   "execution_count": 129,
   "id": "48f07cf6-8051-41c5-913f-76754b7b9632",
   "metadata": {},
   "outputs": [],
   "source": [
    "h1_subset = train_test_patient_data[~train_test_patient_data.neut_treatment_spearmanr.isna()]"
   ]
  },
  {
   "cell_type": "code",
   "execution_count": 130,
   "id": "cdc550e8-0fa6-40fe-b5bc-f301dd3d85e6",
   "metadata": {},
   "outputs": [
    {
     "name": "stdout",
     "output_type": "stream",
     "text": [
      "negative correlations:  0.3333333333333333 of patients\n",
      "positive correlations:  0.6666666666666666 of patients\n"
     ]
    }
   ],
   "source": [
    "positive_corr = sum(h1_subset.neut_treatment_spearmanr > 0)\n",
    "negative_corr = sum(h1_subset.neut_treatment_spearmanr <= 0)\n",
    "print('negative correlations: ', negative_corr/len(h1_subset), 'of patients')\n",
    "print('positive correlations: ', positive_corr/len(h1_subset), 'of patients')"
   ]
  },
  {
   "cell_type": "code",
   "execution_count": 131,
   "id": "f9a8b16c-08b1-4eb4-b4de-3a94c07a50a2",
   "metadata": {},
   "outputs": [
    {
     "data": {
      "text/plain": [
       "BinomTestResult(k=22, n=33, alternative='two-sided', statistic=0.6666666666666666, pvalue=0.08014331245794892)"
      ]
     },
     "execution_count": 131,
     "metadata": {},
     "output_type": "execute_result"
    }
   ],
   "source": [
    "import scipy.stats\n",
    "scipy.stats.binomtest(positive_corr, len(h1_subset))"
   ]
  },
  {
   "cell_type": "code",
   "execution_count": 132,
   "id": "ae58dd22-f5ba-4a54-b687-fa4d09ed1b04",
   "metadata": {},
   "outputs": [],
   "source": [
    "h2_subset = modeling_patient_data[~modeling_patient_data.neut_blast_spearmanr.isna()]"
   ]
  },
  {
   "cell_type": "code",
   "execution_count": 133,
   "id": "5952733e-344e-49ff-b16a-e9fa099b7886",
   "metadata": {},
   "outputs": [
    {
     "name": "stdout",
     "output_type": "stream",
     "text": [
      "negative correlations:  0.7272727272727273 of patients\n",
      "positive correlations:  0.2727272727272727 of patients\n"
     ]
    }
   ],
   "source": [
    "positive_corr = sum(h2_subset.neut_blast_spearmanr >= 0)\n",
    "negative_corr = sum(h2_subset.neut_blast_spearmanr < 0)\n",
    "print('negative correlations: ', negative_corr/len(h2_subset), 'of patients')\n",
    "print('positive correlations: ', positive_corr/len(h2_subset), 'of patients')"
   ]
  },
  {
   "cell_type": "code",
   "execution_count": 134,
   "id": "b57818b4-3301-4160-a061-099d7680afc5",
   "metadata": {},
   "outputs": [
    {
     "data": {
      "text/plain": [
       "BinomTestResult(k=48, n=66, alternative='two-sided', statistic=0.7272727272727273, pvalue=0.00028711844966164033)"
      ]
     },
     "execution_count": 134,
     "metadata": {},
     "output_type": "execute_result"
    }
   ],
   "source": [
    "scipy.stats.binomtest(negative_corr, len(h2_subset))"
   ]
  },
  {
   "cell_type": "code",
   "execution_count": null,
   "id": "4ee3f2a6-fbb5-42cb-b7c8-3cfe333919fd",
   "metadata": {},
   "outputs": [],
   "source": []
  }
 ],
 "metadata": {
  "kernelspec": {
   "display_name": "Python 3 (ipykernel)",
   "language": "python",
   "name": "python3"
  },
  "language_info": {
   "codemirror_mode": {
    "name": "ipython",
    "version": 3
   },
   "file_extension": ".py",
   "mimetype": "text/x-python",
   "name": "python",
   "nbconvert_exporter": "python",
   "pygments_lexer": "ipython3",
   "version": "3.10.6"
  }
 },
 "nbformat": 4,
 "nbformat_minor": 5
}
