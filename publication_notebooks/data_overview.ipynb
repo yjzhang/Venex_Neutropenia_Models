{
 "cells": [
  {
   "cell_type": "markdown",
   "id": "5c2e5608-7586-4880-81c1-78d87b3d8205",
   "metadata": {},
   "source": [
    "## Data Overview\n",
    "\n",
    "Compare summary stats for the overall VenEx data, the subset of data used in modeling, and the subset of data used for train/test split."
   ]
  },
  {
   "cell_type": "code",
   "execution_count": 1,
   "id": "ddeed8f5-c778-4ee7-a092-b797fb97d2dc",
   "metadata": {},
   "outputs": [],
   "source": [
    "import sys\n",
    "sys.path.append('../')\n",
    "\n",
    "import numpy as np\n",
    "import pandas as pd\n",
    "import matplotlib.pyplot as plt"
   ]
  },
  {
   "cell_type": "code",
   "execution_count": 2,
   "id": "0d6d9821-f842-4481-ac6c-b0eb473a4640",
   "metadata": {},
   "outputs": [],
   "source": [
    "from new_patient_model import extract_data_from_tables_new"
   ]
  },
  {
   "cell_type": "markdown",
   "id": "a3c15083-b79e-4b55-85eb-5d637c31faab",
   "metadata": {},
   "source": [
    "## Load data"
   ]
  },
  {
   "cell_type": "code",
   "execution_count": 3,
   "id": "be24219e-a6ad-4cb6-a50a-0df1a3c90cb6",
   "metadata": {},
   "outputs": [],
   "source": [
    "patient_data = pd.read_csv('../patient_data_venex/ven_responses_052023.txt', sep='\\t')\n",
    "patient_data.index = patient_data.Study_subject_Id"
   ]
  },
  {
   "cell_type": "code",
   "execution_count": 4,
   "id": "bff70f64-601a-4793-941c-735c79908189",
   "metadata": {},
   "outputs": [],
   "source": [
    "blood_counts = pd.read_excel('../patient_data_venex/Ven_blood_counts_16042023.xlsx', sheet_name='Blood_counts')\n",
    "bm_blasts = pd.read_excel('../patient_data_venex/Ven_blood_counts_16042023.xlsx', sheet_name='Bone_marrow_blasts')\n",
    "cycle_days = pd.read_excel('../patient_data_venex/Ven_blood_counts_16042023.xlsx', sheet_name='Cycle_days')"
   ]
  },
  {
   "cell_type": "code",
   "execution_count": 5,
   "id": "ccb872eb-11e1-46c2-a4d3-6ebd76b43ba4",
   "metadata": {},
   "outputs": [],
   "source": [
    "rmse_data_combined = pd.read_csv('rmse_data_combined_table_2025_05_01.csv', index_col=0)"
   ]
  },
  {
   "cell_type": "code",
   "execution_count": 6,
   "id": "08fae1a0-cf25-41be-9d4d-f2d36856dd4a",
   "metadata": {},
   "outputs": [],
   "source": [
    "patient_cycle_train_table = pd.read_csv('patient_cycle_train_table.csv', index_col=0)\n",
    "patient_cycle_test_table = pd.read_csv('patient_cycle_test_table.csv', index_col=0)\n",
    "patient_cycle_additional_table = pd.read_csv('patient_cycle_additional_table.csv', index_col=0)"
   ]
  },
  {
   "cell_type": "code",
   "execution_count": 7,
   "id": "6ce32d4a-38da-46bf-9528-bc234ed0a7f9",
   "metadata": {},
   "outputs": [
    {
     "data": {
      "text/plain": [
       "Index(['Study_subject_Id', 'incl_dg_for_tables', 'no_ven_therapy', 'prev_allo',\n",
       "       'prev_hypomet_all', 'Gender', 'age_group_scr', 'ecog_scr', 'hb_scr',\n",
       "       'leuk_scr', 'neut_all_scr', 'trom_scr', 'ld_scr', 'b_blasts_scr',\n",
       "       'blasts_bm_scr', 'fab', 'del_5', 'del_5q', 'del_7', 'del_7q', 'del_17p',\n",
       "       'complex', 'monosomal', 'HR_karyotype', 'karyotype_normal', 'NPM1',\n",
       "       'FLT3_tkd', 'FLT3_itd', 'FLT3_rat', 'CEBPA', 'DNMT3A', 'IDH1', 'IDH2',\n",
       "       'TET2', 'RUNX1', 'SRSF2', 'TP53', 'ASXL1', 'BCOR', 'CDKN2A', 'CREBBP',\n",
       "       'CUX1', 'EP300', 'ETV6', 'EZH2', 'GATA2', 'KDM6A', 'NF1', 'RAD21',\n",
       "       'SETD2', 'STAG2', 'XRSR2', 'BRAF', 'CALR', 'CBL', 'CSF3R', 'GATA1',\n",
       "       'JAK2', 'KIT', 'KRAS', 'NRAS', 'MPL', 'PDGFRA', 'PHF6', 'PTPN11',\n",
       "       'SETBP1', 'SF3B1', 'SMC1A', 'SMC3', 'U2AF1', 'WT1', 'c1_response',\n",
       "       'c2_response', 'c3_response', 'best_response', 'mrd_neg', 'mrd_method',\n",
       "       'relapse_occurred', 'eot_reason', 'eot_response', 'status',\n",
       "       'OS_time_ven2_days', 'PFS_time_days'],\n",
       "      dtype='object')"
      ]
     },
     "execution_count": 7,
     "metadata": {},
     "output_type": "execute_result"
    }
   ],
   "source": [
    "patient_data.columns"
   ]
  },
  {
   "cell_type": "code",
   "execution_count": 8,
   "id": "3365e3b4-b46c-404c-8d85-88b2da41f713",
   "metadata": {},
   "outputs": [
    {
     "data": {
      "text/plain": [
       "no_ven_therapy\n",
       "No     92\n",
       "Yes    12\n",
       "Name: Study_subject_Id, dtype: int64"
      ]
     },
     "execution_count": 8,
     "metadata": {},
     "output_type": "execute_result"
    }
   ],
   "source": [
    "patient_data.groupby('no_ven_therapy').agg('count')['Study_subject_Id']"
   ]
  },
  {
   "cell_type": "markdown",
   "id": "8d34f278-d067-4ba5-9ac7-b55e3b0fafb3",
   "metadata": {},
   "source": [
    "## Calculate the number of observations for each patient"
   ]
  },
  {
   "cell_type": "code",
   "execution_count": 9,
   "id": "1685ad61-8299-427f-b85b-487912c2d2b6",
   "metadata": {},
   "outputs": [],
   "source": [
    "all_patient_observation_counts = {}\n",
    "for patient_id in patient_data.index:\n",
    "    cycle_info, leuk_table, blast_table = extract_data_from_tables_new(blood_counts,\n",
    "                                                        bm_blasts, cycle_days, patient_id, use_neut=True)\n",
    "    obs_counts = {}\n",
    "    obs_counts['neut'] = len(leuk_table)\n",
    "    obs_counts['blast'] = len(blast_table)\n",
    "    obs_counts['cycle'] = len(cycle_info)\n",
    "    all_patient_observation_counts[patient_id] = obs_counts"
   ]
  },
  {
   "cell_type": "code",
   "execution_count": 10,
   "id": "818f8cf1-a39c-477b-9449-74bb9a0137bd",
   "metadata": {},
   "outputs": [],
   "source": [
    "all_patient_observation_counts = pd.DataFrame(all_patient_observation_counts).T"
   ]
  },
  {
   "cell_type": "markdown",
   "id": "6296e39d-a1a3-42e4-9008-fa4ea60b630f",
   "metadata": {},
   "source": [
    "## All patient data\n",
    "\n",
    "Data for all patients"
   ]
  },
  {
   "cell_type": "code",
   "execution_count": 11,
   "id": "f20b2424-82a3-4b41-b346-13c6ebed2e7f",
   "metadata": {},
   "outputs": [
    {
     "data": {
      "text/html": [
       "<div>\n",
       "<style scoped>\n",
       "    .dataframe tbody tr th:only-of-type {\n",
       "        vertical-align: middle;\n",
       "    }\n",
       "\n",
       "    .dataframe tbody tr th {\n",
       "        vertical-align: top;\n",
       "    }\n",
       "\n",
       "    .dataframe thead th {\n",
       "        text-align: right;\n",
       "    }\n",
       "</style>\n",
       "<table border=\"1\" class=\"dataframe\">\n",
       "  <thead>\n",
       "    <tr style=\"text-align: right;\">\n",
       "      <th></th>\n",
       "      <th>Gender</th>\n",
       "      <th>age_group_scr</th>\n",
       "      <th>status</th>\n",
       "    </tr>\n",
       "  </thead>\n",
       "  <tbody>\n",
       "    <tr>\n",
       "      <th>count</th>\n",
       "      <td>104</td>\n",
       "      <td>104</td>\n",
       "      <td>104</td>\n",
       "    </tr>\n",
       "    <tr>\n",
       "      <th>unique</th>\n",
       "      <td>2</td>\n",
       "      <td>2</td>\n",
       "      <td>2</td>\n",
       "    </tr>\n",
       "    <tr>\n",
       "      <th>top</th>\n",
       "      <td>Male</td>\n",
       "      <td>75 years or younger</td>\n",
       "      <td>Exitus</td>\n",
       "    </tr>\n",
       "    <tr>\n",
       "      <th>freq</th>\n",
       "      <td>61</td>\n",
       "      <td>71</td>\n",
       "      <td>72</td>\n",
       "    </tr>\n",
       "  </tbody>\n",
       "</table>\n",
       "</div>"
      ],
      "text/plain": [
       "       Gender        age_group_scr  status\n",
       "count     104                  104     104\n",
       "unique      2                    2       2\n",
       "top      Male  75 years or younger  Exitus\n",
       "freq       61                   71      72"
      ]
     },
     "execution_count": 11,
     "metadata": {},
     "output_type": "execute_result"
    }
   ],
   "source": [
    "patient_data[['Gender', 'age_group_scr', 'status']].describe()"
   ]
  },
  {
   "cell_type": "code",
   "execution_count": 12,
   "id": "f3abc1e3-44e6-4d2a-9853-8b362728be0a",
   "metadata": {},
   "outputs": [
    {
     "data": {
      "text/html": [
       "<div>\n",
       "<style scoped>\n",
       "    .dataframe tbody tr th:only-of-type {\n",
       "        vertical-align: middle;\n",
       "    }\n",
       "\n",
       "    .dataframe tbody tr th {\n",
       "        vertical-align: top;\n",
       "    }\n",
       "\n",
       "    .dataframe thead th {\n",
       "        text-align: right;\n",
       "    }\n",
       "</style>\n",
       "<table border=\"1\" class=\"dataframe\">\n",
       "  <thead>\n",
       "    <tr style=\"text-align: right;\">\n",
       "      <th></th>\n",
       "      <th>OS_time_ven2_days</th>\n",
       "      <th>PFS_time_days</th>\n",
       "    </tr>\n",
       "  </thead>\n",
       "  <tbody>\n",
       "    <tr>\n",
       "      <th>count</th>\n",
       "      <td>104.000000</td>\n",
       "      <td>104.000000</td>\n",
       "    </tr>\n",
       "    <tr>\n",
       "      <th>mean</th>\n",
       "      <td>388.048077</td>\n",
       "      <td>259.278846</td>\n",
       "    </tr>\n",
       "    <tr>\n",
       "      <th>std</th>\n",
       "      <td>278.663084</td>\n",
       "      <td>273.556776</td>\n",
       "    </tr>\n",
       "    <tr>\n",
       "      <th>min</th>\n",
       "      <td>6.000000</td>\n",
       "      <td>1.000000</td>\n",
       "    </tr>\n",
       "    <tr>\n",
       "      <th>25%</th>\n",
       "      <td>133.000000</td>\n",
       "      <td>1.000000</td>\n",
       "    </tr>\n",
       "    <tr>\n",
       "      <th>50%</th>\n",
       "      <td>371.500000</td>\n",
       "      <td>180.000000</td>\n",
       "    </tr>\n",
       "    <tr>\n",
       "      <th>75%</th>\n",
       "      <td>577.500000</td>\n",
       "      <td>406.000000</td>\n",
       "    </tr>\n",
       "    <tr>\n",
       "      <th>max</th>\n",
       "      <td>1120.000000</td>\n",
       "      <td>1120.000000</td>\n",
       "    </tr>\n",
       "  </tbody>\n",
       "</table>\n",
       "</div>"
      ],
      "text/plain": [
       "       OS_time_ven2_days  PFS_time_days\n",
       "count         104.000000     104.000000\n",
       "mean          388.048077     259.278846\n",
       "std           278.663084     273.556776\n",
       "min             6.000000       1.000000\n",
       "25%           133.000000       1.000000\n",
       "50%           371.500000     180.000000\n",
       "75%           577.500000     406.000000\n",
       "max          1120.000000    1120.000000"
      ]
     },
     "execution_count": 12,
     "metadata": {},
     "output_type": "execute_result"
    }
   ],
   "source": [
    "patient_data[['OS_time_ven2_days', 'PFS_time_days']].describe()"
   ]
  },
  {
   "cell_type": "code",
   "execution_count": 13,
   "id": "e901b891-b370-4bff-82d4-07bf68496ea0",
   "metadata": {},
   "outputs": [
    {
     "data": {
      "text/plain": [
       "best_response\n",
       "CR             43\n",
       "CRh             2\n",
       "CRi            14\n",
       "MLFS           13\n",
       "PR/SD/PD/RD    18\n",
       "Name: Study_subject_Id, dtype: int64"
      ]
     },
     "execution_count": 13,
     "metadata": {},
     "output_type": "execute_result"
    }
   ],
   "source": [
    "patient_data.groupby('best_response').agg('count')['Study_subject_Id']"
   ]
  },
  {
   "cell_type": "code",
   "execution_count": 14,
   "id": "ed43da3e-da0a-4a5d-bf4f-70f394413fde",
   "metadata": {},
   "outputs": [
    {
     "data": {
      "text/plain": [
       "incl_dg_for_tables\n",
       "De novo / ND AML    48\n",
       "R/R AML             39\n",
       "sAML                17\n",
       "Name: Study_subject_Id, dtype: int64"
      ]
     },
     "execution_count": 14,
     "metadata": {},
     "output_type": "execute_result"
    }
   ],
   "source": [
    "patient_data.groupby('incl_dg_for_tables').agg('count')['Study_subject_Id']"
   ]
  },
  {
   "cell_type": "code",
   "execution_count": 15,
   "id": "a89ec801-d288-4d3a-b88e-3cc1a4297fe7",
   "metadata": {},
   "outputs": [
    {
     "data": {
      "text/html": [
       "<div>\n",
       "<style scoped>\n",
       "    .dataframe tbody tr th:only-of-type {\n",
       "        vertical-align: middle;\n",
       "    }\n",
       "\n",
       "    .dataframe tbody tr th {\n",
       "        vertical-align: top;\n",
       "    }\n",
       "\n",
       "    .dataframe thead th {\n",
       "        text-align: right;\n",
       "    }\n",
       "</style>\n",
       "<table border=\"1\" class=\"dataframe\">\n",
       "  <thead>\n",
       "    <tr style=\"text-align: right;\">\n",
       "      <th></th>\n",
       "      <th>neut</th>\n",
       "      <th>blast</th>\n",
       "      <th>cycle</th>\n",
       "    </tr>\n",
       "  </thead>\n",
       "  <tbody>\n",
       "    <tr>\n",
       "      <th>count</th>\n",
       "      <td>104.000000</td>\n",
       "      <td>104.000000</td>\n",
       "      <td>104.000000</td>\n",
       "    </tr>\n",
       "    <tr>\n",
       "      <th>mean</th>\n",
       "      <td>17.605769</td>\n",
       "      <td>5.451923</td>\n",
       "      <td>8.653846</td>\n",
       "    </tr>\n",
       "    <tr>\n",
       "      <th>std</th>\n",
       "      <td>15.616408</td>\n",
       "      <td>3.398686</td>\n",
       "      <td>9.434258</td>\n",
       "    </tr>\n",
       "    <tr>\n",
       "      <th>min</th>\n",
       "      <td>1.000000</td>\n",
       "      <td>1.000000</td>\n",
       "      <td>0.000000</td>\n",
       "    </tr>\n",
       "    <tr>\n",
       "      <th>25%</th>\n",
       "      <td>6.000000</td>\n",
       "      <td>3.000000</td>\n",
       "      <td>2.000000</td>\n",
       "    </tr>\n",
       "    <tr>\n",
       "      <th>50%</th>\n",
       "      <td>12.500000</td>\n",
       "      <td>5.000000</td>\n",
       "      <td>5.000000</td>\n",
       "    </tr>\n",
       "    <tr>\n",
       "      <th>75%</th>\n",
       "      <td>23.000000</td>\n",
       "      <td>8.000000</td>\n",
       "      <td>13.250000</td>\n",
       "    </tr>\n",
       "    <tr>\n",
       "      <th>max</th>\n",
       "      <td>59.000000</td>\n",
       "      <td>14.000000</td>\n",
       "      <td>37.000000</td>\n",
       "    </tr>\n",
       "  </tbody>\n",
       "</table>\n",
       "</div>"
      ],
      "text/plain": [
       "             neut       blast       cycle\n",
       "count  104.000000  104.000000  104.000000\n",
       "mean    17.605769    5.451923    8.653846\n",
       "std     15.616408    3.398686    9.434258\n",
       "min      1.000000    1.000000    0.000000\n",
       "25%      6.000000    3.000000    2.000000\n",
       "50%     12.500000    5.000000    5.000000\n",
       "75%     23.000000    8.000000   13.250000\n",
       "max     59.000000   14.000000   37.000000"
      ]
     },
     "execution_count": 15,
     "metadata": {},
     "output_type": "execute_result"
    }
   ],
   "source": [
    "all_patient_observation_counts.describe()"
   ]
  },
  {
   "cell_type": "markdown",
   "id": "3946bfb1-f062-4a9a-9763-808f7b84a890",
   "metadata": {},
   "source": [
    "## All ven/aza data\n",
    "\n",
    "Data for all patients with some ven/aza treatment."
   ]
  },
  {
   "cell_type": "code",
   "execution_count": 16,
   "id": "875e738a-649c-4081-9552-f74fdf6fa840",
   "metadata": {},
   "outputs": [],
   "source": [
    "ven_patients = patient_data[patient_data.no_ven_therapy=='No'].index"
   ]
  },
  {
   "cell_type": "code",
   "execution_count": 17,
   "id": "564d4b91-a54f-41ed-9c55-88684853ed6c",
   "metadata": {},
   "outputs": [
    {
     "name": "stdout",
     "output_type": "stream",
     "text": [
      "92\n"
     ]
    }
   ],
   "source": [
    "print(len(ven_patients))"
   ]
  },
  {
   "cell_type": "code",
   "execution_count": 18,
   "id": "9a54e67a-717a-4eb2-826b-b82aa2435aaa",
   "metadata": {},
   "outputs": [],
   "source": [
    "ven_patient_data = patient_data.loc[ven_patients]"
   ]
  },
  {
   "cell_type": "code",
   "execution_count": 19,
   "id": "4f6f9d5b-9f79-4ea3-b68d-898702195848",
   "metadata": {},
   "outputs": [
    {
     "data": {
      "text/html": [
       "<div>\n",
       "<style scoped>\n",
       "    .dataframe tbody tr th:only-of-type {\n",
       "        vertical-align: middle;\n",
       "    }\n",
       "\n",
       "    .dataframe tbody tr th {\n",
       "        vertical-align: top;\n",
       "    }\n",
       "\n",
       "    .dataframe thead th {\n",
       "        text-align: right;\n",
       "    }\n",
       "</style>\n",
       "<table border=\"1\" class=\"dataframe\">\n",
       "  <thead>\n",
       "    <tr style=\"text-align: right;\">\n",
       "      <th></th>\n",
       "      <th>Gender</th>\n",
       "      <th>age_group_scr</th>\n",
       "      <th>status</th>\n",
       "    </tr>\n",
       "  </thead>\n",
       "  <tbody>\n",
       "    <tr>\n",
       "      <th>count</th>\n",
       "      <td>92</td>\n",
       "      <td>92</td>\n",
       "      <td>92</td>\n",
       "    </tr>\n",
       "    <tr>\n",
       "      <th>unique</th>\n",
       "      <td>2</td>\n",
       "      <td>2</td>\n",
       "      <td>2</td>\n",
       "    </tr>\n",
       "    <tr>\n",
       "      <th>top</th>\n",
       "      <td>Male</td>\n",
       "      <td>75 years or younger</td>\n",
       "      <td>Exitus</td>\n",
       "    </tr>\n",
       "    <tr>\n",
       "      <th>freq</th>\n",
       "      <td>53</td>\n",
       "      <td>61</td>\n",
       "      <td>61</td>\n",
       "    </tr>\n",
       "  </tbody>\n",
       "</table>\n",
       "</div>"
      ],
      "text/plain": [
       "       Gender        age_group_scr  status\n",
       "count      92                   92      92\n",
       "unique      2                    2       2\n",
       "top      Male  75 years or younger  Exitus\n",
       "freq       53                   61      61"
      ]
     },
     "execution_count": 19,
     "metadata": {},
     "output_type": "execute_result"
    }
   ],
   "source": [
    "ven_patient_data[['Gender', 'age_group_scr', 'status']].describe()"
   ]
  },
  {
   "cell_type": "code",
   "execution_count": 20,
   "id": "fc018875-53ef-4b83-9f07-f5db508f5e7c",
   "metadata": {},
   "outputs": [
    {
     "data": {
      "text/html": [
       "<div>\n",
       "<style scoped>\n",
       "    .dataframe tbody tr th:only-of-type {\n",
       "        vertical-align: middle;\n",
       "    }\n",
       "\n",
       "    .dataframe tbody tr th {\n",
       "        vertical-align: top;\n",
       "    }\n",
       "\n",
       "    .dataframe thead th {\n",
       "        text-align: right;\n",
       "    }\n",
       "</style>\n",
       "<table border=\"1\" class=\"dataframe\">\n",
       "  <thead>\n",
       "    <tr style=\"text-align: right;\">\n",
       "      <th></th>\n",
       "      <th>OS_time_ven2_days</th>\n",
       "      <th>PFS_time_days</th>\n",
       "    </tr>\n",
       "  </thead>\n",
       "  <tbody>\n",
       "    <tr>\n",
       "      <th>count</th>\n",
       "      <td>92.000000</td>\n",
       "      <td>92.000000</td>\n",
       "    </tr>\n",
       "    <tr>\n",
       "      <th>mean</th>\n",
       "      <td>415.565217</td>\n",
       "      <td>292.967391</td>\n",
       "    </tr>\n",
       "    <tr>\n",
       "      <th>std</th>\n",
       "      <td>274.854739</td>\n",
       "      <td>273.417985</td>\n",
       "    </tr>\n",
       "    <tr>\n",
       "      <th>min</th>\n",
       "      <td>6.000000</td>\n",
       "      <td>1.000000</td>\n",
       "    </tr>\n",
       "    <tr>\n",
       "      <th>25%</th>\n",
       "      <td>181.750000</td>\n",
       "      <td>85.000000</td>\n",
       "    </tr>\n",
       "    <tr>\n",
       "      <th>50%</th>\n",
       "      <td>395.000000</td>\n",
       "      <td>232.500000</td>\n",
       "    </tr>\n",
       "    <tr>\n",
       "      <th>75%</th>\n",
       "      <td>603.750000</td>\n",
       "      <td>432.750000</td>\n",
       "    </tr>\n",
       "    <tr>\n",
       "      <th>max</th>\n",
       "      <td>1120.000000</td>\n",
       "      <td>1120.000000</td>\n",
       "    </tr>\n",
       "  </tbody>\n",
       "</table>\n",
       "</div>"
      ],
      "text/plain": [
       "       OS_time_ven2_days  PFS_time_days\n",
       "count          92.000000      92.000000\n",
       "mean          415.565217     292.967391\n",
       "std           274.854739     273.417985\n",
       "min             6.000000       1.000000\n",
       "25%           181.750000      85.000000\n",
       "50%           395.000000     232.500000\n",
       "75%           603.750000     432.750000\n",
       "max          1120.000000    1120.000000"
      ]
     },
     "execution_count": 20,
     "metadata": {},
     "output_type": "execute_result"
    }
   ],
   "source": [
    "ven_patient_data[['OS_time_ven2_days', 'PFS_time_days']].describe()"
   ]
  },
  {
   "cell_type": "code",
   "execution_count": 21,
   "id": "cde977f6-c017-4b7f-8f96-15f2a50eed00",
   "metadata": {},
   "outputs": [
    {
     "data": {
      "text/plain": [
       "best_response\n",
       "CR             43\n",
       "CRh             2\n",
       "CRi            14\n",
       "MLFS           13\n",
       "PR/SD/PD/RD    18\n",
       "Name: Study_subject_Id, dtype: int64"
      ]
     },
     "execution_count": 21,
     "metadata": {},
     "output_type": "execute_result"
    }
   ],
   "source": [
    "ven_patient_data.groupby('best_response').agg('count')['Study_subject_Id']"
   ]
  },
  {
   "cell_type": "code",
   "execution_count": 22,
   "id": "6af5cca6-72f0-4646-92d1-0d4b5a9327a8",
   "metadata": {},
   "outputs": [
    {
     "data": {
      "text/plain": [
       "incl_dg_for_tables\n",
       "De novo / ND AML    48\n",
       "R/R AML             32\n",
       "sAML                12\n",
       "Name: Study_subject_Id, dtype: int64"
      ]
     },
     "execution_count": 22,
     "metadata": {},
     "output_type": "execute_result"
    }
   ],
   "source": [
    "ven_patient_data.groupby('incl_dg_for_tables').agg('count')['Study_subject_Id']"
   ]
  },
  {
   "cell_type": "code",
   "execution_count": 23,
   "id": "a4794f78-8309-48ce-8b5f-4a9499038fb1",
   "metadata": {},
   "outputs": [
    {
     "data": {
      "text/html": [
       "<div>\n",
       "<style scoped>\n",
       "    .dataframe tbody tr th:only-of-type {\n",
       "        vertical-align: middle;\n",
       "    }\n",
       "\n",
       "    .dataframe tbody tr th {\n",
       "        vertical-align: top;\n",
       "    }\n",
       "\n",
       "    .dataframe thead th {\n",
       "        text-align: right;\n",
       "    }\n",
       "</style>\n",
       "<table border=\"1\" class=\"dataframe\">\n",
       "  <thead>\n",
       "    <tr style=\"text-align: right;\">\n",
       "      <th></th>\n",
       "      <th>neut</th>\n",
       "      <th>blast</th>\n",
       "      <th>cycle</th>\n",
       "    </tr>\n",
       "  </thead>\n",
       "  <tbody>\n",
       "    <tr>\n",
       "      <th>count</th>\n",
       "      <td>92.000000</td>\n",
       "      <td>92.000000</td>\n",
       "      <td>92.000000</td>\n",
       "    </tr>\n",
       "    <tr>\n",
       "      <th>mean</th>\n",
       "      <td>19.695652</td>\n",
       "      <td>6.021739</td>\n",
       "      <td>9.782609</td>\n",
       "    </tr>\n",
       "    <tr>\n",
       "      <th>std</th>\n",
       "      <td>15.416374</td>\n",
       "      <td>3.196764</td>\n",
       "      <td>9.464597</td>\n",
       "    </tr>\n",
       "    <tr>\n",
       "      <th>min</th>\n",
       "      <td>3.000000</td>\n",
       "      <td>1.000000</td>\n",
       "      <td>1.000000</td>\n",
       "    </tr>\n",
       "    <tr>\n",
       "      <th>25%</th>\n",
       "      <td>8.000000</td>\n",
       "      <td>4.000000</td>\n",
       "      <td>3.000000</td>\n",
       "    </tr>\n",
       "    <tr>\n",
       "      <th>50%</th>\n",
       "      <td>14.500000</td>\n",
       "      <td>5.000000</td>\n",
       "      <td>5.500000</td>\n",
       "    </tr>\n",
       "    <tr>\n",
       "      <th>75%</th>\n",
       "      <td>29.750000</td>\n",
       "      <td>8.000000</td>\n",
       "      <td>15.250000</td>\n",
       "    </tr>\n",
       "    <tr>\n",
       "      <th>max</th>\n",
       "      <td>59.000000</td>\n",
       "      <td>14.000000</td>\n",
       "      <td>37.000000</td>\n",
       "    </tr>\n",
       "  </tbody>\n",
       "</table>\n",
       "</div>"
      ],
      "text/plain": [
       "            neut      blast      cycle\n",
       "count  92.000000  92.000000  92.000000\n",
       "mean   19.695652   6.021739   9.782609\n",
       "std    15.416374   3.196764   9.464597\n",
       "min     3.000000   1.000000   1.000000\n",
       "25%     8.000000   4.000000   3.000000\n",
       "50%    14.500000   5.000000   5.500000\n",
       "75%    29.750000   8.000000  15.250000\n",
       "max    59.000000  14.000000  37.000000"
      ]
     },
     "execution_count": 23,
     "metadata": {},
     "output_type": "execute_result"
    }
   ],
   "source": [
    "all_patient_observation_counts.loc[ven_patients].describe()"
   ]
  },
  {
   "cell_type": "markdown",
   "id": "6eb879ba-4702-4c0c-b903-1a9481f50fce",
   "metadata": {},
   "source": [
    "## Modeling data\n",
    "\n",
    "This includes all patients with enough data for ODE modeling (5 points)"
   ]
  },
  {
   "cell_type": "code",
   "execution_count": 24,
   "id": "961627c8-a6ae-464b-8a63-e2d1388a2129",
   "metadata": {},
   "outputs": [],
   "source": [
    "modeling_patients = rmse_data_combined.index.unique()"
   ]
  },
  {
   "cell_type": "code",
   "execution_count": 25,
   "id": "020fe231-7cf0-45db-b7cf-0dfbdfa0b148",
   "metadata": {},
   "outputs": [
    {
     "name": "stdout",
     "output_type": "stream",
     "text": [
      "71\n"
     ]
    }
   ],
   "source": [
    "print(len(modeling_patients))"
   ]
  },
  {
   "cell_type": "code",
   "execution_count": 26,
   "id": "b3091930-a827-4ab2-bb8c-be373184c5ff",
   "metadata": {},
   "outputs": [],
   "source": [
    "modeling_patient_data = patient_data.loc[modeling_patients]"
   ]
  },
  {
   "cell_type": "code",
   "execution_count": 27,
   "id": "8b523311-e89a-41a8-997e-2e4143452400",
   "metadata": {},
   "outputs": [
    {
     "data": {
      "text/html": [
       "<div>\n",
       "<style scoped>\n",
       "    .dataframe tbody tr th:only-of-type {\n",
       "        vertical-align: middle;\n",
       "    }\n",
       "\n",
       "    .dataframe tbody tr th {\n",
       "        vertical-align: top;\n",
       "    }\n",
       "\n",
       "    .dataframe thead th {\n",
       "        text-align: right;\n",
       "    }\n",
       "</style>\n",
       "<table border=\"1\" class=\"dataframe\">\n",
       "  <thead>\n",
       "    <tr style=\"text-align: right;\">\n",
       "      <th></th>\n",
       "      <th>Gender</th>\n",
       "      <th>age_group_scr</th>\n",
       "      <th>status</th>\n",
       "    </tr>\n",
       "  </thead>\n",
       "  <tbody>\n",
       "    <tr>\n",
       "      <th>count</th>\n",
       "      <td>71</td>\n",
       "      <td>71</td>\n",
       "      <td>71</td>\n",
       "    </tr>\n",
       "    <tr>\n",
       "      <th>unique</th>\n",
       "      <td>2</td>\n",
       "      <td>2</td>\n",
       "      <td>2</td>\n",
       "    </tr>\n",
       "    <tr>\n",
       "      <th>top</th>\n",
       "      <td>Male</td>\n",
       "      <td>75 years or younger</td>\n",
       "      <td>Exitus</td>\n",
       "    </tr>\n",
       "    <tr>\n",
       "      <th>freq</th>\n",
       "      <td>40</td>\n",
       "      <td>47</td>\n",
       "      <td>41</td>\n",
       "    </tr>\n",
       "  </tbody>\n",
       "</table>\n",
       "</div>"
      ],
      "text/plain": [
       "       Gender        age_group_scr  status\n",
       "count      71                   71      71\n",
       "unique      2                    2       2\n",
       "top      Male  75 years or younger  Exitus\n",
       "freq       40                   47      41"
      ]
     },
     "execution_count": 27,
     "metadata": {},
     "output_type": "execute_result"
    }
   ],
   "source": [
    "modeling_patient_data[['Gender', 'age_group_scr', 'status']].describe()"
   ]
  },
  {
   "cell_type": "code",
   "execution_count": 28,
   "id": "6d43fd0d-4d89-48f9-bf06-e74b6896b918",
   "metadata": {},
   "outputs": [
    {
     "data": {
      "text/html": [
       "<div>\n",
       "<style scoped>\n",
       "    .dataframe tbody tr th:only-of-type {\n",
       "        vertical-align: middle;\n",
       "    }\n",
       "\n",
       "    .dataframe tbody tr th {\n",
       "        vertical-align: top;\n",
       "    }\n",
       "\n",
       "    .dataframe thead th {\n",
       "        text-align: right;\n",
       "    }\n",
       "</style>\n",
       "<table border=\"1\" class=\"dataframe\">\n",
       "  <thead>\n",
       "    <tr style=\"text-align: right;\">\n",
       "      <th></th>\n",
       "      <th>OS_time_ven2_days</th>\n",
       "      <th>PFS_time_days</th>\n",
       "    </tr>\n",
       "  </thead>\n",
       "  <tbody>\n",
       "    <tr>\n",
       "      <th>count</th>\n",
       "      <td>71.000000</td>\n",
       "      <td>71.000000</td>\n",
       "    </tr>\n",
       "    <tr>\n",
       "      <th>mean</th>\n",
       "      <td>493.309859</td>\n",
       "      <td>370.239437</td>\n",
       "    </tr>\n",
       "    <tr>\n",
       "      <th>std</th>\n",
       "      <td>245.786992</td>\n",
       "      <td>264.784142</td>\n",
       "    </tr>\n",
       "    <tr>\n",
       "      <th>min</th>\n",
       "      <td>105.000000</td>\n",
       "      <td>1.000000</td>\n",
       "    </tr>\n",
       "    <tr>\n",
       "      <th>25%</th>\n",
       "      <td>290.500000</td>\n",
       "      <td>158.000000</td>\n",
       "    </tr>\n",
       "    <tr>\n",
       "      <th>50%</th>\n",
       "      <td>466.000000</td>\n",
       "      <td>329.000000</td>\n",
       "    </tr>\n",
       "    <tr>\n",
       "      <th>75%</th>\n",
       "      <td>653.500000</td>\n",
       "      <td>539.000000</td>\n",
       "    </tr>\n",
       "    <tr>\n",
       "      <th>max</th>\n",
       "      <td>1120.000000</td>\n",
       "      <td>1120.000000</td>\n",
       "    </tr>\n",
       "  </tbody>\n",
       "</table>\n",
       "</div>"
      ],
      "text/plain": [
       "       OS_time_ven2_days  PFS_time_days\n",
       "count          71.000000      71.000000\n",
       "mean          493.309859     370.239437\n",
       "std           245.786992     264.784142\n",
       "min           105.000000       1.000000\n",
       "25%           290.500000     158.000000\n",
       "50%           466.000000     329.000000\n",
       "75%           653.500000     539.000000\n",
       "max          1120.000000    1120.000000"
      ]
     },
     "execution_count": 28,
     "metadata": {},
     "output_type": "execute_result"
    }
   ],
   "source": [
    "modeling_patient_data[['OS_time_ven2_days', 'PFS_time_days']].describe()"
   ]
  },
  {
   "cell_type": "code",
   "execution_count": 29,
   "id": "93736cf0-43b0-450f-9751-89f030193b81",
   "metadata": {},
   "outputs": [
    {
     "data": {
      "text/plain": [
       "best_response\n",
       "CR             41\n",
       "CRh             1\n",
       "CRi            14\n",
       "MLFS            9\n",
       "PR/SD/PD/RD     6\n",
       "Name: Study_subject_Id, dtype: int64"
      ]
     },
     "execution_count": 29,
     "metadata": {},
     "output_type": "execute_result"
    }
   ],
   "source": [
    "modeling_patient_data.groupby('best_response').agg('count')['Study_subject_Id']"
   ]
  },
  {
   "cell_type": "code",
   "execution_count": 30,
   "id": "6e6075f0-a587-4d45-8cc1-324dce01cedc",
   "metadata": {},
   "outputs": [
    {
     "data": {
      "text/plain": [
       "incl_dg_for_tables\n",
       "De novo / ND AML    40\n",
       "R/R AML             22\n",
       "sAML                 9\n",
       "Name: Study_subject_Id, dtype: int64"
      ]
     },
     "execution_count": 30,
     "metadata": {},
     "output_type": "execute_result"
    }
   ],
   "source": [
    "modeling_patient_data.groupby('incl_dg_for_tables').agg('count')['Study_subject_Id']"
   ]
  },
  {
   "cell_type": "code",
   "execution_count": 31,
   "id": "a909f2c1-b22b-4726-bc44-87127218c4c2",
   "metadata": {},
   "outputs": [
    {
     "data": {
      "text/html": [
       "<div>\n",
       "<style scoped>\n",
       "    .dataframe tbody tr th:only-of-type {\n",
       "        vertical-align: middle;\n",
       "    }\n",
       "\n",
       "    .dataframe tbody tr th {\n",
       "        vertical-align: top;\n",
       "    }\n",
       "\n",
       "    .dataframe thead th {\n",
       "        text-align: right;\n",
       "    }\n",
       "</style>\n",
       "<table border=\"1\" class=\"dataframe\">\n",
       "  <thead>\n",
       "    <tr style=\"text-align: right;\">\n",
       "      <th></th>\n",
       "      <th>neut</th>\n",
       "      <th>blast</th>\n",
       "      <th>cycle</th>\n",
       "    </tr>\n",
       "  </thead>\n",
       "  <tbody>\n",
       "    <tr>\n",
       "      <th>count</th>\n",
       "      <td>71.000000</td>\n",
       "      <td>71.000000</td>\n",
       "      <td>71.000000</td>\n",
       "    </tr>\n",
       "    <tr>\n",
       "      <th>mean</th>\n",
       "      <td>23.746479</td>\n",
       "      <td>6.957746</td>\n",
       "      <td>12.183099</td>\n",
       "    </tr>\n",
       "    <tr>\n",
       "      <th>std</th>\n",
       "      <td>15.286519</td>\n",
       "      <td>2.915165</td>\n",
       "      <td>9.527869</td>\n",
       "    </tr>\n",
       "    <tr>\n",
       "      <th>min</th>\n",
       "      <td>3.000000</td>\n",
       "      <td>2.000000</td>\n",
       "      <td>2.000000</td>\n",
       "    </tr>\n",
       "    <tr>\n",
       "      <th>25%</th>\n",
       "      <td>11.000000</td>\n",
       "      <td>5.000000</td>\n",
       "      <td>4.500000</td>\n",
       "    </tr>\n",
       "    <tr>\n",
       "      <th>50%</th>\n",
       "      <td>19.000000</td>\n",
       "      <td>6.000000</td>\n",
       "      <td>9.000000</td>\n",
       "    </tr>\n",
       "    <tr>\n",
       "      <th>75%</th>\n",
       "      <td>36.000000</td>\n",
       "      <td>8.000000</td>\n",
       "      <td>19.000000</td>\n",
       "    </tr>\n",
       "    <tr>\n",
       "      <th>max</th>\n",
       "      <td>59.000000</td>\n",
       "      <td>14.000000</td>\n",
       "      <td>37.000000</td>\n",
       "    </tr>\n",
       "  </tbody>\n",
       "</table>\n",
       "</div>"
      ],
      "text/plain": [
       "            neut      blast      cycle\n",
       "count  71.000000  71.000000  71.000000\n",
       "mean   23.746479   6.957746  12.183099\n",
       "std    15.286519   2.915165   9.527869\n",
       "min     3.000000   2.000000   2.000000\n",
       "25%    11.000000   5.000000   4.500000\n",
       "50%    19.000000   6.000000   9.000000\n",
       "75%    36.000000   8.000000  19.000000\n",
       "max    59.000000  14.000000  37.000000"
      ]
     },
     "execution_count": 31,
     "metadata": {},
     "output_type": "execute_result"
    }
   ],
   "source": [
    "all_patient_observation_counts.loc[modeling_patients].describe()"
   ]
  },
  {
   "cell_type": "markdown",
   "id": "9d185462-7111-44b7-9078-cd1f2275e0b4",
   "metadata": {},
   "source": [
    "## Train/test data\n",
    "\n",
    "This includes all patients with enough data for the train/test split."
   ]
  },
  {
   "cell_type": "code",
   "execution_count": 32,
   "id": "396ff4dc-e4cc-48b8-bcd4-10f5479839fc",
   "metadata": {},
   "outputs": [],
   "source": [
    "train_test_patients = patient_cycle_train_table.index.unique()"
   ]
  },
  {
   "cell_type": "code",
   "execution_count": 33,
   "id": "c96b1213-0329-4652-8e4c-7067a3c0d077",
   "metadata": {},
   "outputs": [
    {
     "name": "stdout",
     "output_type": "stream",
     "text": [
      "33\n"
     ]
    }
   ],
   "source": [
    "print(len(train_test_patients))"
   ]
  },
  {
   "cell_type": "code",
   "execution_count": 34,
   "id": "776d9a4e-caef-40c1-8bbc-3d66794d3d2c",
   "metadata": {},
   "outputs": [],
   "source": [
    "train_test_patient_data = patient_data.loc[train_test_patients]"
   ]
  },
  {
   "cell_type": "code",
   "execution_count": 35,
   "id": "a246872b-1c40-4337-81d1-e0f93792acfd",
   "metadata": {},
   "outputs": [
    {
     "data": {
      "text/html": [
       "<div>\n",
       "<style scoped>\n",
       "    .dataframe tbody tr th:only-of-type {\n",
       "        vertical-align: middle;\n",
       "    }\n",
       "\n",
       "    .dataframe tbody tr th {\n",
       "        vertical-align: top;\n",
       "    }\n",
       "\n",
       "    .dataframe thead th {\n",
       "        text-align: right;\n",
       "    }\n",
       "</style>\n",
       "<table border=\"1\" class=\"dataframe\">\n",
       "  <thead>\n",
       "    <tr style=\"text-align: right;\">\n",
       "      <th></th>\n",
       "      <th>Gender</th>\n",
       "      <th>age_group_scr</th>\n",
       "      <th>status</th>\n",
       "    </tr>\n",
       "  </thead>\n",
       "  <tbody>\n",
       "    <tr>\n",
       "      <th>count</th>\n",
       "      <td>33</td>\n",
       "      <td>33</td>\n",
       "      <td>33</td>\n",
       "    </tr>\n",
       "    <tr>\n",
       "      <th>unique</th>\n",
       "      <td>2</td>\n",
       "      <td>2</td>\n",
       "      <td>2</td>\n",
       "    </tr>\n",
       "    <tr>\n",
       "      <th>top</th>\n",
       "      <td>Male</td>\n",
       "      <td>75 years or younger</td>\n",
       "      <td>Alive</td>\n",
       "    </tr>\n",
       "    <tr>\n",
       "      <th>freq</th>\n",
       "      <td>20</td>\n",
       "      <td>22</td>\n",
       "      <td>20</td>\n",
       "    </tr>\n",
       "  </tbody>\n",
       "</table>\n",
       "</div>"
      ],
      "text/plain": [
       "       Gender        age_group_scr status\n",
       "count      33                   33     33\n",
       "unique      2                    2      2\n",
       "top      Male  75 years or younger  Alive\n",
       "freq       20                   22     20"
      ]
     },
     "execution_count": 35,
     "metadata": {},
     "output_type": "execute_result"
    }
   ],
   "source": [
    "train_test_patient_data[['Gender', 'age_group_scr', 'status']].describe()"
   ]
  },
  {
   "cell_type": "code",
   "execution_count": 36,
   "id": "6a02156d-659b-4f45-889e-69ada0e25e47",
   "metadata": {},
   "outputs": [
    {
     "data": {
      "text/html": [
       "<div>\n",
       "<style scoped>\n",
       "    .dataframe tbody tr th:only-of-type {\n",
       "        vertical-align: middle;\n",
       "    }\n",
       "\n",
       "    .dataframe tbody tr th {\n",
       "        vertical-align: top;\n",
       "    }\n",
       "\n",
       "    .dataframe thead th {\n",
       "        text-align: right;\n",
       "    }\n",
       "</style>\n",
       "<table border=\"1\" class=\"dataframe\">\n",
       "  <thead>\n",
       "    <tr style=\"text-align: right;\">\n",
       "      <th></th>\n",
       "      <th>OS_time_ven2_days</th>\n",
       "      <th>PFS_time_days</th>\n",
       "    </tr>\n",
       "  </thead>\n",
       "  <tbody>\n",
       "    <tr>\n",
       "      <th>count</th>\n",
       "      <td>33.000000</td>\n",
       "      <td>33.00000</td>\n",
       "    </tr>\n",
       "    <tr>\n",
       "      <th>mean</th>\n",
       "      <td>614.636364</td>\n",
       "      <td>534.30303</td>\n",
       "    </tr>\n",
       "    <tr>\n",
       "      <th>std</th>\n",
       "      <td>223.354793</td>\n",
       "      <td>246.73651</td>\n",
       "    </tr>\n",
       "    <tr>\n",
       "      <th>min</th>\n",
       "      <td>249.000000</td>\n",
       "      <td>215.00000</td>\n",
       "    </tr>\n",
       "    <tr>\n",
       "      <th>25%</th>\n",
       "      <td>442.000000</td>\n",
       "      <td>344.00000</td>\n",
       "    </tr>\n",
       "    <tr>\n",
       "      <th>50%</th>\n",
       "      <td>585.000000</td>\n",
       "      <td>533.00000</td>\n",
       "    </tr>\n",
       "    <tr>\n",
       "      <th>75%</th>\n",
       "      <td>702.000000</td>\n",
       "      <td>673.00000</td>\n",
       "    </tr>\n",
       "    <tr>\n",
       "      <th>max</th>\n",
       "      <td>1120.000000</td>\n",
       "      <td>1120.00000</td>\n",
       "    </tr>\n",
       "  </tbody>\n",
       "</table>\n",
       "</div>"
      ],
      "text/plain": [
       "       OS_time_ven2_days  PFS_time_days\n",
       "count          33.000000       33.00000\n",
       "mean          614.636364      534.30303\n",
       "std           223.354793      246.73651\n",
       "min           249.000000      215.00000\n",
       "25%           442.000000      344.00000\n",
       "50%           585.000000      533.00000\n",
       "75%           702.000000      673.00000\n",
       "max          1120.000000     1120.00000"
      ]
     },
     "execution_count": 36,
     "metadata": {},
     "output_type": "execute_result"
    }
   ],
   "source": [
    "train_test_patient_data[['OS_time_ven2_days', 'PFS_time_days']].describe()"
   ]
  },
  {
   "cell_type": "code",
   "execution_count": 37,
   "id": "b6fbd042-b44e-45da-826c-fec97d9c218d",
   "metadata": {},
   "outputs": [
    {
     "data": {
      "text/plain": [
       "best_response\n",
       "CR      24\n",
       "CRi      8\n",
       "MLFS     1\n",
       "Name: Study_subject_Id, dtype: int64"
      ]
     },
     "execution_count": 37,
     "metadata": {},
     "output_type": "execute_result"
    }
   ],
   "source": [
    "train_test_patient_data.groupby('best_response').agg('count')['Study_subject_Id']"
   ]
  },
  {
   "cell_type": "code",
   "execution_count": 38,
   "id": "91d6470c-81aa-444b-bf1d-abd8008ed70f",
   "metadata": {},
   "outputs": [
    {
     "data": {
      "text/plain": [
       "incl_dg_for_tables\n",
       "De novo / ND AML    25\n",
       "R/R AML              6\n",
       "sAML                 2\n",
       "Name: Study_subject_Id, dtype: int64"
      ]
     },
     "execution_count": 38,
     "metadata": {},
     "output_type": "execute_result"
    }
   ],
   "source": [
    "train_test_patient_data.groupby('incl_dg_for_tables').agg('count')['Study_subject_Id']"
   ]
  },
  {
   "cell_type": "code",
   "execution_count": 39,
   "id": "fde0bd74-d541-469e-8657-25ff18b6281f",
   "metadata": {},
   "outputs": [
    {
     "data": {
      "text/html": [
       "<div>\n",
       "<style scoped>\n",
       "    .dataframe tbody tr th:only-of-type {\n",
       "        vertical-align: middle;\n",
       "    }\n",
       "\n",
       "    .dataframe tbody tr th {\n",
       "        vertical-align: top;\n",
       "    }\n",
       "\n",
       "    .dataframe thead th {\n",
       "        text-align: right;\n",
       "    }\n",
       "</style>\n",
       "<table border=\"1\" class=\"dataframe\">\n",
       "  <thead>\n",
       "    <tr style=\"text-align: right;\">\n",
       "      <th></th>\n",
       "      <th>neut</th>\n",
       "      <th>blast</th>\n",
       "      <th>cycle</th>\n",
       "    </tr>\n",
       "  </thead>\n",
       "  <tbody>\n",
       "    <tr>\n",
       "      <th>count</th>\n",
       "      <td>33.000000</td>\n",
       "      <td>33.000000</td>\n",
       "      <td>33.000000</td>\n",
       "    </tr>\n",
       "    <tr>\n",
       "      <th>mean</th>\n",
       "      <td>33.090909</td>\n",
       "      <td>8.424242</td>\n",
       "      <td>18.181818</td>\n",
       "    </tr>\n",
       "    <tr>\n",
       "      <th>std</th>\n",
       "      <td>14.725326</td>\n",
       "      <td>2.872611</td>\n",
       "      <td>9.254913</td>\n",
       "    </tr>\n",
       "    <tr>\n",
       "      <th>min</th>\n",
       "      <td>11.000000</td>\n",
       "      <td>4.000000</td>\n",
       "      <td>7.000000</td>\n",
       "    </tr>\n",
       "    <tr>\n",
       "      <th>25%</th>\n",
       "      <td>19.000000</td>\n",
       "      <td>6.000000</td>\n",
       "      <td>10.000000</td>\n",
       "    </tr>\n",
       "    <tr>\n",
       "      <th>50%</th>\n",
       "      <td>33.000000</td>\n",
       "      <td>8.000000</td>\n",
       "      <td>16.000000</td>\n",
       "    </tr>\n",
       "    <tr>\n",
       "      <th>75%</th>\n",
       "      <td>45.000000</td>\n",
       "      <td>10.000000</td>\n",
       "      <td>25.000000</td>\n",
       "    </tr>\n",
       "    <tr>\n",
       "      <th>max</th>\n",
       "      <td>59.000000</td>\n",
       "      <td>14.000000</td>\n",
       "      <td>37.000000</td>\n",
       "    </tr>\n",
       "  </tbody>\n",
       "</table>\n",
       "</div>"
      ],
      "text/plain": [
       "            neut      blast      cycle\n",
       "count  33.000000  33.000000  33.000000\n",
       "mean   33.090909   8.424242  18.181818\n",
       "std    14.725326   2.872611   9.254913\n",
       "min    11.000000   4.000000   7.000000\n",
       "25%    19.000000   6.000000  10.000000\n",
       "50%    33.000000   8.000000  16.000000\n",
       "75%    45.000000  10.000000  25.000000\n",
       "max    59.000000  14.000000  37.000000"
      ]
     },
     "execution_count": 39,
     "metadata": {},
     "output_type": "execute_result"
    }
   ],
   "source": [
    "all_patient_observation_counts.loc[train_test_patients].describe()"
   ]
  },
  {
   "cell_type": "code",
   "execution_count": null,
   "id": "4ee3f2a6-fbb5-42cb-b7c8-3cfe333919fd",
   "metadata": {},
   "outputs": [],
   "source": []
  }
 ],
 "metadata": {
  "kernelspec": {
   "display_name": "Python 3 (ipykernel)",
   "language": "python",
   "name": "python3"
  },
  "language_info": {
   "codemirror_mode": {
    "name": "ipython",
    "version": 3
   },
   "file_extension": ".py",
   "mimetype": "text/x-python",
   "name": "python",
   "nbconvert_exporter": "python",
   "pygments_lexer": "ipython3",
   "version": "3.10.6"
  }
 },
 "nbformat": 4,
 "nbformat_minor": 5
}
